{
 "cells": [
  {
   "cell_type": "code",
   "execution_count": 241,
   "metadata": {},
   "outputs": [],
   "source": [
    "import pandas as pd\n",
    "import json\n",
    "import eval_metrics as em\n",
    "import matplotlib.pyplot as plt\n",
    "import numpy as np\n",
    "from sklearn.metrics import accuracy_score\n",
    "from sklearn.metrics import recall_score\n",
    "from sklearn.metrics import f1_score\n",
    "import seaborn as sns\n",
    "from sklearn.metrics import balanced_accuracy_score"
   ]
  },
  {
   "cell_type": "code",
   "execution_count": 191,
   "metadata": {},
   "outputs": [],
   "source": [
    "def get_results(folder_path):\n",
    "    pred_data = pd.read_csv(f'./{folder_path}/pred.csv', names=[\"neutral\", \"happy\", \"angry\", \"sad\"])\n",
    "    truth_data = pd.read_csv(f'./{folder_path}/truth.csv', names=[\"neutral\", \"happy\", \"angry\", \"sad\"])\n",
    "    log = json.load(open(f'./{folder_path}/log.json'))\n",
    "    pred = pred_data.values.tolist()\n",
    "    truth = truth_data.values.tolist()\n",
    "    return pred, truth, log"
   ]
  },
  {
   "cell_type": "code",
   "execution_count": 192,
   "metadata": {},
   "outputs": [],
   "source": [
    "def get_eval(pred, truth):\n",
    "    KL_dist = []\n",
    "    R_square = []\n",
    "    BC = []\n",
    "    JS_distance = []\n",
    "    for i in range(len(pred)):\n",
    "        KL_dist.append(round(em.KL(pred[i], truth[i]),6))\n",
    "        b_coefficient = em.BC(pred[i], truth[i])\n",
    "        BC.append(round(b_coefficient,6))\n",
    "        R_square.append(round(em.R(pred[i], truth[i]),6))\n",
    "        JS_distance.append(round(em.js_distance(pred[i], truth[i]),6))\n",
    "\n",
    "    eval_metrics = pd.DataFrame({\n",
    "        'ground_truth': truth,\n",
    "        'prediction': pred,\n",
    "        'KL': KL_dist,\n",
    "        'BC': BC,\n",
    "        'R_square': R_square,\n",
    "        'JS': JS_distance\n",
    "    })\n",
    "    eval_metrics['KL_std'] = round((eval_metrics['KL'] - eval_metrics['KL'].min()) / (eval_metrics['KL'].max() - eval_metrics['KL'].min()),6)\n",
    "    return eval_metrics"
   ]
  },
  {
   "cell_type": "code",
   "execution_count": 193,
   "metadata": {},
   "outputs": [],
   "source": [
    "def cal_entropy(emo_probs):\n",
    "    emo_probs = np.array(emo_probs)\n",
    "    non_0_probs = emo_probs[emo_probs > 0]\n",
    "    entropy = abs(np.sum(non_0_probs*np.log2(non_0_probs)))\n",
    "    return round(entropy,4)\n",
    "\n",
    "def add_entropy(eval_metrics):\n",
    "    entropy = []\n",
    "    for i in range(len(eval_metrics)):\n",
    "        entropy.append(cal_entropy(eval_metrics.iloc[i,0]))\n",
    "    eval_metrics['entropy'] = entropy\n",
    "    return eval_metrics"
   ]
  },
  {
   "cell_type": "markdown",
   "metadata": {},
   "source": [
    "Entropy Table\n",
    "* ground truth = [1.0, 0.0, 0.0, 0.9], entropy = 0\n",
    "* ground truth = [0.33, 0.67, 0.0, 0.0], entropy = 0.9149\n",
    "* ground truth = [0.33, 0.33, 0.0, 0.33], entropy = 1.5835\n",
    "* ground truth = [0.25,0.25,0.25,0.25], entropy = 2.0"
   ]
  },
  {
   "cell_type": "markdown",
   "metadata": {},
   "source": [
    "* KL: Lower is better\n",
    "* BC: Larger is better\n",
    "* R^2: Larger is better"
   ]
  },
  {
   "cell_type": "code",
   "execution_count": 194,
   "metadata": {},
   "outputs": [],
   "source": [
    "def entropy_vs_evalmetrics(data):\n",
    "    labels = sorted(data['entropy'].unique())\n",
    "    grouped_KL = [data[data['entropy'] == entropy][\"KL_std\"].values for entropy in sorted(data['entropy'].unique())]\n",
    "\n",
    "    for i in range(len(labels)):\n",
    "        print(\"Number of instances for entropy = \", labels[i], \": \", len(grouped_KL[i]))\n",
    "    \n",
    "    plt.figure(facecolor='white')\n",
    "\n",
    "    fig, axs = plt.subplots(1, 3, figsize=(15, 5))\n",
    "    ax = plt.gca()\n",
    "    ax.set_facecolor('white')\n",
    "    axs[0].boxplot(grouped_KL, labels = labels)\n",
    "    axs[0].set_title('KL Divergence')\n",
    "\n",
    "    grouped_BC = [data[data['entropy'] == entropy][\"BC\"].values for entropy in sorted(data['entropy'].unique())]\n",
    "    axs[1].boxplot(grouped_BC, labels = labels)\n",
    "    axs[1].set_title('BC')\n",
    "\n",
    "    grouped_R = [data[data['entropy'] == entropy][\"R_square\"].values for entropy in sorted(data['entropy'].unique())]\n",
    "    axs[2].boxplot(grouped_R, labels = labels)\n",
    "    axs[2].set_title('R Square')"
   ]
  },
  {
   "cell_type": "code",
   "execution_count": null,
   "metadata": {},
   "outputs": [],
   "source": []
  },
  {
   "cell_type": "code",
   "execution_count": 195,
   "metadata": {},
   "outputs": [],
   "source": [
    "def js_distance(p, q):\n",
    "    # Calculate M as the average of P and Q\n",
    "    p= np.asarray(p, dtype=np.float64)\n",
    "    q = np.asarray(q, dtype=np.float64)\n",
    "\n",
    "    m = 0.5 * (p + q)\n",
    "    \n",
    "    # Calculate JS Divergence\n",
    "\n",
    "    js_divergence = 0.5 * em.KL(p, m) + 0.5 * em.KL(q, m)\n",
    "\n",
    "    return np.sqrt(js_divergence)"
   ]
  },
  {
   "cell_type": "code",
   "execution_count": 196,
   "metadata": {},
   "outputs": [
    {
     "ename": "NameError",
     "evalue": "name 'predts' is not defined",
     "output_type": "error",
     "traceback": [
      "\u001b[0;31m---------------------------------------------------------------------------\u001b[0m",
      "\u001b[0;31mNameError\u001b[0m                                 Traceback (most recent call last)",
      "\u001b[0;32m/var/folders/gk/b497571d49ndglvgyk5sb53h0000gn/T/ipykernel_68834/228217150.py\u001b[0m in \u001b[0;36m<module>\u001b[0;34m\u001b[0m\n\u001b[1;32m      1\u001b[0m \u001b[0mjs\u001b[0m \u001b[0;34m=\u001b[0m \u001b[0;34m[\u001b[0m\u001b[0;34m]\u001b[0m\u001b[0;34m\u001b[0m\u001b[0;34m\u001b[0m\u001b[0m\n\u001b[0;32m----> 2\u001b[0;31m \u001b[0;32mfor\u001b[0m \u001b[0mi\u001b[0m \u001b[0;32min\u001b[0m \u001b[0mrange\u001b[0m\u001b[0;34m(\u001b[0m\u001b[0mlen\u001b[0m\u001b[0;34m(\u001b[0m\u001b[0mpredts\u001b[0m\u001b[0;34m)\u001b[0m\u001b[0;34m)\u001b[0m\u001b[0;34m:\u001b[0m\u001b[0;34m\u001b[0m\u001b[0;34m\u001b[0m\u001b[0m\n\u001b[0m\u001b[1;32m      3\u001b[0m     \u001b[0mjs\u001b[0m\u001b[0;34m.\u001b[0m\u001b[0mappend\u001b[0m\u001b[0;34m(\u001b[0m\u001b[0mjs_distance\u001b[0m\u001b[0;34m(\u001b[0m\u001b[0mpredts\u001b[0m\u001b[0;34m[\u001b[0m\u001b[0mi\u001b[0m\u001b[0;34m]\u001b[0m\u001b[0;34m,\u001b[0m \u001b[0mtruthts\u001b[0m\u001b[0;34m[\u001b[0m\u001b[0mi\u001b[0m\u001b[0;34m]\u001b[0m\u001b[0;34m)\u001b[0m\u001b[0;34m)\u001b[0m\u001b[0;34m\u001b[0m\u001b[0;34m\u001b[0m\u001b[0m\n\u001b[1;32m      4\u001b[0m \u001b[0mnp\u001b[0m\u001b[0;34m.\u001b[0m\u001b[0mmean\u001b[0m\u001b[0;34m(\u001b[0m\u001b[0mjs\u001b[0m\u001b[0;34m)\u001b[0m\u001b[0;34m\u001b[0m\u001b[0;34m\u001b[0m\u001b[0m\n",
      "\u001b[0;31mNameError\u001b[0m: name 'predts' is not defined"
     ]
    }
   ],
   "source": [
    "js = []\n",
    "for i in range(len(predts)):\n",
    "    js.append(js_distance(predts[i], truthts[i]))\n",
    "np.mean(js)"
   ]
  },
  {
   "cell_type": "markdown",
   "metadata": {},
   "source": [
    "ACC"
   ]
  },
  {
   "cell_type": "code",
   "execution_count": 197,
   "metadata": {},
   "outputs": [],
   "source": [
    "def majority_agree(pred, truth):\n",
    "     maj_pred_label = []\n",
    "     maj_truth_label = []\n",
    "     maj_pred_prob = []\n",
    "     maj_truth_prob = []\n",
    "     for i in range(len(pred)):\n",
    "          maj_pred_prob.append(max(pred[i]))\n",
    "          maj_truth_prob.append(max(truth[i]))\n",
    "\n",
    "          maj_pred_label.append(np.argmax(pred[i]))\n",
    "          maj_truth_label.append(np.argmax(truth[i]))\n",
    "\n",
    "     return maj_pred_prob, maj_truth_prob, maj_pred_label, maj_truth_label"
   ]
  },
  {
   "cell_type": "markdown",
   "metadata": {},
   "source": [
    "Expected calibration error"
   ]
  },
  {
   "cell_type": "code",
   "execution_count": 198,
   "metadata": {},
   "outputs": [],
   "source": [
    "def ECE(samples, trues, n_bims = 5):\n",
    "    # uniform binning approach with M number of bins\n",
    "    bin_boundaries = np.linspace(0, 1, n_bims + 1)\n",
    "    bin_lowers = bin_boundaries[:-1]\n",
    "    bin_uppers = bin_boundaries[1:]\n",
    "\n",
    "    # get max probability per sample i\n",
    "    confidences = np.max(samples, axis=1)\n",
    "    # get predictions from confidences (positional in this case)\n",
    "    predicted_label = np.argmax(samples, axis=1)\n",
    "    true_labels = np.argmax(trues, axis=1)\n",
    "    \n",
    "    # get a boolean list of correct/false predictions\n",
    "    accuracies = predicted_label==true_labels\n",
    "\n",
    "    ece = np.zeros(1)\n",
    "    for bin_lower, bin_upper in zip(bin_lowers, bin_uppers):\n",
    "        # determine if sample is in bin m (between bin lower & upper)\n",
    "        in_bin = np.logical_and(confidences > bin_lower.item(), confidences <= bin_upper.item())\n",
    "        # can calculate the empirical probability of a sample falling into bin m: (|Bm|/n)\n",
    "        prob_in_bin = in_bin.mean()\n",
    "\n",
    "        if prob_in_bin.item() > 0:\n",
    "            # get the accuracy of bin m: acc(Bm)\n",
    "            accuracy_in_bin = accuracies[in_bin].mean()\n",
    "            # get the average confidence of bin m: conf(Bm)\n",
    "            avg_confidence_in_bin = confidences[in_bin].mean()\n",
    "            # calculate |acc(Bm) - conf(Bm)| * (|Bm|/n) for bin m and add to the total ECE\n",
    "            ece += np.abs(avg_confidence_in_bin - accuracy_in_bin) * prob_in_bin\n",
    "    return ece"
   ]
  },
  {
   "cell_type": "code",
   "execution_count": 199,
   "metadata": {},
   "outputs": [],
   "source": [
    "def whole_eval(path):\n",
    "    path = path\n",
    "    pred, truth, log = get_results(path)\n",
    "    eval_metric = get_eval(pred, truth)\n",
    "    # add entropy column\n",
    "    eval_metric = add_entropy(eval_metric)\n",
    "    entropy_vs_evalmetrics(eval_metric)\n",
    "    print(\"Mean of JS\", round(eval_metric['JS'].mean(),2))\n",
    "    print(\"Mean of BC score: \", round(eval_metric['BC'].mean(),2))\n",
    "    print(\"Mean of R square: \", round(eval_metric['R_square'].mean(),2))\n",
    "    pred = np.array(pred)\n",
    "    truth = np.array(truth)\n",
    "    maj_pred_prob, maj_truth_prob, maj_pred_label, maj_truth_label = majority_agree(pred, truth)\n",
    "    ece = ECE(pred, truth)\n",
    "    acc = accuracy_score(maj_truth_label, maj_pred_label)\n",
    "    print(\"ECE: \", round(ece[0]*100,2))\n",
    "    print(\"UAC: \", round(acc*100,2))\n",
    "    w_f1 = f1_score(maj_truth_label, maj_pred_label, average='weighted')\n",
    "    print(\"Weighted F1: \", round(w_f1*100,2))\n",
    "    return eval_metric"
   ]
  },
  {
   "cell_type": "code",
   "execution_count": 200,
   "metadata": {},
   "outputs": [],
   "source": [
    "def cal_vote_by_entropy(d):\n",
    "    d['true'] = d['ground_truth'].apply(lambda x: np.argmax(x))\n",
    "    d['pred'] = d['prediction'].apply(lambda x: np.argmax(x))\n",
    "    d = d[d['entropy'].apply(lambda x:x!= 1.5835)]\n",
    "\n",
    "    print(\"overall acc: \", round((d['true'] == d['pred']).mean()*100,2))\n",
    "    print(\"overall W-F1: \", round(f1_score(d['true'], d['pred'], average='weighted')*100,2))\n",
    "    d_e = d.groupby('entropy')\n",
    "\n",
    "    acc_by_entropy = d_e.apply(lambda x: round((x['true'] == x['pred']).mean()*100,2))\n",
    "    acc_by_entropy.columns = ['entropy', 'accuracy']\n",
    "    print(\"entropy = 0.0: acc = \", acc_by_entropy[0])\n",
    "    print(\"entropy = 0.9149: acc = \", acc_by_entropy[0.9149])\n",
    "    \n",
    "    f1_by_group = d_e.apply(lambda x: round(f1_score(x['true'], x['pred'], average='weighted')*100,2))\n",
    "    print(\"entropy = 0.0: W-F1 = :\", f1_by_group[0])\n",
    "    print(\"entropy = 0.9149: W-F1 = \", f1_by_group[0.9149])\n",
    "\n"
   ]
  },
  {
   "cell_type": "code",
   "execution_count": 178,
   "metadata": {},
   "outputs": [
    {
     "name": "stderr",
     "output_type": "stream",
     "text": [
      "/Users/macbookpro/Documents/Research Project/LLM_Ambiguous_Emotion/eval_metrics.py:12: RuntimeWarning: divide by zero encountered in log\n",
      "  KL_value = np.sum(np.where(a != 0, a * np.log(a / b), 0))\n",
      "/Users/macbookpro/Documents/Research Project/LLM_Ambiguous_Emotion/eval_metrics.py:12: RuntimeWarning: invalid value encountered in multiply\n",
      "  KL_value = np.sum(np.where(a != 0, a * np.log(a / b), 0))\n"
     ]
    },
    {
     "name": "stdout",
     "output_type": "stream",
     "text": [
      "Number of instances for entropy =  0.0 :  2410\n",
      "Number of instances for entropy =  0.9149 :  1813\n",
      "Number of instances for entropy =  1.5835 :  147\n",
      "Mean of JS 0.51\n",
      "Mean of BC score:  0.45\n",
      "Mean of R square:  0.49\n",
      "ECE:  57.05\n",
      "UAC:  41.42\n",
      "Weighted F1:  40.33\n"
     ]
    },
    {
     "data": {
      "text/plain": [
       "<Figure size 432x288 with 0 Axes>"
      ]
     },
     "metadata": {},
     "output_type": "display_data"
    },
    {
     "data": {
      "image/png": "[encoded data removed]",
      "text/plain": [
       "<Figure size 1080x360 with 3 Axes>"
      ]
     },
     "metadata": {
      "needs_background": "light"
     },
     "output_type": "display_data"
    }
   ],
   "source": [
    "a = whole_eval(\"prediction/0825_context30\")"
   ]
  },
  {
   "cell_type": "code",
   "execution_count": 179,
   "metadata": {},
   "outputs": [
    {
     "name": "stderr",
     "output_type": "stream",
     "text": [
      "/Users/macbookpro/Documents/Research Project/LLM_Ambiguous_Emotion/eval_metrics.py:12: RuntimeWarning: divide by zero encountered in log\n",
      "  KL_value = np.sum(np.where(a != 0, a * np.log(a / b), 0))\n",
      "/Users/macbookpro/Documents/Research Project/LLM_Ambiguous_Emotion/eval_metrics.py:12: RuntimeWarning: invalid value encountered in multiply\n",
      "  KL_value = np.sum(np.where(a != 0, a * np.log(a / b), 0))\n"
     ]
    },
    {
     "name": "stdout",
     "output_type": "stream",
     "text": [
      "Number of instances for entropy =  0.0 :  2410\n",
      "Number of instances for entropy =  0.9149 :  1813\n",
      "Number of instances for entropy =  1.5835 :  147\n",
      "Mean of JS 0.51\n",
      "Mean of BC score:  0.46\n",
      "Mean of R square:  0.49\n",
      "ECE:  56.51\n",
      "UAC:  41.62\n",
      "Weighted F1:  40.66\n"
     ]
    },
    {
     "data": {
      "text/plain": [
       "<Figure size 432x288 with 0 Axes>"
      ]
     },
     "metadata": {},
     "output_type": "display_data"
    },
    {
     "data": {
      "image/png": "[encoded data removed]",
      "text/plain": [
       "<Figure size 1080x360 with 3 Axes>"
      ]
     },
     "metadata": {
      "needs_background": "light"
     },
     "output_type": "display_data"
    }
   ],
   "source": [
    "a = whole_eval(\"prediction/0825_context20\")"
   ]
  },
  {
   "cell_type": "code",
   "execution_count": 181,
   "metadata": {},
   "outputs": [
    {
     "name": "stderr",
     "output_type": "stream",
     "text": [
      "/Users/macbookpro/Documents/Research Project/LLM_Ambiguous_Emotion/eval_metrics.py:12: RuntimeWarning: divide by zero encountered in log\n",
      "  KL_value = np.sum(np.where(a != 0, a * np.log(a / b), 0))\n",
      "/Users/macbookpro/Documents/Research Project/LLM_Ambiguous_Emotion/eval_metrics.py:12: RuntimeWarning: invalid value encountered in multiply\n",
      "  KL_value = np.sum(np.where(a != 0, a * np.log(a / b), 0))\n"
     ]
    },
    {
     "name": "stdout",
     "output_type": "stream",
     "text": [
      "Number of instances for entropy =  0.0 :  2410\n",
      "Number of instances for entropy =  0.9149 :  1813\n",
      "Number of instances for entropy =  1.5835 :  147\n",
      "Mean of JS 0.5\n",
      "Mean of BC score:  0.46\n",
      "Mean of R square:  0.49\n",
      "ECE:  55.68\n",
      "UAC:  42.33\n",
      "Weighted F1:  41.5\n"
     ]
    },
    {
     "data": {
      "text/plain": [
       "<Figure size 432x288 with 0 Axes>"
      ]
     },
     "metadata": {},
     "output_type": "display_data"
    },
    {
     "data": {
      "image/png": "[encoded data removed]",
      "text/plain": [
       "<Figure size 1080x360 with 3 Axes>"
      ]
     },
     "metadata": {
      "needs_background": "light"
     },
     "output_type": "display_data"
    }
   ],
   "source": [
    "eval_metrics_ts = whole_eval(\"prediction/0825_context15\")"
   ]
  },
  {
   "cell_type": "code",
   "execution_count": 189,
   "metadata": {},
   "outputs": [
    {
     "name": "stderr",
     "output_type": "stream",
     "text": [
      "/Users/macbookpro/Documents/Research Project/LLM_Ambiguous_Emotion/eval_metrics.py:12: RuntimeWarning: divide by zero encountered in log\n",
      "  KL_value = np.sum(np.where(a != 0, a * np.log(a / b), 0))\n",
      "/Users/macbookpro/Documents/Research Project/LLM_Ambiguous_Emotion/eval_metrics.py:12: RuntimeWarning: invalid value encountered in multiply\n",
      "  KL_value = np.sum(np.where(a != 0, a * np.log(a / b), 0))\n"
     ]
    },
    {
     "name": "stdout",
     "output_type": "stream",
     "text": [
      "Number of instances for entropy =  0.0 :  2410\n",
      "Number of instances for entropy =  0.9149 :  1813\n",
      "Number of instances for entropy =  1.5835 :  147\n",
      "Mean of JS 0.57\n",
      "Mean of BC score:  0.39\n",
      "Mean of R square:  0.4\n",
      "ECE:  63.01\n",
      "UAC:  33.32\n",
      "Weighted F1:  34.16\n"
     ]
    },
    {
     "data": {
      "text/plain": [
       "<Figure size 432x288 with 0 Axes>"
      ]
     },
     "metadata": {},
     "output_type": "display_data"
    },
    {
     "data": {
      "image/png": "[encoded data removed]",
      "text/plain": [
       "<Figure size 1080x360 with 3 Axes>"
      ]
     },
     "metadata": {
      "needs_background": "light"
     },
     "output_type": "display_data"
    }
   ],
   "source": [
    "a = whole_eval(\"prediction/0907_ct0\")"
   ]
  },
  {
   "cell_type": "code",
   "execution_count": 186,
   "metadata": {},
   "outputs": [
    {
     "name": "stderr",
     "output_type": "stream",
     "text": [
      "/Users/macbookpro/Documents/Research Project/LLM_Ambiguous_Emotion/eval_metrics.py:12: RuntimeWarning: divide by zero encountered in log\n",
      "  KL_value = np.sum(np.where(a != 0, a * np.log(a / b), 0))\n",
      "/Users/macbookpro/Documents/Research Project/LLM_Ambiguous_Emotion/eval_metrics.py:12: RuntimeWarning: invalid value encountered in multiply\n",
      "  KL_value = np.sum(np.where(a != 0, a * np.log(a / b), 0))\n"
     ]
    },
    {
     "name": "stdout",
     "output_type": "stream",
     "text": [
      "Number of instances for entropy =  0.0 :  2410\n",
      "Number of instances for entropy =  0.9149 :  1813\n",
      "Number of instances for entropy =  1.5835 :  147\n",
      "Mean of JS 0.51\n",
      "Mean of BC score:  0.46\n",
      "Mean of R square:  0.48\n",
      "ECE:  56.49\n",
      "UAC:  41.17\n",
      "Weighted F1:  41.04\n"
     ]
    },
    {
     "data": {
      "text/plain": [
       "<Figure size 432x288 with 0 Axes>"
      ]
     },
     "metadata": {},
     "output_type": "display_data"
    },
    {
     "data": {
      "image/png": "[encoded data removed]",
      "text/plain": [
       "<Figure size 1080x360 with 3 Axes>"
      ]
     },
     "metadata": {
      "needs_background": "light"
     },
     "output_type": "display_data"
    }
   ],
   "source": [
    "a = whole_eval(\"prediction/0901_c5_text\")"
   ]
  },
  {
   "cell_type": "code",
   "execution_count": 185,
   "metadata": {},
   "outputs": [
    {
     "name": "stderr",
     "output_type": "stream",
     "text": [
      "/Users/macbookpro/Documents/Research Project/LLM_Ambiguous_Emotion/eval_metrics.py:12: RuntimeWarning: divide by zero encountered in log\n",
      "  KL_value = np.sum(np.where(a != 0, a * np.log(a / b), 0))\n",
      "/Users/macbookpro/Documents/Research Project/LLM_Ambiguous_Emotion/eval_metrics.py:12: RuntimeWarning: invalid value encountered in multiply\n",
      "  KL_value = np.sum(np.where(a != 0, a * np.log(a / b), 0))\n"
     ]
    },
    {
     "name": "stdout",
     "output_type": "stream",
     "text": [
      "Number of instances for entropy =  0.0 :  2304\n",
      "Number of instances for entropy =  0.9149 :  1248\n",
      "Number of instances for entropy =  1.5835 :  1\n",
      "Mean of JS 0.47\n",
      "Mean of BC score:  0.49\n",
      "Mean of R square:  0.51\n",
      "ECE:  52.02\n",
      "UAC:  45.99\n",
      "Weighted F1:  44.14\n"
     ]
    },
    {
     "data": {
      "text/plain": [
       "<Figure size 432x288 with 0 Axes>"
      ]
     },
     "metadata": {},
     "output_type": "display_data"
    },
    {
     "data": {
      "image/png": "[encoded data removed]",
      "text/plain": [
       "<Figure size 1080x360 with 3 Axes>"
      ]
     },
     "metadata": {
      "needs_background": "light"
     },
     "output_type": "display_data"
    }
   ],
   "source": [
    "eval_metrics_ts = whole_eval(\"prediction/0831_c10_text\")"
   ]
  },
  {
   "cell_type": "code",
   "execution_count": 188,
   "metadata": {},
   "outputs": [
    {
     "name": "stderr",
     "output_type": "stream",
     "text": [
      "/Users/macbookpro/Documents/Research Project/LLM_Ambiguous_Emotion/eval_metrics.py:12: RuntimeWarning: divide by zero encountered in log\n",
      "  KL_value = np.sum(np.where(a != 0, a * np.log(a / b), 0))\n",
      "/Users/macbookpro/Documents/Research Project/LLM_Ambiguous_Emotion/eval_metrics.py:12: RuntimeWarning: invalid value encountered in multiply\n",
      "  KL_value = np.sum(np.where(a != 0, a * np.log(a / b), 0))\n"
     ]
    },
    {
     "name": "stdout",
     "output_type": "stream",
     "text": [
      "Number of instances for entropy =  0.0 :  2410\n",
      "Number of instances for entropy =  0.9149 :  1813\n",
      "Number of instances for entropy =  1.5835 :  147\n",
      "Mean of JS 0.51\n",
      "Mean of BC score:  0.46\n",
      "Mean of R square:  0.49\n",
      "ECE:  56.2\n",
      "UAC:  41.97\n",
      "Weighted F1:  41.29\n"
     ]
    },
    {
     "data": {
      "text/plain": [
       "<Figure size 432x288 with 0 Axes>"
      ]
     },
     "metadata": {},
     "output_type": "display_data"
    },
    {
     "data": {
      "image/png": "[encoded data removed]",
      "text/plain": [
       "<Figure size 1080x360 with 3 Axes>"
      ]
     },
     "metadata": {
      "needs_background": "light"
     },
     "output_type": "display_data"
    }
   ],
   "source": [
    "a = whole_eval(\"prediction/0901_c20_text\")"
   ]
  },
  {
   "cell_type": "code",
   "execution_count": 20,
   "metadata": {},
   "outputs": [
    {
     "data": {
      "text/html": [
       "<div>\n",
       "<style scoped>\n",
       "    .dataframe tbody tr th:only-of-type {\n",
       "        vertical-align: middle;\n",
       "    }\n",
       "\n",
       "    .dataframe tbody tr th {\n",
       "        vertical-align: top;\n",
       "    }\n",
       "\n",
       "    .dataframe thead th {\n",
       "        text-align: right;\n",
       "    }\n",
       "</style>\n",
       "<table border=\"1\" class=\"dataframe\">\n",
       "  <thead>\n",
       "    <tr style=\"text-align: right;\">\n",
       "      <th></th>\n",
       "      <th>ground_truth</th>\n",
       "      <th>prediction</th>\n",
       "      <th>KL</th>\n",
       "      <th>BC</th>\n",
       "      <th>R_square</th>\n",
       "      <th>KL_std</th>\n",
       "      <th>entropy</th>\n",
       "    </tr>\n",
       "  </thead>\n",
       "  <tbody>\n",
       "    <tr>\n",
       "      <th>0</th>\n",
       "      <td>[1.0, 0.0, 0.0, 0.0]</td>\n",
       "      <td>[1.0, 0.0, 0.0, 0.0]</td>\n",
       "      <td>-0.0000</td>\n",
       "      <td>1.0000</td>\n",
       "      <td>1.0000</td>\n",
       "      <td>0.000000</td>\n",
       "      <td>0.0000</td>\n",
       "    </tr>\n",
       "    <tr>\n",
       "      <th>1</th>\n",
       "      <td>[1.0, 0.0, 0.0, 0.0]</td>\n",
       "      <td>[1.0, 0.0, 0.0, 0.0]</td>\n",
       "      <td>-0.0000</td>\n",
       "      <td>1.0000</td>\n",
       "      <td>1.0000</td>\n",
       "      <td>0.000000</td>\n",
       "      <td>0.0000</td>\n",
       "    </tr>\n",
       "    <tr>\n",
       "      <th>2</th>\n",
       "      <td>[0.33, 0.0, 0.0, 0.67]</td>\n",
       "      <td>[0.33, 0.0, 0.0, 0.67]</td>\n",
       "      <td>-0.0000</td>\n",
       "      <td>1.0000</td>\n",
       "      <td>1.0000</td>\n",
       "      <td>0.000000</td>\n",
       "      <td>0.9149</td>\n",
       "    </tr>\n",
       "    <tr>\n",
       "      <th>3</th>\n",
       "      <td>[0.33, 0.0, 0.0, 0.67]</td>\n",
       "      <td>[0.0, 0.0, 0.0, 1.0]</td>\n",
       "      <td>0.4005</td>\n",
       "      <td>0.8185</td>\n",
       "      <td>0.7641</td>\n",
       "      <td>0.017393</td>\n",
       "      <td>0.9149</td>\n",
       "    </tr>\n",
       "    <tr>\n",
       "      <th>4</th>\n",
       "      <td>[0.33, 0.0, 0.0, 0.67]</td>\n",
       "      <td>[0.0, 0.0, 0.0, 1.0]</td>\n",
       "      <td>0.4005</td>\n",
       "      <td>0.8185</td>\n",
       "      <td>0.7641</td>\n",
       "      <td>0.017393</td>\n",
       "      <td>0.9149</td>\n",
       "    </tr>\n",
       "  </tbody>\n",
       "</table>\n",
       "</div>"
      ],
      "text/plain": [
       "             ground_truth              prediction      KL      BC  R_square  \\\n",
       "0    [1.0, 0.0, 0.0, 0.0]    [1.0, 0.0, 0.0, 0.0] -0.0000  1.0000    1.0000   \n",
       "1    [1.0, 0.0, 0.0, 0.0]    [1.0, 0.0, 0.0, 0.0] -0.0000  1.0000    1.0000   \n",
       "2  [0.33, 0.0, 0.0, 0.67]  [0.33, 0.0, 0.0, 0.67] -0.0000  1.0000    1.0000   \n",
       "3  [0.33, 0.0, 0.0, 0.67]    [0.0, 0.0, 0.0, 1.0]  0.4005  0.8185    0.7641   \n",
       "4  [0.33, 0.0, 0.0, 0.67]    [0.0, 0.0, 0.0, 1.0]  0.4005  0.8185    0.7641   \n",
       "\n",
       "     KL_std  entropy  \n",
       "0  0.000000   0.0000  \n",
       "1  0.000000   0.0000  \n",
       "2  0.000000   0.9149  \n",
       "3  0.017393   0.9149  \n",
       "4  0.017393   0.9149  "
      ]
     },
     "execution_count": 20,
     "metadata": {},
     "output_type": "execute_result"
    }
   ],
   "source": [
    "eval_metrics_ts.head()"
   ]
  },
  {
   "cell_type": "code",
   "execution_count": 21,
   "metadata": {},
   "outputs": [
    {
     "name": "stderr",
     "output_type": "stream",
     "text": [
      "/Users/macbookpro/Documents/Research Project/LLM_Ambiguous_Emotion/eval_metrics.py:12: RuntimeWarning: divide by zero encountered in log\n",
      "  KL_value = np.sum(np.where(a != 0, a * np.log(a / b), 0))\n",
      "/Users/macbookpro/Documents/Research Project/LLM_Ambiguous_Emotion/eval_metrics.py:12: RuntimeWarning: invalid value encountered in multiply\n",
      "  KL_value = np.sum(np.where(a != 0, a * np.log(a / b), 0))\n"
     ]
    },
    {
     "data": {
      "text/plain": [
       "-0.0"
      ]
     },
     "execution_count": 21,
     "metadata": {},
     "output_type": "execute_result"
    }
   ],
   "source": [
    "em.KL(eval_metrics_ts.iloc[0]['ground_truth'], eval_metrics_ts.iloc[0]['prediction'])"
   ]
  },
  {
   "cell_type": "code",
   "execution_count": 54,
   "metadata": {},
   "outputs": [
    {
     "data": {
      "text/plain": [
       "inf"
      ]
     },
     "execution_count": 54,
     "metadata": {},
     "output_type": "execute_result"
    }
   ],
   "source": [
    "from scipy.special import kl_div\n",
    "\n",
    "kl_values = []\n",
    "for i in range(len(eval_metrics_ts)):\n",
    "    kl_values.append(kl_div(eval_metrics_ts.iloc[i]['ground_truth'], eval_metrics_ts.iloc[i]['prediction'], out=None))\n",
    "np.mean(kl_values)"
   ]
  },
  {
   "cell_type": "code",
   "execution_count": 55,
   "metadata": {},
   "outputs": [
    {
     "data": {
      "text/plain": [
       "ground_truth    [0.33, 0.0, 0.0, 0.67]\n",
       "prediction        [0.0, 0.0, 0.0, 1.0]\n",
       "KL                              0.4005\n",
       "BC                              0.8185\n",
       "R_square                        0.7641\n",
       "KL_std                        0.017393\n",
       "entropy                         0.9149\n",
       "Name: 3, dtype: object"
      ]
     },
     "execution_count": 55,
     "metadata": {},
     "output_type": "execute_result"
    }
   ],
   "source": [
    "eval_metrics_ts.loc[3,:]"
   ]
  },
  {
   "cell_type": "code",
   "execution_count": 56,
   "metadata": {},
   "outputs": [
    {
     "data": {
      "text/plain": [
       "array([       inf, 0.        , 0.        , 0.06168003])"
      ]
     },
     "execution_count": 56,
     "metadata": {},
     "output_type": "execute_result"
    }
   ],
   "source": [
    "kl_div(eval_metrics_ts.iloc[3]['ground_truth'], eval_metrics_ts.iloc[3]['prediction'], out=None)"
   ]
  },
  {
   "cell_type": "code",
   "execution_count": 19,
   "metadata": {},
   "outputs": [],
   "source": [
    "for i in range(len(consine)):\n",
    "    if consine[i] :\n",
    "        print(i)"
   ]
  },
  {
   "cell_type": "code",
   "execution_count": 26,
   "metadata": {},
   "outputs": [
    {
     "data": {
      "text/html": [
       "<div>\n",
       "<style scoped>\n",
       "    .dataframe tbody tr th:only-of-type {\n",
       "        vertical-align: middle;\n",
       "    }\n",
       "\n",
       "    .dataframe tbody tr th {\n",
       "        vertical-align: top;\n",
       "    }\n",
       "\n",
       "    .dataframe thead th {\n",
       "        text-align: right;\n",
       "    }\n",
       "</style>\n",
       "<table border=\"1\" class=\"dataframe\">\n",
       "  <thead>\n",
       "    <tr style=\"text-align: right;\">\n",
       "      <th></th>\n",
       "      <th>ground_truth</th>\n",
       "      <th>prediction</th>\n",
       "      <th>KL</th>\n",
       "      <th>BC</th>\n",
       "      <th>R_square</th>\n",
       "      <th>KL_std</th>\n",
       "      <th>entropy</th>\n",
       "    </tr>\n",
       "  </thead>\n",
       "  <tbody>\n",
       "    <tr>\n",
       "      <th>0</th>\n",
       "      <td>[1.0, 0.0, 0.0, 0.0]</td>\n",
       "      <td>[1.0, 0.0, 0.0, 0.0]</td>\n",
       "      <td>-0.0000</td>\n",
       "      <td>1.0000</td>\n",
       "      <td>1.0000</td>\n",
       "      <td>0.000000</td>\n",
       "      <td>0.0000</td>\n",
       "    </tr>\n",
       "    <tr>\n",
       "      <th>1</th>\n",
       "      <td>[1.0, 0.0, 0.0, 0.0]</td>\n",
       "      <td>[1.0, 0.0, 0.0, 0.0]</td>\n",
       "      <td>-0.0000</td>\n",
       "      <td>1.0000</td>\n",
       "      <td>1.0000</td>\n",
       "      <td>0.000000</td>\n",
       "      <td>0.0000</td>\n",
       "    </tr>\n",
       "    <tr>\n",
       "      <th>2</th>\n",
       "      <td>[0.33, 0.0, 0.0, 0.67]</td>\n",
       "      <td>[0.33, 0.0, 0.0, 0.67]</td>\n",
       "      <td>-0.0000</td>\n",
       "      <td>1.0000</td>\n",
       "      <td>1.0000</td>\n",
       "      <td>0.000000</td>\n",
       "      <td>0.9149</td>\n",
       "    </tr>\n",
       "    <tr>\n",
       "      <th>3</th>\n",
       "      <td>[0.33, 0.0, 0.0, 0.67]</td>\n",
       "      <td>[0.0, 0.0, 0.0, 1.0]</td>\n",
       "      <td>0.4005</td>\n",
       "      <td>0.8185</td>\n",
       "      <td>0.7641</td>\n",
       "      <td>0.017393</td>\n",
       "      <td>0.9149</td>\n",
       "    </tr>\n",
       "    <tr>\n",
       "      <th>4</th>\n",
       "      <td>[0.33, 0.0, 0.0, 0.67]</td>\n",
       "      <td>[0.0, 0.0, 0.0, 1.0]</td>\n",
       "      <td>0.4005</td>\n",
       "      <td>0.8185</td>\n",
       "      <td>0.7641</td>\n",
       "      <td>0.017393</td>\n",
       "      <td>0.9149</td>\n",
       "    </tr>\n",
       "  </tbody>\n",
       "</table>\n",
       "</div>"
      ],
      "text/plain": [
       "             ground_truth              prediction      KL      BC  R_square  \\\n",
       "0    [1.0, 0.0, 0.0, 0.0]    [1.0, 0.0, 0.0, 0.0] -0.0000  1.0000    1.0000   \n",
       "1    [1.0, 0.0, 0.0, 0.0]    [1.0, 0.0, 0.0, 0.0] -0.0000  1.0000    1.0000   \n",
       "2  [0.33, 0.0, 0.0, 0.67]  [0.33, 0.0, 0.0, 0.67] -0.0000  1.0000    1.0000   \n",
       "3  [0.33, 0.0, 0.0, 0.67]    [0.0, 0.0, 0.0, 1.0]  0.4005  0.8185    0.7641   \n",
       "4  [0.33, 0.0, 0.0, 0.67]    [0.0, 0.0, 0.0, 1.0]  0.4005  0.8185    0.7641   \n",
       "\n",
       "     KL_std  entropy  \n",
       "0  0.000000   0.0000  \n",
       "1  0.000000   0.0000  \n",
       "2  0.000000   0.9149  \n",
       "3  0.017393   0.9149  \n",
       "4  0.017393   0.9149  "
      ]
     },
     "execution_count": 26,
     "metadata": {},
     "output_type": "execute_result"
    }
   ],
   "source": [
    "eval_metrics_ts.head()"
   ]
  },
  {
   "cell_type": "code",
   "execution_count": null,
   "metadata": {},
   "outputs": [],
   "source": []
  },
  {
   "cell_type": "code",
   "execution_count": 12,
   "metadata": {},
   "outputs": [
    {
     "name": "stderr",
     "output_type": "stream",
     "text": [
      "/Users/macbookpro/Documents/Research Project/LLM_Ambiguous_Emotion/eval_metrics.py:12: RuntimeWarning: divide by zero encountered in log\n",
      "  KL_value = np.sum(np.where(a != 0, a * np.log(a / b), 0))\n",
      "/Users/macbookpro/Documents/Research Project/LLM_Ambiguous_Emotion/eval_metrics.py:12: RuntimeWarning: invalid value encountered in multiply\n",
      "  KL_value = np.sum(np.where(a != 0, a * np.log(a / b), 0))\n"
     ]
    },
    {
     "name": "stdout",
     "output_type": "stream",
     "text": [
      "Number of instances for entropy =  0.0 :  2410\n",
      "Number of instances for entropy =  0.9149 :  1813\n",
      "Number of instances for entropy =  1.5835 :  147\n",
      "Mean of KL score:  12.753426659038903\n",
      "Mean of KL STD score:  55.39\n",
      "Mean of BC score:  39.42\n",
      "Mean of R square:  40.33\n",
      "ECE:  63.01\n",
      "UAC:  33.32\n",
      "Weighted F1:  34.16\n"
     ]
    },
    {
     "data": {
      "text/plain": [
       "<Figure size 432x288 with 0 Axes>"
      ]
     },
     "metadata": {},
     "output_type": "display_data"
    },
    {
     "data": {
      "image/png": "[encoded data removed]",
      "text/plain": [
       "<Figure size 1080x360 with 3 Axes>"
      ]
     },
     "metadata": {
      "needs_background": "light"
     },
     "output_type": "display_data"
    }
   ],
   "source": [
    "eval_metrics_0context = whole_eval(\"0907_ct0\")"
   ]
  },
  {
   "cell_type": "markdown",
   "metadata": {},
   "source": [
    "eval_metrics_ts"
   ]
  },
  {
   "cell_type": "code",
   "execution_count": 201,
   "metadata": {},
   "outputs": [
    {
     "name": "stderr",
     "output_type": "stream",
     "text": [
      "/Users/macbookpro/Documents/Research Project/LLM_Ambiguous_Emotion/eval_metrics.py:12: RuntimeWarning: divide by zero encountered in log\n",
      "  KL_value = np.sum(np.where(a != 0, a * np.log(a / b), 0))\n",
      "/Users/macbookpro/Documents/Research Project/LLM_Ambiguous_Emotion/eval_metrics.py:12: RuntimeWarning: invalid value encountered in multiply\n",
      "  KL_value = np.sum(np.where(a != 0, a * np.log(a / b), 0))\n"
     ]
    },
    {
     "name": "stdout",
     "output_type": "stream",
     "text": [
      "Number of instances for entropy =  0.0 :  2711\n",
      "Number of instances for entropy =  0.2864 :  2\n",
      "Number of instances for entropy =  0.3274 :  2\n",
      "Number of instances for entropy =  0.4022 :  35\n",
      "Number of instances for entropy =  0.4365 :  7\n",
      "Number of instances for entropy =  0.469 :  1\n",
      "Number of instances for entropy =  0.569 :  1\n",
      "Number of instances for entropy =  0.5842 :  3\n",
      "Number of instances for entropy =  0.6098 :  4\n",
      "Number of instances for entropy =  0.6367 :  1\n",
      "Number of instances for entropy =  0.6577 :  144\n",
      "Number of instances for entropy =  0.6801 :  3\n",
      "Number of instances for entropy =  0.7219 :  537\n",
      "Number of instances for entropy =  0.778 :  2\n",
      "Number of instances for entropy =  0.7823 :  7\n",
      "Number of instances for entropy =  0.8061 :  1\n",
      "Number of instances for entropy =  0.8113 :  6\n",
      "Number of instances for entropy =  0.8354 :  1\n",
      "Number of instances for entropy =  0.8601 :  1\n",
      "Number of instances for entropy =  0.8687 :  1\n",
      "Number of instances for entropy =  0.8813 :  1\n",
      "Number of instances for entropy =  0.8932 :  2\n",
      "Number of instances for entropy =  0.9149 :  24\n",
      "Number of instances for entropy =  0.9219 :  1\n",
      "Number of instances for entropy =  0.958 :  1\n",
      "Number of instances for entropy =  0.971 :  335\n",
      "Number of instances for entropy =  0.9858 :  2\n",
      "Number of instances for entropy =  0.9924 :  3\n",
      "Number of instances for entropy =  0.9954 :  1\n",
      "Number of instances for entropy =  1.0 :  7\n",
      "Number of instances for entropy =  1.0374 :  1\n",
      "Number of instances for entropy =  1.0894 :  2\n",
      "Number of instances for entropy =  1.1486 :  1\n",
      "Number of instances for entropy =  1.1568 :  1\n",
      "Number of instances for entropy =  1.1621 :  1\n",
      "Number of instances for entropy =  1.1786 :  1\n",
      "Number of instances for entropy =  1.2382 :  1\n",
      "Number of instances for entropy =  1.2563 :  10\n",
      "Number of instances for entropy =  1.302 :  1\n",
      "Number of instances for entropy =  1.3172 :  2\n",
      "Number of instances for entropy =  1.3258 :  1\n",
      "Number of instances for entropy =  1.3341 :  1\n",
      "Number of instances for entropy =  1.361 :  2\n",
      "Number of instances for entropy =  1.371 :  98\n",
      "Number of instances for entropy =  1.4563 :  1\n",
      "Number of instances for entropy =  1.4624 :  16\n",
      "Number of instances for entropy =  1.5219 :  101\n",
      "Number of instances for entropy =  1.8038 :  2\n",
      "Number of instances for entropy =  1.8357 :  1\n",
      "Number of instances for entropy =  1.9219 :  23\n",
      "Mean of JS 0.4\n",
      "Mean of BC score:  0.61\n",
      "Mean of R square:  0.57\n",
      "ECE:  39.37\n",
      "UAC:  55.91\n",
      "Weighted F1:  55.87\n"
     ]
    },
    {
     "data": {
      "text/plain": [
       "<Figure size 432x288 with 0 Axes>"
      ]
     },
     "metadata": {},
     "output_type": "display_data"
    },
    {
     "data": {
      "image/png": "[encoded data removed]",
      "text/plain": [
       "<Figure size 1080x360 with 3 Axes>"
      ]
     },
     "metadata": {
      "needs_background": "light"
     },
     "output_type": "display_data"
    }
   ],
   "source": [
    "eval_metrics_ts = whole_eval(\"msp_prediction/fs_30con_withaudio\")"
   ]
  },
  {
   "cell_type": "code",
   "execution_count": 202,
   "metadata": {},
   "outputs": [
    {
     "data": {
      "text/html": [
       "<div>\n",
       "<style scoped>\n",
       "    .dataframe tbody tr th:only-of-type {\n",
       "        vertical-align: middle;\n",
       "    }\n",
       "\n",
       "    .dataframe tbody tr th {\n",
       "        vertical-align: top;\n",
       "    }\n",
       "\n",
       "    .dataframe thead th {\n",
       "        text-align: right;\n",
       "    }\n",
       "</style>\n",
       "<table border=\"1\" class=\"dataframe\">\n",
       "  <thead>\n",
       "    <tr style=\"text-align: right;\">\n",
       "      <th></th>\n",
       "      <th>count</th>\n",
       "    </tr>\n",
       "    <tr>\n",
       "      <th>entropy</th>\n",
       "      <th></th>\n",
       "    </tr>\n",
       "  </thead>\n",
       "  <tbody>\n",
       "    <tr>\n",
       "      <th>0.0000</th>\n",
       "      <td>2711</td>\n",
       "    </tr>\n",
       "    <tr>\n",
       "      <th>0.7219</th>\n",
       "      <td>537</td>\n",
       "    </tr>\n",
       "    <tr>\n",
       "      <th>0.9710</th>\n",
       "      <td>335</td>\n",
       "    </tr>\n",
       "    <tr>\n",
       "      <th>0.6577</th>\n",
       "      <td>144</td>\n",
       "    </tr>\n",
       "    <tr>\n",
       "      <th>1.5219</th>\n",
       "      <td>101</td>\n",
       "    </tr>\n",
       "  </tbody>\n",
       "</table>\n",
       "</div>"
      ],
      "text/plain": [
       "         count\n",
       "entropy       \n",
       "0.0000    2711\n",
       "0.7219     537\n",
       "0.9710     335\n",
       "0.6577     144\n",
       "1.5219     101"
      ]
     },
     "execution_count": 202,
     "metadata": {},
     "output_type": "execute_result"
    }
   ],
   "source": [
    "entr_coun = pd.DataFrame(eval_metrics_ts['entropy'].value_counts())\n",
    "entr_coun.head()"
   ]
  },
  {
   "cell_type": "code",
   "execution_count": 203,
   "metadata": {},
   "outputs": [
    {
     "data": {
      "text/html": [
       "<div>\n",
       "<style scoped>\n",
       "    .dataframe tbody tr th:only-of-type {\n",
       "        vertical-align: middle;\n",
       "    }\n",
       "\n",
       "    .dataframe tbody tr th {\n",
       "        vertical-align: top;\n",
       "    }\n",
       "\n",
       "    .dataframe thead th {\n",
       "        text-align: right;\n",
       "    }\n",
       "</style>\n",
       "<table border=\"1\" class=\"dataframe\">\n",
       "  <thead>\n",
       "    <tr style=\"text-align: right;\">\n",
       "      <th></th>\n",
       "      <th>count</th>\n",
       "    </tr>\n",
       "    <tr>\n",
       "      <th>entropy</th>\n",
       "      <th></th>\n",
       "    </tr>\n",
       "  </thead>\n",
       "  <tbody>\n",
       "    <tr>\n",
       "      <th>0.0000</th>\n",
       "      <td>2711</td>\n",
       "    </tr>\n",
       "    <tr>\n",
       "      <th>0.2864</th>\n",
       "      <td>2</td>\n",
       "    </tr>\n",
       "    <tr>\n",
       "      <th>0.3274</th>\n",
       "      <td>2</td>\n",
       "    </tr>\n",
       "    <tr>\n",
       "      <th>0.4022</th>\n",
       "      <td>35</td>\n",
       "    </tr>\n",
       "    <tr>\n",
       "      <th>0.4365</th>\n",
       "      <td>7</td>\n",
       "    </tr>\n",
       "    <tr>\n",
       "      <th>0.4690</th>\n",
       "      <td>1</td>\n",
       "    </tr>\n",
       "    <tr>\n",
       "      <th>0.5690</th>\n",
       "      <td>1</td>\n",
       "    </tr>\n",
       "    <tr>\n",
       "      <th>0.5842</th>\n",
       "      <td>3</td>\n",
       "    </tr>\n",
       "    <tr>\n",
       "      <th>0.6098</th>\n",
       "      <td>4</td>\n",
       "    </tr>\n",
       "    <tr>\n",
       "      <th>0.6367</th>\n",
       "      <td>1</td>\n",
       "    </tr>\n",
       "    <tr>\n",
       "      <th>0.6577</th>\n",
       "      <td>144</td>\n",
       "    </tr>\n",
       "    <tr>\n",
       "      <th>0.6801</th>\n",
       "      <td>3</td>\n",
       "    </tr>\n",
       "    <tr>\n",
       "      <th>0.7219</th>\n",
       "      <td>537</td>\n",
       "    </tr>\n",
       "    <tr>\n",
       "      <th>0.7780</th>\n",
       "      <td>2</td>\n",
       "    </tr>\n",
       "    <tr>\n",
       "      <th>0.7823</th>\n",
       "      <td>7</td>\n",
       "    </tr>\n",
       "    <tr>\n",
       "      <th>0.8061</th>\n",
       "      <td>1</td>\n",
       "    </tr>\n",
       "    <tr>\n",
       "      <th>0.8113</th>\n",
       "      <td>6</td>\n",
       "    </tr>\n",
       "    <tr>\n",
       "      <th>0.8354</th>\n",
       "      <td>1</td>\n",
       "    </tr>\n",
       "    <tr>\n",
       "      <th>0.8601</th>\n",
       "      <td>1</td>\n",
       "    </tr>\n",
       "    <tr>\n",
       "      <th>0.8687</th>\n",
       "      <td>1</td>\n",
       "    </tr>\n",
       "    <tr>\n",
       "      <th>0.8813</th>\n",
       "      <td>1</td>\n",
       "    </tr>\n",
       "    <tr>\n",
       "      <th>0.8932</th>\n",
       "      <td>2</td>\n",
       "    </tr>\n",
       "    <tr>\n",
       "      <th>0.9149</th>\n",
       "      <td>24</td>\n",
       "    </tr>\n",
       "    <tr>\n",
       "      <th>0.9219</th>\n",
       "      <td>1</td>\n",
       "    </tr>\n",
       "    <tr>\n",
       "      <th>0.9580</th>\n",
       "      <td>1</td>\n",
       "    </tr>\n",
       "    <tr>\n",
       "      <th>0.9710</th>\n",
       "      <td>335</td>\n",
       "    </tr>\n",
       "    <tr>\n",
       "      <th>0.9858</th>\n",
       "      <td>2</td>\n",
       "    </tr>\n",
       "    <tr>\n",
       "      <th>0.9924</th>\n",
       "      <td>3</td>\n",
       "    </tr>\n",
       "    <tr>\n",
       "      <th>0.9954</th>\n",
       "      <td>1</td>\n",
       "    </tr>\n",
       "    <tr>\n",
       "      <th>1.0000</th>\n",
       "      <td>7</td>\n",
       "    </tr>\n",
       "    <tr>\n",
       "      <th>1.0374</th>\n",
       "      <td>1</td>\n",
       "    </tr>\n",
       "    <tr>\n",
       "      <th>1.0894</th>\n",
       "      <td>2</td>\n",
       "    </tr>\n",
       "    <tr>\n",
       "      <th>1.1486</th>\n",
       "      <td>1</td>\n",
       "    </tr>\n",
       "    <tr>\n",
       "      <th>1.1568</th>\n",
       "      <td>1</td>\n",
       "    </tr>\n",
       "    <tr>\n",
       "      <th>1.1621</th>\n",
       "      <td>1</td>\n",
       "    </tr>\n",
       "    <tr>\n",
       "      <th>1.1786</th>\n",
       "      <td>1</td>\n",
       "    </tr>\n",
       "    <tr>\n",
       "      <th>1.2382</th>\n",
       "      <td>1</td>\n",
       "    </tr>\n",
       "    <tr>\n",
       "      <th>1.2563</th>\n",
       "      <td>10</td>\n",
       "    </tr>\n",
       "    <tr>\n",
       "      <th>1.3020</th>\n",
       "      <td>1</td>\n",
       "    </tr>\n",
       "    <tr>\n",
       "      <th>1.3172</th>\n",
       "      <td>2</td>\n",
       "    </tr>\n",
       "    <tr>\n",
       "      <th>1.3258</th>\n",
       "      <td>1</td>\n",
       "    </tr>\n",
       "    <tr>\n",
       "      <th>1.3341</th>\n",
       "      <td>1</td>\n",
       "    </tr>\n",
       "    <tr>\n",
       "      <th>1.3610</th>\n",
       "      <td>2</td>\n",
       "    </tr>\n",
       "    <tr>\n",
       "      <th>1.3710</th>\n",
       "      <td>98</td>\n",
       "    </tr>\n",
       "    <tr>\n",
       "      <th>1.4563</th>\n",
       "      <td>1</td>\n",
       "    </tr>\n",
       "    <tr>\n",
       "      <th>1.4624</th>\n",
       "      <td>16</td>\n",
       "    </tr>\n",
       "    <tr>\n",
       "      <th>1.5219</th>\n",
       "      <td>101</td>\n",
       "    </tr>\n",
       "    <tr>\n",
       "      <th>1.8038</th>\n",
       "      <td>2</td>\n",
       "    </tr>\n",
       "    <tr>\n",
       "      <th>1.8357</th>\n",
       "      <td>1</td>\n",
       "    </tr>\n",
       "    <tr>\n",
       "      <th>1.9219</th>\n",
       "      <td>23</td>\n",
       "    </tr>\n",
       "  </tbody>\n",
       "</table>\n",
       "</div>"
      ],
      "text/plain": [
       "         count\n",
       "entropy       \n",
       "0.0000    2711\n",
       "0.2864       2\n",
       "0.3274       2\n",
       "0.4022      35\n",
       "0.4365       7\n",
       "0.4690       1\n",
       "0.5690       1\n",
       "0.5842       3\n",
       "0.6098       4\n",
       "0.6367       1\n",
       "0.6577     144\n",
       "0.6801       3\n",
       "0.7219     537\n",
       "0.7780       2\n",
       "0.7823       7\n",
       "0.8061       1\n",
       "0.8113       6\n",
       "0.8354       1\n",
       "0.8601       1\n",
       "0.8687       1\n",
       "0.8813       1\n",
       "0.8932       2\n",
       "0.9149      24\n",
       "0.9219       1\n",
       "0.9580       1\n",
       "0.9710     335\n",
       "0.9858       2\n",
       "0.9924       3\n",
       "0.9954       1\n",
       "1.0000       7\n",
       "1.0374       1\n",
       "1.0894       2\n",
       "1.1486       1\n",
       "1.1568       1\n",
       "1.1621       1\n",
       "1.1786       1\n",
       "1.2382       1\n",
       "1.2563      10\n",
       "1.3020       1\n",
       "1.3172       2\n",
       "1.3258       1\n",
       "1.3341       1\n",
       "1.3610       2\n",
       "1.3710      98\n",
       "1.4563       1\n",
       "1.4624      16\n",
       "1.5219     101\n",
       "1.8038       2\n",
       "1.8357       1\n",
       "1.9219      23"
      ]
     },
     "execution_count": 203,
     "metadata": {},
     "output_type": "execute_result"
    }
   ],
   "source": [
    "entr_coun.sort_values(by='entropy',ascending=True)"
   ]
  },
  {
   "cell_type": "code",
   "execution_count": 204,
   "metadata": {},
   "outputs": [
    {
     "data": {
      "text/plain": [
       "4001"
      ]
     },
     "execution_count": 204,
     "metadata": {},
     "output_type": "execute_result"
    }
   ],
   "source": [
    "sel_entro = [0.0000,0.4022, 0.6577, 0.7219, 0.9149, 0.9710, 1.3710,1.4624, 1.5219]\n",
    "new_ev_df = eval_metrics_ts[eval_metrics_ts['entropy'].isin(sel_entro)]\n",
    "len(new_ev_df)"
   ]
  },
  {
   "cell_type": "code",
   "execution_count": 211,
   "metadata": {},
   "outputs": [
    {
     "data": {
      "text/plain": [
       "3926"
      ]
     },
     "execution_count": 211,
     "metadata": {},
     "output_type": "execute_result"
    }
   ],
   "source": [
    "sel_entro2 = [0.0000, 0.6577, 0.7219, 0.9710, 1.3710, 1.5219]\n",
    "new_ev_df2 = eval_metrics_ts[eval_metrics_ts['entropy'].isin(sel_entro2)]\n",
    "len(new_ev_df2)"
   ]
  },
  {
   "cell_type": "code",
   "execution_count": 206,
   "metadata": {},
   "outputs": [
    {
     "data": {
      "text/html": [
       "<div>\n",
       "<style scoped>\n",
       "    .dataframe tbody tr th:only-of-type {\n",
       "        vertical-align: middle;\n",
       "    }\n",
       "\n",
       "    .dataframe tbody tr th {\n",
       "        vertical-align: top;\n",
       "    }\n",
       "\n",
       "    .dataframe thead th {\n",
       "        text-align: right;\n",
       "    }\n",
       "</style>\n",
       "<table border=\"1\" class=\"dataframe\">\n",
       "  <thead>\n",
       "    <tr style=\"text-align: right;\">\n",
       "      <th></th>\n",
       "      <th>ground_truth</th>\n",
       "      <th>prediction</th>\n",
       "      <th>KL</th>\n",
       "      <th>BC</th>\n",
       "      <th>R_square</th>\n",
       "      <th>JS</th>\n",
       "      <th>KL_std</th>\n",
       "      <th>entropy</th>\n",
       "    </tr>\n",
       "  </thead>\n",
       "  <tbody>\n",
       "    <tr>\n",
       "      <th>0</th>\n",
       "      <td>[0.4, 0.6, 0.0, 0.0]</td>\n",
       "      <td>[1.0, 0.0, 0.0, 0.0]</td>\n",
       "      <td>0.9163</td>\n",
       "      <td>0.6325</td>\n",
       "      <td>0.1111</td>\n",
       "      <td>0.523784</td>\n",
       "      <td>0.049743</td>\n",
       "      <td>0.9710</td>\n",
       "    </tr>\n",
       "    <tr>\n",
       "      <th>1</th>\n",
       "      <td>[0.6, 0.0, 0.0, 0.4]</td>\n",
       "      <td>[1.0, 0.0, 0.0, 0.0]</td>\n",
       "      <td>0.5108</td>\n",
       "      <td>0.7746</td>\n",
       "      <td>0.6049</td>\n",
       "      <td>0.404784</td>\n",
       "      <td>0.027730</td>\n",
       "      <td>0.9710</td>\n",
       "    </tr>\n",
       "    <tr>\n",
       "      <th>2</th>\n",
       "      <td>[0.4, 0.6, 0.0, 0.0]</td>\n",
       "      <td>[0.0, 1.0, 0.0, 0.0]</td>\n",
       "      <td>0.5108</td>\n",
       "      <td>0.7746</td>\n",
       "      <td>0.6049</td>\n",
       "      <td>0.404784</td>\n",
       "      <td>0.027730</td>\n",
       "      <td>0.9710</td>\n",
       "    </tr>\n",
       "    <tr>\n",
       "      <th>3</th>\n",
       "      <td>[0.8, 0.0, 0.0, 0.2]</td>\n",
       "      <td>[1.0, 0.0, 0.0, 0.0]</td>\n",
       "      <td>0.2231</td>\n",
       "      <td>0.8944</td>\n",
       "      <td>0.9380</td>\n",
       "      <td>0.273679</td>\n",
       "      <td>0.012111</td>\n",
       "      <td>0.7219</td>\n",
       "    </tr>\n",
       "    <tr>\n",
       "      <th>4</th>\n",
       "      <td>[0.8, 0.0, 0.0, 0.2]</td>\n",
       "      <td>[1.0, 0.0, 0.0, 0.0]</td>\n",
       "      <td>0.2231</td>\n",
       "      <td>0.8944</td>\n",
       "      <td>0.9380</td>\n",
       "      <td>0.273679</td>\n",
       "      <td>0.012111</td>\n",
       "      <td>0.7219</td>\n",
       "    </tr>\n",
       "  </tbody>\n",
       "</table>\n",
       "</div>"
      ],
      "text/plain": [
       "           ground_truth            prediction      KL      BC  R_square  \\\n",
       "0  [0.4, 0.6, 0.0, 0.0]  [1.0, 0.0, 0.0, 0.0]  0.9163  0.6325    0.1111   \n",
       "1  [0.6, 0.0, 0.0, 0.4]  [1.0, 0.0, 0.0, 0.0]  0.5108  0.7746    0.6049   \n",
       "2  [0.4, 0.6, 0.0, 0.0]  [0.0, 1.0, 0.0, 0.0]  0.5108  0.7746    0.6049   \n",
       "3  [0.8, 0.0, 0.0, 0.2]  [1.0, 0.0, 0.0, 0.0]  0.2231  0.8944    0.9380   \n",
       "4  [0.8, 0.0, 0.0, 0.2]  [1.0, 0.0, 0.0, 0.0]  0.2231  0.8944    0.9380   \n",
       "\n",
       "         JS    KL_std  entropy  \n",
       "0  0.523784  0.049743   0.9710  \n",
       "1  0.404784  0.027730   0.9710  \n",
       "2  0.404784  0.027730   0.9710  \n",
       "3  0.273679  0.012111   0.7219  \n",
       "4  0.273679  0.012111   0.7219  "
      ]
     },
     "execution_count": 206,
     "metadata": {},
     "output_type": "execute_result"
    }
   ],
   "source": [
    "new_ev_df.head()"
   ]
  },
  {
   "cell_type": "markdown",
   "metadata": {},
   "source": [
    "* 0.6577: [0.0, 0.17, 0.0, 0.83]\n",
    "* 0.7219: [0.8, 0.0, 0.0, 0.2]\n",
    "* 0.9710: [0.4, 0.6, 0.0, 0.0]\n",
    "* 1.3710: [0.6, 0.2, 0.0, 0.2]"
   ]
  },
  {
   "cell_type": "code",
   "execution_count": 207,
   "metadata": {},
   "outputs": [],
   "source": [
    "from collections import Counter\n",
    "from sklearn.metrics import confusion_matrix"
   ]
  },
  {
   "cell_type": "code",
   "execution_count": 208,
   "metadata": {},
   "outputs": [
    {
     "name": "stdout",
     "output_type": "stream",
     "text": [
      "Entropy = 0\n"
     ]
    },
    {
     "data": {
      "text/plain": [
       "array([[1262,  495,   32,   33],\n",
       "       [ 139,  189,   10,    7],\n",
       "       [ 150,  110,   48,    8],\n",
       "       [ 139,   51,    7,   31]])"
      ]
     },
     "execution_count": 208,
     "metadata": {},
     "output_type": "execute_result"
    }
   ],
   "source": [
    "pred_7219 = list(eval_metrics_ts[eval_metrics_ts['entropy'] == 0.0000]['prediction'])\n",
    "pred_7219_label = []\n",
    "for i in range(len(pred_7219)):\n",
    "    pred_7219_label.append(np.argmax(pred_7219[i]))\n",
    "\n",
    "gt7219 = list(eval_metrics_ts[eval_metrics_ts['entropy'] == 0.0000]['ground_truth'])\n",
    "gt7219_label = []\n",
    "for i in range(len(gt7219)):\n",
    "    gt7219_label.append(np.argmax(gt7219[i]))\n",
    "print(\"Entropy = 0\")\n",
    "confusion_matrix(pred_7219_label, gt7219_label)"
   ]
  },
  {
   "cell_type": "code",
   "execution_count": 209,
   "metadata": {},
   "outputs": [
    {
     "name": "stdout",
     "output_type": "stream",
     "text": [
      "Entropy = 0.6577\n"
     ]
    },
    {
     "data": {
      "text/plain": [
       "array([[42, 16, 20,  8],\n",
       "       [ 9, 15,  1,  0],\n",
       "       [ 2,  1, 12,  0],\n",
       "       [ 5,  3,  5,  5]])"
      ]
     },
     "execution_count": 209,
     "metadata": {},
     "output_type": "execute_result"
    }
   ],
   "source": [
    "6577\n",
    "pred_7219 = list(eval_metrics_ts[eval_metrics_ts['entropy'] == 0.6577]['prediction'])\n",
    "pred_7219_label = []\n",
    "for i in range(len(pred_7219)):\n",
    "    pred_7219_label.append(np.argmax(pred_7219[i]))\n",
    "\n",
    "gt7219 = list(eval_metrics_ts[eval_metrics_ts['entropy'] == 0.6577]['ground_truth'])\n",
    "gt7219_label = []\n",
    "for i in range(len(gt7219)):\n",
    "    gt7219_label.append(np.argmax(gt7219[i]))\n",
    "print(\"Entropy = 0.6577\")\n",
    "confusion_matrix(pred_7219_label, gt7219_label)"
   ]
  },
  {
   "cell_type": "code",
   "execution_count": 112,
   "metadata": {},
   "outputs": [
    {
     "name": "stdout",
     "output_type": "stream",
     "text": [
      "Entropy = 0.7219\n"
     ]
    },
    {
     "data": {
      "text/plain": [
       "array([[243,  89,   2,   6],\n",
       "       [ 31,  76,   0,   1],\n",
       "       [ 18,  11,   3,   2],\n",
       "       [ 25,  15,   1,  14]])"
      ]
     },
     "execution_count": 112,
     "metadata": {},
     "output_type": "execute_result"
    }
   ],
   "source": [
    "pred_7219 = list(eval_metrics_ts[eval_metrics_ts['entropy'] == 0.7219]['prediction'])\n",
    "pred_7219_label = []\n",
    "for i in range(len(pred_7219)):\n",
    "    pred_7219_label.append(np.argmax(pred_7219[i]))\n",
    "\n",
    "gt7219 = list(eval_metrics_ts[eval_metrics_ts['entropy'] == 0.7219]['ground_truth'])\n",
    "gt7219_label = []\n",
    "for i in range(len(gt7219)):\n",
    "    gt7219_label.append(np.argmax(gt7219[i]))\n",
    "print(\"Entropy = 0.7219\")\n",
    "confusion_matrix(pred_7219_label, gt7219_label)"
   ]
  },
  {
   "cell_type": "code",
   "execution_count": 111,
   "metadata": {},
   "outputs": [
    {
     "name": "stdout",
     "output_type": "stream",
     "text": [
      "Entropy = 0.9710\n"
     ]
    },
    {
     "data": {
      "text/plain": [
       "array([[130,  66,   2,   8],\n",
       "       [ 36,  34,   0,   1],\n",
       "       [  7,  13,   1,   2],\n",
       "       [ 19,  11,   0,   5]])"
      ]
     },
     "execution_count": 111,
     "metadata": {},
     "output_type": "execute_result"
    }
   ],
   "source": [
    "pred_7219 = list(eval_metrics_ts[eval_metrics_ts['entropy'] == 0.9710]['prediction'])\n",
    "pred_7219_label = []\n",
    "for i in range(len(pred_7219)):\n",
    "    pred_7219_label.append(np.argmax(pred_7219[i]))\n",
    "\n",
    "gt7219 = list(eval_metrics_ts[eval_metrics_ts['entropy'] == 0.9710]['ground_truth'])\n",
    "gt7219_label = []\n",
    "for i in range(len(gt7219)):\n",
    "    gt7219_label.append(np.argmax(gt7219[i]))\n",
    "print(\"Entropy = 0.9710\")\n",
    "confusion_matrix(pred_7219_label, gt7219_label)"
   ]
  },
  {
   "cell_type": "code",
   "execution_count": 134,
   "metadata": {},
   "outputs": [
    {
     "name": "stdout",
     "output_type": "stream",
     "text": [
      "Prediction: Average number of labels per instance: 1.2073035780154924\n",
      "Ground truth: Average number of labels per instance: 1.0\n",
      "Entropy = 0.0000\n",
      "Confusion Matrix for Label 0:\n",
      "                Pred Negative  Pred Positive\n",
      "True Negative            399            622\n",
      "True Positive            326           1364 \n",
      "\n",
      "Confusion Matrix for Label 1:\n",
      "                Pred Negative  Pred Positive\n",
      "True Negative           1595            271\n",
      "True Positive            595            250 \n",
      "\n",
      "Confusion Matrix for Label 2:\n",
      "                Pred Negative  Pred Positive\n",
      "True Negative           2274            340\n",
      "True Positive             47             50 \n",
      "\n",
      "Confusion Matrix for Label 3:\n",
      "                Pred Negative  Pred Positive\n",
      "True Negative           2299            333\n",
      "True Positive             36             43 \n",
      "\n"
     ]
    }
   ],
   "source": [
    "from sklearn.metrics import multilabel_confusion_matrix\n",
    "pred_7219 = list(eval_metrics_ts[eval_metrics_ts['entropy'] == 0.0000]['prediction'])\n",
    "gt7219 = list(eval_metrics_ts[eval_metrics_ts['entropy'] == 0.0000]['ground_truth'])\n",
    "\n",
    "pred_7219 = np.array(pred_7219)\n",
    "pred_7219_binary = (pred_7219 > 0).astype(int)\n",
    "num_labels_per_instance = np.sum(pred_7219_binary, axis=1)\n",
    "average_labels = np.mean(num_labels_per_instance)\n",
    "print(\"Prediction: Average number of labels per instance:\", average_labels)\n",
    "\n",
    "gt7219 = np.array(gt7219)\n",
    "gt7219_binary = (gt7219 > 0).astype(int)\n",
    "num_labels_per_instance = np.sum(gt7219_binary, axis=1)\n",
    "average_labels = np.mean(num_labels_per_instance)\n",
    "print(\"Ground truth: Average number of labels per instance:\", average_labels)\n",
    "\n",
    "ml_cm = multilabel_confusion_matrix(gt7219_binary, pred_7219_binary)\n",
    "print(\"Entropy = 0.0000\")\n",
    "for i, cm in enumerate(ml_cm):\n",
    "    cm_df = pd.DataFrame(cm, index=['True Negative', 'True Positive'], columns=['Pred Negative', 'Pred Positive'])\n",
    "    print(f\"Confusion Matrix for Label {i}:\\n\", cm_df, \"\\n\")"
   ]
  },
  {
   "cell_type": "code",
   "execution_count": 316,
   "metadata": {},
   "outputs": [
    {
     "name": "stdout",
     "output_type": "stream",
     "text": [
      "Prediction:  Counter({(1, 0, 0, 0): 71, (0, 1, 0, 0): 20, (0, 0, 0, 1): 17, (0, 0, 1, 0): 15, (1, 1, 0, 0): 9, (1, 0, 0, 1): 6, (1, 1, 0, 1): 3, (1, 1, 1, 1): 2, (0, 1, 0, 1): 1})\n",
      "Prediction: Average number of labels per instance: 1.1944444444444444\n",
      "ground truth:  Counter({(1, 1, 0, 0): 70, (0, 1, 1, 0): 25, (1, 0, 0, 1): 15, (0, 1, 0, 1): 14, (1, 0, 1, 0): 12, (0, 0, 1, 1): 8})\n",
      "Ground truth: Average number of labels per instance: 2.0\n",
      "Entropy = 0.6577\n",
      "Confusion Matrix for Label 0:\n",
      "                Pred Negative  Pred Positive\n",
      "True Negative             22             25\n",
      "True Positive             31             66 \n",
      "\n",
      "Confusion Matrix for Label 1:\n",
      "                Pred Negative  Pred Positive\n",
      "True Negative             33              2\n",
      "True Positive             76             33 \n",
      "\n",
      "Confusion Matrix for Label 2:\n",
      "                Pred Negative  Pred Positive\n",
      "True Negative             96              3\n",
      "True Positive             31             14 \n",
      "\n",
      "Confusion Matrix for Label 3:\n",
      "                Pred Negative  Pred Positive\n",
      "True Negative             88             19\n",
      "True Positive             27             10 \n",
      "\n"
     ]
    }
   ],
   "source": [
    "from sklearn.metrics import multilabel_confusion_matrix\n",
    "pred_7219 = list(eval_metrics_ts[eval_metrics_ts['entropy'] == 0.6577]['prediction'])\n",
    "gt7219 = list(eval_metrics_ts[eval_metrics_ts['entropy'] == 0.6577]['ground_truth'])\n",
    "\n",
    "pred_7219 = np.array(pred_7219)\n",
    "pred_7219_binary = (pred_7219 > 0).astype(int)\n",
    "num_labels_per_instance = np.sum(pred_7219_binary, axis=1)\n",
    "average_labels = np.mean(num_labels_per_instance)\n",
    "print(\"Prediction: \", Counter(tuple(row) for row in pred_7219_binary))\n",
    "\n",
    "print(\"Prediction: Average number of labels per instance:\", average_labels)\n",
    "\n",
    "gt7219 = np.array(gt7219)\n",
    "gt7219_binary = (gt7219 > 0).astype(int)\n",
    "num_labels_per_instance = np.sum(gt7219_binary, axis=1)\n",
    "average_labels = np.mean(num_labels_per_instance)\n",
    "print(\"ground truth: \", Counter(tuple(row) for row in gt7219_binary))\n",
    "\n",
    "print(\"Ground truth: Average number of labels per instance:\", average_labels)\n",
    "\n",
    "ml_cm = multilabel_confusion_matrix(gt7219_binary, pred_7219_binary)\n",
    "print(\"Entropy = 0.6577\")\n",
    "for i, cm in enumerate(ml_cm):\n",
    "    cm_df = pd.DataFrame(cm, index=['True Negative', 'True Positive'], columns=['Pred Negative', 'Pred Positive'])\n",
    "    print(f\"Confusion Matrix for Label {i}:\\n\", cm_df, \"\\n\")\n",
    "    # 67% "
   ]
  },
  {
   "cell_type": "code",
   "execution_count": 153,
   "metadata": {},
   "outputs": [
    {
     "name": "stdout",
     "output_type": "stream",
     "text": [
      "Prediction:  Counter({(1, 0, 0, 0): 266, (0, 1, 0, 0): 80, (1, 1, 0, 0): 64, (0, 0, 0, 1): 34, (0, 0, 1, 0): 29, (1, 0, 0, 1): 28, (1, 1, 0, 1): 11, (1, 0, 1, 0): 8, (1, 1, 1, 1): 7, (1, 1, 1, 0): 5, (1, 0, 1, 1): 5})\n",
      "Prediction: Average number of labels per instance: 1.303538175046555\n",
      "ground truth:  Counter({(1, 1, 0, 0): 356, (1, 0, 0, 1): 97, (1, 0, 1, 0): 43, (0, 1, 0, 1): 28, (0, 1, 1, 0): 11, (0, 0, 1, 1): 2})\n",
      "\n",
      "\n",
      "Ground truth: Average number of labels per instance: 2.0\n",
      "Entropy: 0.7219\n",
      "Confusion Matrix for Label 0:\n",
      "                Pred Negative  Pred Positive\n",
      "True Negative             23             18\n",
      "True Positive            120            376 \n",
      "\n",
      "Confusion Matrix for Label 1:\n",
      "                Pred Negative  Pred Positive\n",
      "True Negative            124             18\n",
      "True Positive            246            149 \n",
      "\n",
      "Confusion Matrix for Label 2:\n",
      "                Pred Negative  Pred Positive\n",
      "True Negative            444             37\n",
      "True Positive             39             17 \n",
      "\n",
      "Confusion Matrix for Label 3:\n",
      "                Pred Negative  Pred Positive\n",
      "True Negative            360             50\n",
      "True Positive             92             35 \n",
      "\n"
     ]
    }
   ],
   "source": [
    "from sklearn.metrics import multilabel_confusion_matrix\n",
    "pred_7219 = list(eval_metrics_ts[eval_metrics_ts['entropy'] == 0.7219]['prediction'])\n",
    "gt7219 = list(eval_metrics_ts[eval_metrics_ts['entropy'] == 0.7219]['ground_truth'])\n",
    "\n",
    "pred_7219 = np.array(pred_7219)\n",
    "pred_7219_binary = (pred_7219 > 0).astype(int)\n",
    "num_labels_per_instance = np.sum(pred_7219_binary, axis=1)\n",
    "average_labels = np.mean(num_labels_per_instance)\n",
    "print(\"Prediction: \", Counter(tuple(row) for row in pred_7219_binary))\n",
    "\n",
    "print(\"Prediction: Average number of labels per instance:\", average_labels)\n",
    "\n",
    "gt7219 = np.array(gt7219)\n",
    "gt7219_binary = (gt7219 > 0).astype(int)\n",
    "num_labels_per_instance = np.sum(gt7219_binary, axis=1)\n",
    "average_labels = np.mean(num_labels_per_instance)\n",
    "print(\"ground truth: \", Counter(tuple(row) for row in gt7219_binary))\n",
    "print(\"\\n\")\n",
    "print(\"Ground truth: Average number of labels per instance:\", average_labels)\n",
    "\n",
    "ml_cm = multilabel_confusion_matrix(gt7219_binary, pred_7219_binary)\n",
    "print(\"Entropy: 0.7219\")\n",
    "for i, cm in enumerate(ml_cm):\n",
    "    cm_df = pd.DataFrame(cm, index=['True Negative', 'True Positive'], columns=['Pred Negative', 'Pred Positive'])\n",
    "    print(f\"Confusion Matrix for Label {i}:\\n\", cm_df, \"\\n\")\n",
    "    # nuetral class: 496/ = 0.92"
   ]
  },
  {
   "cell_type": "code",
   "execution_count": null,
   "metadata": {},
   "outputs": [],
   "source": [
    "# 0.6577：68% \n",
    "# 0.7219: 75%, 37%, 30%, 27%\n",
    "# 0.9710: 73%, 38%, 46%, 34%"
   ]
  },
  {
   "cell_type": "code",
   "execution_count": 317,
   "metadata": {},
   "outputs": [
    {
     "name": "stdout",
     "output_type": "stream",
     "text": [
      "Total number:  335\n",
      "Prediction:  Counter({(1, 0, 0, 0): 151, (1, 1, 0, 0): 49, (0, 1, 0, 0): 48, (1, 0, 0, 1): 22, (0, 0, 1, 0): 21, (0, 0, 0, 1): 21, (1, 1, 0, 1): 13, (1, 0, 1, 0): 4, (1, 1, 1, 1): 2, (1, 1, 1, 0): 2, (0, 0, 1, 1): 1, (1, 0, 1, 1): 1})\n",
      "Prediction: Average number of labels per instance: 1.3402985074626865\n",
      "ground truth:  Counter({(1, 1, 0, 0): 270, (1, 0, 0, 1): 49, (1, 0, 1, 0): 7, (0, 1, 1, 0): 3, (0, 1, 0, 1): 3, (0, 0, 1, 1): 3})\n",
      "\n",
      "\n",
      "Ground truth: Average number of labels per instance: 2.0\n",
      "Entropy: 0.9710\n",
      "Confusion Matrix for Label 0:\n",
      "                Pred Negative  Pred Positive\n",
      "True Negative              6              3\n",
      "True Positive             85            241 \n",
      "\n",
      "Confusion Matrix for Label 1:\n",
      "                Pred Negative  Pred Positive\n",
      "True Negative             52              7\n",
      "True Positive            169            107 \n",
      "\n",
      "Confusion Matrix for Label 2:\n",
      "                Pred Negative  Pred Positive\n",
      "True Negative            297             25\n",
      "True Positive              7              6 \n",
      "\n",
      "Confusion Matrix for Label 3:\n",
      "                Pred Negative  Pred Positive\n",
      "True Negative            239             41\n",
      "True Positive             36             19 \n",
      "\n"
     ]
    }
   ],
   "source": [
    "from sklearn.metrics import multilabel_confusion_matrix\n",
    "pred_7219 = list(eval_metrics_ts[eval_metrics_ts['entropy'] == 0.9710]['prediction'])\n",
    "gt7219 = list(eval_metrics_ts[eval_metrics_ts['entropy'] == 0.9710]['ground_truth'])\n",
    "print(\"Total number: \", len(gt7219))\n",
    "pred_7219 = np.array(pred_7219)\n",
    "pred_7219_binary = (pred_7219 > 0).astype(int)\n",
    "print(\"Prediction: \",Counter(tuple(row) for row in pred_7219_binary))\n",
    "\n",
    "num_labels_per_instance = np.sum(pred_7219_binary, axis=1)\n",
    "average_labels = np.mean(num_labels_per_instance)\n",
    "print(\"Prediction: Average number of labels per instance:\", average_labels)\n",
    "\n",
    "gt7219 = np.array(gt7219)\n",
    "gt7219_binary = (gt7219 > 0).astype(int)\n",
    "\n",
    "num_labels_per_instance = np.sum(gt7219_binary, axis=1)\n",
    "average_labels = np.mean(num_labels_per_instance)\n",
    "\n",
    "print(\"ground truth: \",Counter(tuple(row) for row in gt7219_binary))\n",
    "print(\"\\n\")\n",
    "print(\"Ground truth: Average number of labels per instance:\", average_labels)\n",
    "\n",
    "ml_cm = multilabel_confusion_matrix(gt7219_binary, pred_7219_binary)\n",
    "print(\"Entropy: 0.9710\")\n",
    "for i, cm in enumerate(ml_cm):\n",
    "    cm_df = pd.DataFrame(cm, index=['True Negative', 'True Positive'], columns=['Pred Negative', 'Pred Positive'])\n",
    "    print(f\"Confusion Matrix for Label {i}:\\n\", cm_df, \"\\n\")\n",
    "    # 326/ 97%"
   ]
  },
  {
   "cell_type": "code",
   "execution_count": 151,
   "metadata": {},
   "outputs": [
    {
     "name": "stdout",
     "output_type": "stream",
     "text": [
      "Prediction:  Counter({(1, 0, 0, 0): 43, (0, 1, 0, 0): 13, (1, 1, 0, 0): 11, (0, 0, 1, 0): 7, (1, 0, 0, 1): 6, (1, 1, 0, 1): 6, (0, 0, 0, 1): 5, (1, 0, 1, 0): 4, (1, 1, 1, 0): 2, (1, 0, 1, 1): 1})\n",
      "Prediction: Average number of labels per instance: 1.3979591836734695\n",
      "ground truth:  Counter({(1, 1, 0, 1): 59, (1, 1, 1, 0): 29, (1, 0, 1, 1): 8, (0, 1, 1, 1): 2})\n",
      "Ground truth: Average number of labels per instance: 3.0\n",
      "Entropy: 1.3710\n",
      "Confusion Matrix for Label 0:\n",
      "                Pred Negative  Pred Positive\n",
      "True Negative              1              1\n",
      "True Positive             24             72 \n",
      "\n",
      "Confusion Matrix for Label 1:\n",
      "                Pred Negative  Pred Positive\n",
      "True Negative              5              3\n",
      "True Positive             61             29 \n",
      "\n",
      "Confusion Matrix for Label 2:\n",
      "                Pred Negative  Pred Positive\n",
      "True Negative             54              5\n",
      "True Positive             30              9 \n",
      "\n",
      "Confusion Matrix for Label 3:\n",
      "                Pred Negative  Pred Positive\n",
      "True Negative             22              7\n",
      "True Positive             58             11 \n",
      "\n"
     ]
    }
   ],
   "source": [
    "from sklearn.metrics import multilabel_confusion_matrix\n",
    "pred_7219 = list(eval_metrics_ts[eval_metrics_ts['entropy'] ==1.3710]['prediction'])\n",
    "gt7219 = list(eval_metrics_ts[eval_metrics_ts['entropy'] == 1.3710]['ground_truth'])\n",
    "\n",
    "pred_7219 = np.array(pred_7219)\n",
    "pred_7219_binary = (pred_7219 > 0).astype(int)\n",
    "print(\"Prediction: \",Counter(tuple(row) for row in pred_7219_binary))\n",
    "\n",
    "num_labels_per_instance = np.sum(pred_7219_binary, axis=1)\n",
    "average_labels = np.mean(num_labels_per_instance)\n",
    "print(\"Prediction: Average number of labels per instance:\", average_labels)\n",
    "\n",
    "gt7219 = np.array(gt7219)\n",
    "gt7219_binary = (gt7219 > 0).astype(int)\n",
    "print(\"Prediction: \",Counter(tuple(row) for row in pred_7219_binary))\n",
    "\n",
    "print(\"ground truth: \",Counter(tuple(row) for row in gt7219_binary))\n",
    "\n",
    "num_labels_per_instance = np.sum(gt7219_binary, axis=1)\n",
    "average_labels = np.mean(num_labels_per_instance)\n",
    "print(\"Ground truth: Average number of labels per instance:\", average_labels)\n",
    "\n",
    "ml_cm = multilabel_confusion_matrix(gt7219_binary, pred_7219_binary)\n",
    "print(\"Entropy: 1.3710\")\n",
    "for i, cm in enumerate(ml_cm):\n",
    "    cm_df = pd.DataFrame(cm, index=['True Negative', 'True Positive'], columns=['Pred Negative', 'Pred Positive'])\n",
    "    print(f\"Confusion Matrix for Label {i}:\\n\", cm_df, \"\\n\")"
   ]
  },
  {
   "cell_type": "code",
   "execution_count": 143,
   "metadata": {},
   "outputs": [
    {
     "name": "stdout",
     "output_type": "stream",
     "text": [
      "Prediction: Average number of labels per instance: 1.3465346534653466\n",
      "Ground truth: Average number of labels per instance: 3.0\n",
      "Entropy: 1.5219\n",
      "Confusion Matrix for Label 0:\n",
      "                Pred Negative  Pred Positive\n",
      "True Negative              0              1\n",
      "True Positive             26             74 \n",
      "\n",
      "Confusion Matrix for Label 1:\n",
      "                Pred Negative  Pred Positive\n",
      "True Negative              9              2\n",
      "True Positive             70             20 \n",
      "\n",
      "Confusion Matrix for Label 2:\n",
      "                Pred Negative  Pred Positive\n",
      "True Negative             65              4\n",
      "True Positive             26              6 \n",
      "\n",
      "Confusion Matrix for Label 3:\n",
      "                Pred Negative  Pred Positive\n",
      "True Negative             16              4\n",
      "True Positive             56             25 \n",
      "\n"
     ]
    }
   ],
   "source": [
    "pred_7219 = list(eval_metrics_ts[eval_metrics_ts['entropy'] == 1.5219]['prediction'])\n",
    "gt7219 = list(eval_metrics_ts[eval_metrics_ts['entropy'] == 1.5219]['ground_truth'])\n",
    "\n",
    "pred_7219 = np.array(pred_7219)\n",
    "pred_7219_binary = (pred_7219 > 0).astype(int)\n",
    "num_labels_per_instance = np.sum(pred_7219_binary, axis=1)\n",
    "average_labels = np.mean(num_labels_per_instance)\n",
    "print(\"Prediction: Average number of labels per instance:\", average_labels)\n",
    "\n",
    "gt7219 = np.array(gt7219)\n",
    "gt7219_binary = (gt7219 > 0).astype(int)\n",
    "num_labels_per_instance = np.sum(gt7219_binary, axis=1)\n",
    "average_labels = np.mean(num_labels_per_instance)\n",
    "print(\"Ground truth: Average number of labels per instance:\", average_labels)\n",
    "\n",
    "ml_cm = multilabel_confusion_matrix(gt7219_binary, pred_7219_binary)\n",
    "print(\"Entropy: 1.5219\")\n",
    "for i, cm in enumerate(ml_cm):\n",
    "    cm_df = pd.DataFrame(cm, index=['True Negative', 'True Positive'], columns=['Pred Negative', 'Pred Positive'])\n",
    "    print(f\"Confusion Matrix for Label {i}:\\n\", cm_df, \"\\n\")"
   ]
  },
  {
   "cell_type": "code",
   "execution_count": null,
   "metadata": {},
   "outputs": [],
   "source": []
  },
  {
   "cell_type": "code",
   "execution_count": 72,
   "metadata": {},
   "outputs": [],
   "source": [
    "e7219 = list(eval_metrics_ts[eval_metrics_ts['entropy'] == 0.7219].index)"
   ]
  },
  {
   "cell_type": "code",
   "execution_count": 73,
   "metadata": {},
   "outputs": [
    {
     "name": "stdout",
     "output_type": "stream",
     "text": [
      "total number of podcast: 1855\n"
     ]
    }
   ],
   "source": [
    "msp = json.load(open('./data/msp_ambigous.json'))\n",
    "index = []\n",
    "for i in range(len(msp)):\n",
    "    if msp[i]['need_prediction'] == 'yes':\n",
    "        index.append(i)\n",
    "len(index)\n",
    "\n",
    "started_sessions = []\n",
    "organ_msp = {}\n",
    "for i in range(len(msp)):\n",
    "    podcast_ID = \"_\".join(msp[i]['id'].split(\"_\")[0:2])\n",
    "    if podcast_ID not in started_sessions:\n",
    "        started_sessions.append(\"_\".join(msp[i]['id'].split(\"_\")[0:2]))\n",
    "        organ_msp[podcast_ID] = []\n",
    "    organ_msp[podcast_ID].append(msp[i])\n",
    "print(\"total number of podcast:\", len(organ_msp.keys()))"
   ]
  },
  {
   "cell_type": "code",
   "execution_count": null,
   "metadata": {},
   "outputs": [],
   "source": []
  },
  {
   "cell_type": "code",
   "execution_count": 76,
   "metadata": {},
   "outputs": [
    {
     "data": {
      "text/plain": [
       "{'MSP-PODCAST_0001': 5,\n",
       " 'MSP-PODCAST_0003': 3,\n",
       " 'MSP-PODCAST_0038': 2,\n",
       " 'MSP-PODCAST_0046': 4,\n",
       " 'MSP-PODCAST_0047': 7,\n",
       " 'MSP-PODCAST_0049': 2,\n",
       " 'MSP-PODCAST_0051': 3,\n",
       " 'MSP-PODCAST_0072': 1,\n",
       " 'MSP-PODCAST_0073': 1,\n",
       " 'MSP-PODCAST_0081': 3,\n",
       " 'MSP-PODCAST_0113': 2,\n",
       " 'MSP-PODCAST_0114': 15,\n",
       " 'MSP-PODCAST_0147': 3,\n",
       " 'MSP-PODCAST_0167': 10,\n",
       " 'MSP-PODCAST_0175': 10,\n",
       " 'MSP-PODCAST_0184': 5,\n",
       " 'MSP-PODCAST_0187': 3,\n",
       " 'MSP-PODCAST_0190': 14,\n",
       " 'MSP-PODCAST_0194': 2,\n",
       " 'MSP-PODCAST_0201': 1,\n",
       " 'MSP-PODCAST_0202': 12,\n",
       " 'MSP-PODCAST_0214': 2,\n",
       " 'MSP-PODCAST_0217': 4,\n",
       " 'MSP-PODCAST_0218': 9,\n",
       " 'MSP-PODCAST_0219': 3,\n",
       " 'MSP-PODCAST_0228': 3,\n",
       " 'MSP-PODCAST_0232': 1,\n",
       " 'MSP-PODCAST_0240': 2,\n",
       " 'MSP-PODCAST_0247': 5,\n",
       " 'MSP-PODCAST_0267': 7,\n",
       " 'MSP-PODCAST_0273': 1,\n",
       " 'MSP-PODCAST_0280': 1,\n",
       " 'MSP-PODCAST_0281': 6,\n",
       " 'MSP-PODCAST_0282': 1,\n",
       " 'MSP-PODCAST_0289': 1,\n",
       " 'MSP-PODCAST_0295': 3,\n",
       " 'MSP-PODCAST_0345': 2,\n",
       " 'MSP-PODCAST_0368': 5,\n",
       " 'MSP-PODCAST_0370': 1,\n",
       " 'MSP-PODCAST_0371': 3,\n",
       " 'MSP-PODCAST_0381': 2,\n",
       " 'MSP-PODCAST_0384': 1,\n",
       " 'MSP-PODCAST_0434': 3,\n",
       " 'MSP-PODCAST_0451': 1,\n",
       " 'MSP-PODCAST_0453': 1,\n",
       " 'MSP-PODCAST_0483': 6,\n",
       " 'MSP-PODCAST_0498': 8,\n",
       " 'MSP-PODCAST_0500': 2,\n",
       " 'MSP-PODCAST_0537': 2,\n",
       " 'MSP-PODCAST_0538': 15,\n",
       " 'MSP-PODCAST_0550': 1,\n",
       " 'MSP-PODCAST_0560': 1,\n",
       " 'MSP-PODCAST_0566': 4,\n",
       " 'MSP-PODCAST_0571': 1,\n",
       " 'MSP-PODCAST_0572': 2,\n",
       " 'MSP-PODCAST_0573': 4,\n",
       " 'MSP-PODCAST_0578': 1,\n",
       " 'MSP-PODCAST_0580': 4,\n",
       " 'MSP-PODCAST_0582': 1,\n",
       " 'MSP-PODCAST_0584': 1,\n",
       " 'MSP-PODCAST_0585': 3,\n",
       " 'MSP-PODCAST_0587': 3,\n",
       " 'MSP-PODCAST_0589': 1,\n",
       " 'MSP-PODCAST_0592': 1,\n",
       " 'MSP-PODCAST_0594': 1,\n",
       " 'MSP-PODCAST_0595': 1,\n",
       " 'MSP-PODCAST_0599': 1,\n",
       " 'MSP-PODCAST_0600': 4,\n",
       " 'MSP-PODCAST_0611': 1,\n",
       " 'MSP-PODCAST_0640': 1,\n",
       " 'MSP-PODCAST_0661': 2,\n",
       " 'MSP-PODCAST_0668': 1,\n",
       " 'MSP-PODCAST_0673': 4,\n",
       " 'MSP-PODCAST_0674': 3,\n",
       " 'MSP-PODCAST_0675': 4,\n",
       " 'MSP-PODCAST_0676': 1,\n",
       " 'MSP-PODCAST_0677': 2,\n",
       " 'MSP-PODCAST_0678': 3,\n",
       " 'MSP-PODCAST_0679': 3,\n",
       " 'MSP-PODCAST_0680': 1,\n",
       " 'MSP-PODCAST_0681': 3,\n",
       " 'MSP-PODCAST_0682': 1,\n",
       " 'MSP-PODCAST_0684': 3,\n",
       " 'MSP-PODCAST_0685': 2,\n",
       " 'MSP-PODCAST_0686': 1,\n",
       " 'MSP-PODCAST_0687': 2,\n",
       " 'MSP-PODCAST_0688': 2,\n",
       " 'MSP-PODCAST_0689': 2,\n",
       " 'MSP-PODCAST_0690': 3,\n",
       " 'MSP-PODCAST_0691': 6,\n",
       " 'MSP-PODCAST_0692': 5,\n",
       " 'MSP-PODCAST_0694': 1,\n",
       " 'MSP-PODCAST_0696': 1,\n",
       " 'MSP-PODCAST_0697': 3,\n",
       " 'MSP-PODCAST_0698': 2,\n",
       " 'MSP-PODCAST_0699': 1,\n",
       " 'MSP-PODCAST_0700': 1,\n",
       " 'MSP-PODCAST_0701': 4,\n",
       " 'MSP-PODCAST_0702': 3,\n",
       " 'MSP-PODCAST_0703': 2,\n",
       " 'MSP-PODCAST_0706': 2,\n",
       " 'MSP-PODCAST_0708': 1,\n",
       " 'MSP-PODCAST_0709': 6,\n",
       " 'MSP-PODCAST_0710': 4,\n",
       " 'MSP-PODCAST_0711': 5,\n",
       " 'MSP-PODCAST_0713': 1,\n",
       " 'MSP-PODCAST_0714': 2,\n",
       " 'MSP-PODCAST_0715': 2,\n",
       " 'MSP-PODCAST_0716': 1,\n",
       " 'MSP-PODCAST_0717': 4,\n",
       " 'MSP-PODCAST_0718': 3,\n",
       " 'MSP-PODCAST_0719': 3,\n",
       " 'MSP-PODCAST_0721': 4,\n",
       " 'MSP-PODCAST_0722': 3,\n",
       " 'MSP-PODCAST_0723': 4,\n",
       " 'MSP-PODCAST_0724': 1,\n",
       " 'MSP-PODCAST_0730': 1,\n",
       " 'MSP-PODCAST_0731': 1,\n",
       " 'MSP-PODCAST_0736': 1,\n",
       " 'MSP-PODCAST_0742': 1,\n",
       " 'MSP-PODCAST_0751': 2,\n",
       " 'MSP-PODCAST_0763': 1,\n",
       " 'MSP-PODCAST_0772': 5,\n",
       " 'MSP-PODCAST_0773': 3,\n",
       " 'MSP-PODCAST_0774': 1,\n",
       " 'MSP-PODCAST_0779': 5,\n",
       " 'MSP-PODCAST_0780': 1,\n",
       " 'MSP-PODCAST_0789': 1,\n",
       " 'MSP-PODCAST_0794': 1,\n",
       " 'MSP-PODCAST_0805': 1,\n",
       " 'MSP-PODCAST_0821': 2,\n",
       " 'MSP-PODCAST_0836': 2,\n",
       " 'MSP-PODCAST_0877': 1,\n",
       " 'MSP-PODCAST_0878': 3,\n",
       " 'MSP-PODCAST_0888': 1,\n",
       " 'MSP-PODCAST_0916': 1,\n",
       " 'MSP-PODCAST_0918': 1,\n",
       " 'MSP-PODCAST_0929': 1,\n",
       " 'MSP-PODCAST_1102': 3,\n",
       " 'MSP-PODCAST_1119': 1,\n",
       " 'MSP-PODCAST_1213': 1,\n",
       " 'MSP-PODCAST_1214': 6,\n",
       " 'MSP-PODCAST_1215': 2,\n",
       " 'MSP-PODCAST_1216': 6,\n",
       " 'MSP-PODCAST_1217': 5,\n",
       " 'MSP-PODCAST_1218': 2,\n",
       " 'MSP-PODCAST_1495': 4,\n",
       " 'MSP-PODCAST_1535': 1,\n",
       " 'MSP-PODCAST_1556': 1,\n",
       " 'MSP-PODCAST_1557': 2,\n",
       " 'MSP-PODCAST_1607': 2,\n",
       " 'MSP-PODCAST_1608': 3,\n",
       " 'MSP-PODCAST_1645': 2,\n",
       " 'MSP-PODCAST_1649': 2,\n",
       " 'MSP-PODCAST_1651': 2,\n",
       " 'MSP-PODCAST_1652': 1,\n",
       " 'MSP-PODCAST_1655': 3,\n",
       " 'MSP-PODCAST_1659': 1,\n",
       " 'MSP-PODCAST_1668': 1,\n",
       " 'MSP-PODCAST_1672': 1,\n",
       " 'MSP-PODCAST_1680': 1,\n",
       " 'MSP-PODCAST_1681': 2,\n",
       " 'MSP-PODCAST_1683': 1,\n",
       " 'MSP-PODCAST_1684': 2,\n",
       " 'MSP-PODCAST_1685': 4,\n",
       " 'MSP-PODCAST_1692': 4,\n",
       " 'MSP-PODCAST_1693': 3,\n",
       " 'MSP-PODCAST_1695': 2,\n",
       " 'MSP-PODCAST_1697': 2,\n",
       " 'MSP-PODCAST_1699': 2,\n",
       " 'MSP-PODCAST_1700': 1,\n",
       " 'MSP-PODCAST_1701': 2,\n",
       " 'MSP-PODCAST_1703': 2,\n",
       " 'MSP-PODCAST_1908': 3,\n",
       " 'MSP-PODCAST_1909': 7,\n",
       " 'MSP-PODCAST_1910': 2,\n",
       " 'MSP-PODCAST_2053': 2,\n",
       " 'MSP-PODCAST_2055': 2,\n",
       " 'MSP-PODCAST_2056': 1,\n",
       " 'MSP-PODCAST_2058': 1,\n",
       " 'MSP-PODCAST_2197': 1,\n",
       " 'MSP-PODCAST_2337': 2,\n",
       " 'MSP-PODCAST_2353': 1,\n",
       " 'MSP-PODCAST_2424': 9,\n",
       " 'MSP-PODCAST_2425': 25}"
      ]
     },
     "execution_count": 76,
     "metadata": {},
     "output_type": "execute_result"
    }
   ],
   "source": [
    "num = 0\n",
    "pd7219 = {}\n",
    "for podcast_ID in organ_msp.keys():\n",
    "    for i in range(len(organ_msp[podcast_ID])):\n",
    "\n",
    "        if organ_msp[podcast_ID][i]['need_prediction'] == \"yes\":\n",
    "            num += 1\n",
    "            if num in(e7219):\n",
    "                if podcast_ID not in pd7219:\n",
    "                    pd7219[podcast_ID] = 0\n",
    "                pd7219[podcast_ID] += 1\n",
    "pd7219"
   ]
  },
  {
   "cell_type": "code",
   "execution_count": 315,
   "metadata": {},
   "outputs": [
    {
     "name": "stderr",
     "output_type": "stream",
     "text": [
      "/Users/macbookpro/Documents/Research Project/LLM_Ambiguous_Emotion/eval_metrics.py:12: RuntimeWarning: divide by zero encountered in log\n",
      "  KL_value = np.sum(np.where(a != 0, a * np.log(a / b), 0))\n",
      "/Users/macbookpro/Documents/Research Project/LLM_Ambiguous_Emotion/eval_metrics.py:12: RuntimeWarning: invalid value encountered in multiply\n",
      "  KL_value = np.sum(np.where(a != 0, a * np.log(a / b), 0))\n"
     ]
    },
    {
     "name": "stdout",
     "output_type": "stream",
     "text": [
      "Number of instances for entropy =  0.0 :  2711\n",
      "Number of instances for entropy =  0.2864 :  2\n",
      "Number of instances for entropy =  0.3274 :  2\n",
      "Number of instances for entropy =  0.4022 :  35\n",
      "Number of instances for entropy =  0.4365 :  7\n",
      "Number of instances for entropy =  0.469 :  1\n",
      "Number of instances for entropy =  0.569 :  1\n",
      "Number of instances for entropy =  0.5842 :  3\n",
      "Number of instances for entropy =  0.6098 :  4\n",
      "Number of instances for entropy =  0.6367 :  1\n",
      "Number of instances for entropy =  0.6577 :  144\n",
      "Number of instances for entropy =  0.6801 :  3\n",
      "Number of instances for entropy =  0.7219 :  537\n",
      "Number of instances for entropy =  0.778 :  2\n",
      "Number of instances for entropy =  0.7823 :  7\n",
      "Number of instances for entropy =  0.8061 :  1\n",
      "Number of instances for entropy =  0.8113 :  6\n",
      "Number of instances for entropy =  0.8354 :  1\n",
      "Number of instances for entropy =  0.8601 :  1\n",
      "Number of instances for entropy =  0.8687 :  1\n",
      "Number of instances for entropy =  0.8813 :  1\n",
      "Number of instances for entropy =  0.8932 :  2\n",
      "Number of instances for entropy =  0.9149 :  24\n",
      "Number of instances for entropy =  0.9219 :  1\n",
      "Number of instances for entropy =  0.958 :  1\n",
      "Number of instances for entropy =  0.971 :  335\n",
      "Number of instances for entropy =  0.9858 :  2\n",
      "Number of instances for entropy =  0.9924 :  3\n",
      "Number of instances for entropy =  0.9954 :  1\n",
      "Number of instances for entropy =  1.0 :  7\n",
      "Number of instances for entropy =  1.0374 :  1\n",
      "Number of instances for entropy =  1.0894 :  2\n",
      "Number of instances for entropy =  1.1486 :  1\n",
      "Number of instances for entropy =  1.1568 :  1\n",
      "Number of instances for entropy =  1.1621 :  1\n",
      "Number of instances for entropy =  1.1786 :  1\n",
      "Number of instances for entropy =  1.2382 :  1\n",
      "Number of instances for entropy =  1.2563 :  10\n",
      "Number of instances for entropy =  1.302 :  1\n",
      "Number of instances for entropy =  1.3172 :  2\n",
      "Number of instances for entropy =  1.3258 :  1\n",
      "Number of instances for entropy =  1.3341 :  1\n",
      "Number of instances for entropy =  1.361 :  2\n",
      "Number of instances for entropy =  1.371 :  98\n",
      "Number of instances for entropy =  1.4563 :  1\n",
      "Number of instances for entropy =  1.4624 :  16\n",
      "Number of instances for entropy =  1.5219 :  101\n",
      "Number of instances for entropy =  1.8038 :  2\n",
      "Number of instances for entropy =  1.8357 :  1\n",
      "Number of instances for entropy =  1.9219 :  23\n",
      "Mean of JS 0.4\n",
      "Mean of BC score:  0.61\n",
      "Mean of R square:  0.57\n",
      "ECE:  39.37\n",
      "UAC:  55.91\n",
      "Weighted F1:  55.87\n"
     ]
    },
    {
     "data": {
      "text/plain": [
       "<Figure size 432x288 with 0 Axes>"
      ]
     },
     "metadata": {},
     "output_type": "display_data"
    },
    {
     "data": {
      "image/png": "[encoded data removed]",
      "text/plain": [
       "<Figure size 1080x360 with 3 Axes>"
      ]
     },
     "metadata": {
      "needs_background": "light"
     },
     "output_type": "display_data"
    }
   ],
   "source": [
    "eval_metrics_ts = whole_eval(\"msp_prediction/fs_30con_withaudio\")"
   ]
  },
  {
   "cell_type": "code",
   "execution_count": 295,
   "metadata": {},
   "outputs": [
    {
     "data": {
      "text/html": [
       "<div>\n",
       "<style scoped>\n",
       "    .dataframe tbody tr th:only-of-type {\n",
       "        vertical-align: middle;\n",
       "    }\n",
       "\n",
       "    .dataframe tbody tr th {\n",
       "        vertical-align: top;\n",
       "    }\n",
       "\n",
       "    .dataframe thead th {\n",
       "        text-align: right;\n",
       "    }\n",
       "</style>\n",
       "<table border=\"1\" class=\"dataframe\">\n",
       "  <thead>\n",
       "    <tr style=\"text-align: right;\">\n",
       "      <th></th>\n",
       "      <th>ground_truth</th>\n",
       "      <th>prediction</th>\n",
       "      <th>KL</th>\n",
       "      <th>BC</th>\n",
       "      <th>R_square</th>\n",
       "      <th>JS</th>\n",
       "      <th>KL_std</th>\n",
       "      <th>entropy</th>\n",
       "    </tr>\n",
       "  </thead>\n",
       "  <tbody>\n",
       "    <tr>\n",
       "      <th>0</th>\n",
       "      <td>[0.4, 0.6, 0.0, 0.0]</td>\n",
       "      <td>[1.0, 0.0, 0.0, 0.0]</td>\n",
       "      <td>0.9163</td>\n",
       "      <td>0.6325</td>\n",
       "      <td>0.1111</td>\n",
       "      <td>0.523784</td>\n",
       "      <td>0.049743</td>\n",
       "      <td>0.9710</td>\n",
       "    </tr>\n",
       "    <tr>\n",
       "      <th>1</th>\n",
       "      <td>[0.6, 0.0, 0.0, 0.4]</td>\n",
       "      <td>[0.0, 0.0, 0.0, 1.0]</td>\n",
       "      <td>0.9163</td>\n",
       "      <td>0.6325</td>\n",
       "      <td>0.1111</td>\n",
       "      <td>0.523784</td>\n",
       "      <td>0.049743</td>\n",
       "      <td>0.9710</td>\n",
       "    </tr>\n",
       "    <tr>\n",
       "      <th>2</th>\n",
       "      <td>[0.4, 0.6, 0.0, 0.0]</td>\n",
       "      <td>[0.8, 0.0, 0.0, 0.2]</td>\n",
       "      <td>3.9168</td>\n",
       "      <td>0.5657</td>\n",
       "      <td>0.0422</td>\n",
       "      <td>0.557898</td>\n",
       "      <td>0.212630</td>\n",
       "      <td>0.9710</td>\n",
       "    </tr>\n",
       "    <tr>\n",
       "      <th>3</th>\n",
       "      <td>[0.8, 0.0, 0.0, 0.2]</td>\n",
       "      <td>[1.0, 0.0, 0.0, 0.0]</td>\n",
       "      <td>0.2231</td>\n",
       "      <td>0.8944</td>\n",
       "      <td>0.9380</td>\n",
       "      <td>0.273679</td>\n",
       "      <td>0.012111</td>\n",
       "      <td>0.7219</td>\n",
       "    </tr>\n",
       "    <tr>\n",
       "      <th>4</th>\n",
       "      <td>[0.8, 0.0, 0.0, 0.2]</td>\n",
       "      <td>[1.0, 0.0, 0.0, 0.0]</td>\n",
       "      <td>0.2231</td>\n",
       "      <td>0.8944</td>\n",
       "      <td>0.9380</td>\n",
       "      <td>0.273679</td>\n",
       "      <td>0.012111</td>\n",
       "      <td>0.7219</td>\n",
       "    </tr>\n",
       "    <tr>\n",
       "      <th>...</th>\n",
       "      <td>...</td>\n",
       "      <td>...</td>\n",
       "      <td>...</td>\n",
       "      <td>...</td>\n",
       "      <td>...</td>\n",
       "      <td>...</td>\n",
       "      <td>...</td>\n",
       "      <td>...</td>\n",
       "    </tr>\n",
       "    <tr>\n",
       "      <th>4109</th>\n",
       "      <td>[0.4, 0.6, 0.0, 0.0]</td>\n",
       "      <td>[1.0, 0.0, 0.0, 0.0]</td>\n",
       "      <td>0.9163</td>\n",
       "      <td>0.6325</td>\n",
       "      <td>0.1111</td>\n",
       "      <td>0.523784</td>\n",
       "      <td>0.049743</td>\n",
       "      <td>0.9710</td>\n",
       "    </tr>\n",
       "    <tr>\n",
       "      <th>4110</th>\n",
       "      <td>[0.8, 0.0, 0.2, 0.0]</td>\n",
       "      <td>[0.0, 0.0, 1.0, 0.0]</td>\n",
       "      <td>1.6094</td>\n",
       "      <td>0.4472</td>\n",
       "      <td>0.0078</td>\n",
       "      <td>0.650231</td>\n",
       "      <td>0.087369</td>\n",
       "      <td>0.7219</td>\n",
       "    </tr>\n",
       "    <tr>\n",
       "      <th>4111</th>\n",
       "      <td>[0.0, 1.0, 0.0, 0.0]</td>\n",
       "      <td>[1.0, 0.0, 0.0, 0.0]</td>\n",
       "      <td>18.4207</td>\n",
       "      <td>0.0000</td>\n",
       "      <td>0.1111</td>\n",
       "      <td>0.832526</td>\n",
       "      <td>1.000000</td>\n",
       "      <td>0.0000</td>\n",
       "    </tr>\n",
       "    <tr>\n",
       "      <th>4112</th>\n",
       "      <td>[0.6, 0.0, 0.4, 0.0]</td>\n",
       "      <td>[0.9, 0.0, 0.0, 0.1]</td>\n",
       "      <td>1.9767</td>\n",
       "      <td>0.7348</td>\n",
       "      <td>0.5465</td>\n",
       "      <td>0.434051</td>\n",
       "      <td>0.107309</td>\n",
       "      <td>0.9710</td>\n",
       "    </tr>\n",
       "    <tr>\n",
       "      <th>4113</th>\n",
       "      <td>[0.2, 0.8, 0.0, 0.0]</td>\n",
       "      <td>[0.0, 0.0, 1.0, 0.0]</td>\n",
       "      <td>18.4207</td>\n",
       "      <td>0.0000</td>\n",
       "      <td>0.1938</td>\n",
       "      <td>0.832526</td>\n",
       "      <td>1.000000</td>\n",
       "      <td>0.7219</td>\n",
       "    </tr>\n",
       "  </tbody>\n",
       "</table>\n",
       "<p>4114 rows × 8 columns</p>\n",
       "</div>"
      ],
      "text/plain": [
       "              ground_truth            prediction       KL      BC  R_square  \\\n",
       "0     [0.4, 0.6, 0.0, 0.0]  [1.0, 0.0, 0.0, 0.0]   0.9163  0.6325    0.1111   \n",
       "1     [0.6, 0.0, 0.0, 0.4]  [0.0, 0.0, 0.0, 1.0]   0.9163  0.6325    0.1111   \n",
       "2     [0.4, 0.6, 0.0, 0.0]  [0.8, 0.0, 0.0, 0.2]   3.9168  0.5657    0.0422   \n",
       "3     [0.8, 0.0, 0.0, 0.2]  [1.0, 0.0, 0.0, 0.0]   0.2231  0.8944    0.9380   \n",
       "4     [0.8, 0.0, 0.0, 0.2]  [1.0, 0.0, 0.0, 0.0]   0.2231  0.8944    0.9380   \n",
       "...                    ...                   ...      ...     ...       ...   \n",
       "4109  [0.4, 0.6, 0.0, 0.0]  [1.0, 0.0, 0.0, 0.0]   0.9163  0.6325    0.1111   \n",
       "4110  [0.8, 0.0, 0.2, 0.0]  [0.0, 0.0, 1.0, 0.0]   1.6094  0.4472    0.0078   \n",
       "4111  [0.0, 1.0, 0.0, 0.0]  [1.0, 0.0, 0.0, 0.0]  18.4207  0.0000    0.1111   \n",
       "4112  [0.6, 0.0, 0.4, 0.0]  [0.9, 0.0, 0.0, 0.1]   1.9767  0.7348    0.5465   \n",
       "4113  [0.2, 0.8, 0.0, 0.0]  [0.0, 0.0, 1.0, 0.0]  18.4207  0.0000    0.1938   \n",
       "\n",
       "            JS    KL_std  entropy  \n",
       "0     0.523784  0.049743   0.9710  \n",
       "1     0.523784  0.049743   0.9710  \n",
       "2     0.557898  0.212630   0.9710  \n",
       "3     0.273679  0.012111   0.7219  \n",
       "4     0.273679  0.012111   0.7219  \n",
       "...        ...       ...      ...  \n",
       "4109  0.523784  0.049743   0.9710  \n",
       "4110  0.650231  0.087369   0.7219  \n",
       "4111  0.832526  1.000000   0.0000  \n",
       "4112  0.434051  0.107309   0.9710  \n",
       "4113  0.832526  1.000000   0.7219  \n",
       "\n",
       "[4114 rows x 8 columns]"
      ]
     },
     "execution_count": 295,
     "metadata": {},
     "output_type": "execute_result"
    }
   ],
   "source": [
    "eval_metrics_ts"
   ]
  },
  {
   "cell_type": "code",
   "execution_count": 296,
   "metadata": {},
   "outputs": [],
   "source": [
    "def check_voting(probabilities):\n",
    "    # First, find the maximum probability in the list\n",
    "    max_prob = max(probabilities)\n",
    "    # Count how many times the maximum probability occurs in the list\n",
    "    max_count = probabilities.count(max_prob)\n",
    "    # If the maximum probability occurs more than once, return True (no agreement)\n",
    "    if max_count > 1:\n",
    "        no_voting =  False\n",
    "    else:\n",
    "        no_voting = True\n",
    "    return no_voting"
   ]
  },
  {
   "cell_type": "code",
   "execution_count": 297,
   "metadata": {},
   "outputs": [
    {
     "data": {
      "text/plain": [
       "False"
      ]
     },
     "execution_count": 297,
     "metadata": {},
     "output_type": "execute_result"
    }
   ],
   "source": [
    "check_voting(gt_entro[0])"
   ]
  },
  {
   "cell_type": "code",
   "execution_count": 307,
   "metadata": {},
   "outputs": [
    {
     "name": "stdout",
     "output_type": "stream",
     "text": [
      "ACC 53.0\n",
      "W-F1 53.41\n",
      "UAR 42.36\n"
     ]
    }
   ],
   "source": [
    "eval_metrics_ts = eval_metrics_ts[eval_metrics_ts['ground_truth'].apply(lambda x: check_voting(x))].reset_index()\n",
    "gt_label = []\n",
    "pred_label = []\n",
    "\n",
    "for i in range(len(valid)):\n",
    "    gt_label.append(np.argmax(valid.loc[i,'ground_truth']))\n",
    "    pred_label.append(np.argmax(valid.loc[i,'prediction']))\n",
    "print(\"ACC\", round(accuracy_score(gt_label, pred_label)*100,2))\n",
    "print(\"W-F1\", round(f1_score(gt_label, pred_label, average=\"weighted\")*100, 2))\n",
    "print(\"UAR\", round(balanced_accuracy_score(gt_label, pred_label)*100, 2))"
   ]
  },
  {
   "cell_type": "code",
   "execution_count": 308,
   "metadata": {},
   "outputs": [
    {
     "data": {
      "text/plain": [
       "4006"
      ]
     },
     "execution_count": 308,
     "metadata": {},
     "output_type": "execute_result"
    }
   ],
   "source": [
    "len(eval_metrics_ts)"
   ]
  },
  {
   "cell_type": "code",
   "execution_count": 309,
   "metadata": {},
   "outputs": [
    {
     "name": "stdout",
     "output_type": "stream",
     "text": [
      "W-F1 56.12\n",
      "ACC 56.44\n",
      "UAR 46.44\n"
     ]
    }
   ],
   "source": [
    "gt_label = []\n",
    "pred_label = []\n",
    "entro_value = 0.0000\n",
    "\n",
    "gt_entro = list(eval_metrics_ts[eval_metrics_ts['entropy'] == entro_value]['ground_truth'])\n",
    "pred_entro = list(eval_metrics_ts[eval_metrics_ts['entropy'] == entro_value]['prediction'])\n",
    "gt_entro == pred_entro\n",
    "for i in range(len(pred_entro)):\n",
    "    gt_label.append(np.argmax(gt_entro[i]))\n",
    "    pred_label.append(np.argmax(pred_entro[i]))\n",
    "print(\"W-F1\", round(f1_score(gt_label, pred_label, average=\"weighted\")*100, 2))\n",
    "print(\"ACC\", round(accuracy_score(gt_label, pred_label)*100,2))\n",
    "print(\"UAR\", round(balanced_accuracy_score(gt_label, pred_label)*100, 2))"
   ]
  },
  {
   "cell_type": "code",
   "execution_count": 310,
   "metadata": {},
   "outputs": [
    {
     "name": "stdout",
     "output_type": "stream",
     "text": [
      "W-F1 50.51\n",
      "ACC 51.39\n",
      "UAR 46.33\n"
     ]
    }
   ],
   "source": [
    "gt_label = []\n",
    "pred_label = []\n",
    "entro_value = 0.6577\n",
    "\n",
    "gt_entro = list(eval_metrics_ts[eval_metrics_ts['entropy'] == entro_value]['ground_truth'])\n",
    "pred_entro = list(eval_metrics_ts[eval_metrics_ts['entropy'] == entro_value]['prediction'])\n",
    "gt_entro == pred_entro\n",
    "for i in range(len(pred_entro)):\n",
    "    gt_label.append(np.argmax(gt_entro[i]))\n",
    "    pred_label.append(np.argmax(pred_entro[i]))\n",
    "print(\"W-F1\", round(f1_score(gt_label, pred_label, average=\"weighted\")*100, 2))\n",
    "print(\"ACC\", round(accuracy_score(gt_label, pred_label)*100,2))\n",
    "print(\"UAR\", round(balanced_accuracy_score(gt_label, pred_label)*100, 2))"
   ]
  },
  {
   "cell_type": "code",
   "execution_count": 311,
   "metadata": {},
   "outputs": [
    {
     "name": "stdout",
     "output_type": "stream",
     "text": [
      "W-F1 63.45\n",
      "ACC 62.57\n",
      "UAR 56.83\n"
     ]
    }
   ],
   "source": [
    "gt_label = []\n",
    "pred_label = []\n",
    "entro_value = 0.7219\n",
    "\n",
    "gt_entro = list(eval_metrics_ts[eval_metrics_ts['entropy'] == entro_value]['ground_truth'])\n",
    "pred_entro = list(eval_metrics_ts[eval_metrics_ts['entropy'] == entro_value]['prediction'])\n",
    "gt_entro == pred_entro\n",
    "for i in range(len(pred_entro)):\n",
    "    gt_label.append(np.argmax(gt_entro[i]))\n",
    "    pred_label.append(np.argmax(pred_entro[i]))\n",
    "print(\"W-F1\", round(f1_score(gt_label, pred_label, average=\"weighted\")*100, 2))\n",
    "print(\"ACC\", round(accuracy_score(gt_label, pred_label)*100,2))\n",
    "print(\"UAR\", round(balanced_accuracy_score(gt_label, pred_label)*100, 2))"
   ]
  },
  {
   "cell_type": "code",
   "execution_count": 312,
   "metadata": {},
   "outputs": [
    {
     "name": "stdout",
     "output_type": "stream",
     "text": [
      "W-F1 51.35\n",
      "ACC 50.75\n",
      "UAR 39.93\n"
     ]
    }
   ],
   "source": [
    "gt_label = []\n",
    "pred_label = []\n",
    "entro_value = 0.9710\n",
    "\n",
    "gt_entro = list(eval_metrics_ts[eval_metrics_ts['entropy'] == entro_value]['ground_truth'])\n",
    "pred_entro = list(eval_metrics_ts[eval_metrics_ts['entropy'] == entro_value]['prediction'])\n",
    "gt_entro == pred_entro\n",
    "for i in range(len(pred_entro)):\n",
    "    gt_label.append(np.argmax(gt_entro[i]))\n",
    "    pred_label.append(np.argmax(pred_entro[i]))\n",
    "print(\"W-F1\", round(f1_score(gt_label, pred_label, average=\"weighted\")*100, 2))\n",
    "print(\"ACC\", round(accuracy_score(gt_label, pred_label)*100,2))\n",
    "print(\"UAR\", round(balanced_accuracy_score(gt_label, pred_label)*100, 2))"
   ]
  },
  {
   "cell_type": "code",
   "execution_count": 313,
   "metadata": {},
   "outputs": [
    {
     "name": "stdout",
     "output_type": "stream",
     "text": [
      "W-F1 46.42\n",
      "ACC 45.92\n",
      "UAR 27.68\n"
     ]
    }
   ],
   "source": [
    "gt_label = []\n",
    "pred_label = []\n",
    "entro_value = 1.3710\n",
    "\n",
    "gt_entro = list(eval_metrics_ts[eval_metrics_ts['entropy'] == entro_value]['ground_truth'])\n",
    "pred_entro = list(eval_metrics_ts[eval_metrics_ts['entropy'] == entro_value]['prediction'])\n",
    "gt_entro == pred_entro\n",
    "for i in range(len(pred_entro)):\n",
    "    gt_label.append(np.argmax(gt_entro[i]))\n",
    "    pred_label.append(np.argmax(pred_entro[i]))\n",
    "print(\"W-F1\", round(f1_score(gt_label, pred_label, average=\"weighted\")*100, 2))\n",
    "print(\"ACC\", round(accuracy_score(gt_label, pred_label)*100,2))\n",
    "print(\"UAR\", round(balanced_accuracy_score(gt_label, pred_label)*100, 2))"
   ]
  },
  {
   "cell_type": "code",
   "execution_count": 314,
   "metadata": {},
   "outputs": [
    {
     "name": "stdout",
     "output_type": "stream",
     "text": [
      "W-F1 nan\n",
      "ACC nan\n",
      "UAR nan\n"
     ]
    },
    {
     "name": "stderr",
     "output_type": "stream",
     "text": [
      "/opt/anaconda3/lib/python3.9/site-packages/numpy/lib/function_base.py:495: RuntimeWarning: Mean of empty slice.\n",
      "  avg = a.mean(axis)\n",
      "/opt/anaconda3/lib/python3.9/site-packages/numpy/core/_methods.py:189: RuntimeWarning: invalid value encountered in double_scalars\n",
      "  ret = ret.dtype.type(ret / rcount)\n",
      "/opt/anaconda3/lib/python3.9/site-packages/numpy/core/fromnumeric.py:3474: RuntimeWarning: Mean of empty slice.\n",
      "  return _methods._mean(a, axis=axis, dtype=dtype,\n",
      "/opt/anaconda3/lib/python3.9/site-packages/numpy/core/_methods.py:189: RuntimeWarning: invalid value encountered in double_scalars\n",
      "  ret = ret.dtype.type(ret / rcount)\n"
     ]
    }
   ],
   "source": [
    "gt_label = []\n",
    "pred_label = []\n",
    "entro_value = 1.5219\n",
    "\n",
    "gt_entro = list(eval_metrics_ts[eval_metrics_ts['entropy'] == entro_value]['ground_truth'])\n",
    "pred_entro = list(eval_metrics_ts[eval_metrics_ts['entropy'] == entro_value]['prediction'])\n",
    "gt_entro == pred_entro\n",
    "for i in range(len(pred_entro)):\n",
    "    gt_label.append(np.argmax(gt_entro[i]))\n",
    "    pred_label.append(np.argmax(pred_entro[i]))\n",
    "print(\"W-F1\", round(f1_score(gt_label, pred_label, average=\"weighted\")*100, 2))\n",
    "\n",
    "print(\"ACC\", round(accuracy_score(gt_label, pred_label)*100,2))\n",
    "print(\"UAR\", round(balanced_accuracy_score(gt_label, pred_label)*100, 2))"
   ]
  },
  {
   "cell_type": "code",
   "execution_count": 217,
   "metadata": {},
   "outputs": [
    {
     "data": {
      "text/html": [
       "<div>\n",
       "<style scoped>\n",
       "    .dataframe tbody tr th:only-of-type {\n",
       "        vertical-align: middle;\n",
       "    }\n",
       "\n",
       "    .dataframe tbody tr th {\n",
       "        vertical-align: top;\n",
       "    }\n",
       "\n",
       "    .dataframe thead th {\n",
       "        text-align: right;\n",
       "    }\n",
       "</style>\n",
       "<table border=\"1\" class=\"dataframe\">\n",
       "  <thead>\n",
       "    <tr style=\"text-align: right;\">\n",
       "      <th></th>\n",
       "      <th>ground_truth</th>\n",
       "      <th>prediction</th>\n",
       "      <th>KL</th>\n",
       "      <th>BC</th>\n",
       "      <th>R_square</th>\n",
       "      <th>JS</th>\n",
       "      <th>KL_std</th>\n",
       "      <th>entropy</th>\n",
       "    </tr>\n",
       "  </thead>\n",
       "  <tbody>\n",
       "    <tr>\n",
       "      <th>0</th>\n",
       "      <td>[0.4, 0.6, 0.0, 0.0]</td>\n",
       "      <td>[1.0, 0.0, 0.0, 0.0]</td>\n",
       "      <td>0.9163</td>\n",
       "      <td>0.6325</td>\n",
       "      <td>0.1111</td>\n",
       "      <td>0.523784</td>\n",
       "      <td>0.049743</td>\n",
       "      <td>0.9710</td>\n",
       "    </tr>\n",
       "    <tr>\n",
       "      <th>1</th>\n",
       "      <td>[0.6, 0.0, 0.0, 0.4]</td>\n",
       "      <td>[1.0, 0.0, 0.0, 0.0]</td>\n",
       "      <td>0.5108</td>\n",
       "      <td>0.7746</td>\n",
       "      <td>0.6049</td>\n",
       "      <td>0.404784</td>\n",
       "      <td>0.027730</td>\n",
       "      <td>0.9710</td>\n",
       "    </tr>\n",
       "    <tr>\n",
       "      <th>2</th>\n",
       "      <td>[0.4, 0.6, 0.0, 0.0]</td>\n",
       "      <td>[0.0, 1.0, 0.0, 0.0]</td>\n",
       "      <td>0.5108</td>\n",
       "      <td>0.7746</td>\n",
       "      <td>0.6049</td>\n",
       "      <td>0.404784</td>\n",
       "      <td>0.027730</td>\n",
       "      <td>0.9710</td>\n",
       "    </tr>\n",
       "    <tr>\n",
       "      <th>3</th>\n",
       "      <td>[0.8, 0.0, 0.0, 0.2]</td>\n",
       "      <td>[1.0, 0.0, 0.0, 0.0]</td>\n",
       "      <td>0.2231</td>\n",
       "      <td>0.8944</td>\n",
       "      <td>0.9380</td>\n",
       "      <td>0.273679</td>\n",
       "      <td>0.012111</td>\n",
       "      <td>0.7219</td>\n",
       "    </tr>\n",
       "    <tr>\n",
       "      <th>4</th>\n",
       "      <td>[0.8, 0.0, 0.0, 0.2]</td>\n",
       "      <td>[1.0, 0.0, 0.0, 0.0]</td>\n",
       "      <td>0.2231</td>\n",
       "      <td>0.8944</td>\n",
       "      <td>0.9380</td>\n",
       "      <td>0.273679</td>\n",
       "      <td>0.012111</td>\n",
       "      <td>0.7219</td>\n",
       "    </tr>\n",
       "  </tbody>\n",
       "</table>\n",
       "</div>"
      ],
      "text/plain": [
       "           ground_truth            prediction      KL      BC  R_square  \\\n",
       "0  [0.4, 0.6, 0.0, 0.0]  [1.0, 0.0, 0.0, 0.0]  0.9163  0.6325    0.1111   \n",
       "1  [0.6, 0.0, 0.0, 0.4]  [1.0, 0.0, 0.0, 0.0]  0.5108  0.7746    0.6049   \n",
       "2  [0.4, 0.6, 0.0, 0.0]  [0.0, 1.0, 0.0, 0.0]  0.5108  0.7746    0.6049   \n",
       "3  [0.8, 0.0, 0.0, 0.2]  [1.0, 0.0, 0.0, 0.0]  0.2231  0.8944    0.9380   \n",
       "4  [0.8, 0.0, 0.0, 0.2]  [1.0, 0.0, 0.0, 0.0]  0.2231  0.8944    0.9380   \n",
       "\n",
       "         JS    KL_std  entropy  \n",
       "0  0.523784  0.049743   0.9710  \n",
       "1  0.404784  0.027730   0.9710  \n",
       "2  0.404784  0.027730   0.9710  \n",
       "3  0.273679  0.012111   0.7219  \n",
       "4  0.273679  0.012111   0.7219  "
      ]
     },
     "execution_count": 217,
     "metadata": {},
     "output_type": "execute_result"
    }
   ],
   "source": [
    "eval_metrics_ts.head()"
   ]
  },
  {
   "cell_type": "code",
   "execution_count": 65,
   "metadata": {},
   "outputs": [
    {
     "data": {
      "text/plain": [
       "<Figure size 432x288 with 0 Axes>"
      ]
     },
     "metadata": {},
     "output_type": "display_data"
    },
    {
     "data": {
      "image/png": "[encoded data removed]",
      "text/plain": [
       "<Figure size 1800x360 with 3 Axes>"
      ]
     },
     "metadata": {
      "needs_background": "light"
     },
     "output_type": "display_data"
    }
   ],
   "source": [
    "# def sns_vial(data):\n",
    "plt.rcParams['font.family'] = 'serif'\n",
    "\n",
    "plt.figure(facecolor='white')\n",
    "palette = sns.color_palette(\"husl\",3)  # 选择一个调色板\n",
    "\n",
    "fig, axs = plt.subplots(1, 3, figsize=(25, 5))\n",
    "\n",
    "boxprops = dict(edgecolor= \"gray\", linewidth=1.5)\n",
    "whiskerprops = dict(color= \"gray\", linewidth=1.5)\n",
    "capprops = dict(color= \"gray\", linewidth=1.5)\n",
    "\n",
    "# Customize the appearance of outliers\n",
    "flierprops = dict(marker='D', markersize = 2, linestyle = \"none\")\n",
    "\n",
    "box1 = sns.boxplot(x='entropy', y='JS', data=new_ev_df, ax=axs[0],palette = palette, width=0.4,\n",
    "                      boxprops=boxprops, whiskerprops=whiskerprops, capprops=capprops, flierprops= flierprops)\n",
    "#sns.stripplot(x='entropy', y='KL_std', data=eval_metrics_ts, ax=axs[0], color='black', jitter=True, alpha=0.4)\n",
    "median_color = \"black\"\n",
    "for i in [4, 10, 16]: \n",
    "    box1.get_lines()[i].set_color(median_color)\n",
    "    box1.get_lines()[i].set_linewidth(2)\n",
    "axs[0].set_ylabel('JS', fontsize = 18, labelpad=-2, fontweight='medium')\n",
    "axs[0].set_xlabel('Entropy', fontsize = 18, fontweight='semibold')\n",
    "axs[0].tick_params(axis='both', which='major', labelsize=14)\n",
    "\n",
    "# BC\n",
    "box2 = sns.boxplot(x='entropy', y='BC', data=new_ev_df, ax=axs[1],palette = palette, width=0.4,\n",
    "                   boxprops=boxprops, whiskerprops=whiskerprops, capprops=capprops, flierprops= flierprops)\n",
    "#sns.stripplot(x='entropy', y='BC', data=eval_metrics_ts, ax=axs[1], color=\".25\", jitter=True, alpha=0.4)\n",
    "for i in [4, 10, 16]:  # 修改第一组、第二组和第三组的中位数线条\n",
    "    box2.get_lines()[i].set_color(median_color)\n",
    "    box2.get_lines()[i].set_linewidth(2)\n",
    "axs[1].set_ylabel('BC', fontsize = 18, labelpad=-2, fontweight='medium')\n",
    "axs[1].set_xlabel('Entropy', fontsize = 18, fontweight='semibold')\n",
    "axs[1].tick_params(axis='both', which='major', labelsize=14)\n",
    "\n",
    "# R Square\n",
    "box3 = sns.boxplot(x='entropy', y='R_square', data=new_ev_df, ax=axs[2],palette = palette, width=0.4,\n",
    "                   boxprops=boxprops, whiskerprops=whiskerprops, capprops=capprops, flierprops= flierprops)\n",
    "#sns.stripplot(x='entropy', y='R_square', data=eval_metrics_ts, ax=axs[2], color=\".25\", jitter=True, alpha=0.4)\n",
    "for i in [4, 10, 16]:  # 修改第一组、第二组和第三组的中位数线条\n",
    "    box3.get_lines()[i].set_color(median_color)\n",
    "    box3.get_lines()[i].set_linewidth(2)\n",
    "axs[2].set_ylabel('R square', fontsize = 18, labelpad=-2,fontweight='medium')\n",
    "axs[2].set_xlabel('Entropy', fontsize = 18, fontweight='semibold')\n",
    "axs[2].tick_params(axis='both', which='major', labelsize=14)\n",
    "\n",
    "\n",
    "#sns.despine(left=True)\n",
    "\n",
    "plt.show()"
   ]
  },
  {
   "cell_type": "code",
   "execution_count": 213,
   "metadata": {},
   "outputs": [
    {
     "data": {
      "text/plain": [
       "<Figure size 432x288 with 0 Axes>"
      ]
     },
     "metadata": {},
     "output_type": "display_data"
    },
    {
     "data": {
      "image/png": "[encoded data removed]",
      "text/plain": [
       "<Figure size 1080x360 with 3 Axes>"
      ]
     },
     "metadata": {
      "needs_background": "light"
     },
     "output_type": "display_data"
    }
   ],
   "source": [
    "# def sns_vial(data):\n",
    "plt.rcParams['font.family'] = 'serif'\n",
    "\n",
    "plt.figure(facecolor='white')\n",
    "palette = sns.color_palette(\"husl\",6)  # 选择一个调色板\n",
    "\n",
    "fig, axs = plt.subplots(1, 3, figsize=(15, 5))\n",
    "\n",
    "boxprops = dict(edgecolor= \"gray\", linewidth=1.5)\n",
    "whiskerprops = dict(color= \"gray\", linewidth=1.5)\n",
    "capprops = dict(color= \"gray\", linewidth=1.5)\n",
    "\n",
    "# Customize the appearance of outliers\n",
    "flierprops = dict(marker='D', markersize = 2, linestyle = \"none\")\n",
    "\n",
    "box1 = sns.boxplot(x='entropy', y='JS', data=new_ev_df2, ax=axs[0],palette = palette, width=0.4,\n",
    "                      boxprops=boxprops, whiskerprops=whiskerprops, capprops=capprops, flierprops= flierprops)\n",
    "#sns.stripplot(x='entropy', y='KL_std', data=eval_metrics_ts, ax=axs[0], color='black', jitter=True, alpha=0.4)\n",
    "median_color = \"black\"\n",
    "for i in [4, 10, 16]: \n",
    "    box1.get_lines()[i].set_color(median_color)\n",
    "    box1.get_lines()[i].set_linewidth(2)\n",
    "axs[0].set_ylabel('JS', fontsize = 18, labelpad=-2, fontweight='semibold')\n",
    "axs[0].set_xlabel('Entropy', fontsize = 18, fontweight='semibold')\n",
    "axs[0].tick_params(axis='both', which='major', labelsize=14)\n",
    "axs[0].tick_params(axis='x', labelrotation=15)\n",
    "\n",
    "# BC\n",
    "box2 = sns.boxplot(x='entropy', y='BC', data=new_ev_df2, ax=axs[1],palette = palette, width=0.4,\n",
    "                   boxprops=boxprops, whiskerprops=whiskerprops, capprops=capprops, flierprops= flierprops)\n",
    "#sns.stripplot(x='entropy', y='BC', data=eval_metrics_ts, ax=axs[1], color=\".25\", jitter=True, alpha=0.4)\n",
    "for i in [4, 10, 16]:  # 修改第一组、第二组和第三组的中位数线条\n",
    "    box2.get_lines()[i].set_color(median_color)\n",
    "    box2.get_lines()[i].set_linewidth(2)\n",
    "axs[1].set_ylabel('BC', fontsize = 18, labelpad=-2, fontweight='semibold')\n",
    "axs[1].set_xlabel('Entropy', fontsize = 18, fontweight='semibold')\n",
    "axs[1].tick_params(axis='both', which='major', labelsize=14)\n",
    "axs[1].tick_params(axis='x', labelrotation=15)\n",
    "\n",
    "# R Square\n",
    "box3 = sns.boxplot(x='entropy', y='R_square', data=new_ev_df2, ax=axs[2],palette = palette, width=0.4,\n",
    "                   boxprops=boxprops, whiskerprops=whiskerprops, capprops=capprops, flierprops= flierprops)\n",
    "#sns.stripplot(x='entropy', y='R_square', data=eval_metrics_ts, ax=axs[2], color=\".25\", jitter=True, alpha=0.4)\n",
    "for i in [4, 10, 16]:  # 修改第一组、第二组和第三组的中位数线条\n",
    "    box3.get_lines()[i].set_color(median_color)\n",
    "    box3.get_lines()[i].set_linewidth(2)\n",
    "axs[2].set_ylabel('R square', fontsize = 18, labelpad=-2,fontweight='semibold')\n",
    "axs[2].set_xlabel('Entropy', fontsize = 18, fontweight='semibold')\n",
    "axs[2].tick_params(axis='both', which='major', labelsize=14)\n",
    "axs[2].tick_params(axis='x', labelrotation=15)\n",
    "\n",
    "\n",
    "#sns.despine(left=True)\n",
    "\n",
    "plt.show()"
   ]
  },
  {
   "cell_type": "code",
   "execution_count": null,
   "metadata": {},
   "outputs": [],
   "source": [
    "eval_metrics_ts[eval_metrics_ts['entropy'] == 0.1].iloc[0, 1]"
   ]
  },
  {
   "cell_type": "code",
   "execution_count": 37,
   "metadata": {},
   "outputs": [],
   "source": [
    "# best_pred, best_truth, best_log = get_results(\"goemotion_data/0908_fs10\")"
   ]
  },
  {
   "cell_type": "code",
   "execution_count": 34,
   "metadata": {},
   "outputs": [],
   "source": [
    "from sklearn.metrics import recall_score, balanced_accuracy_score"
   ]
  },
  {
   "cell_type": "code",
   "execution_count": 12,
   "metadata": {},
   "outputs": [
    {
     "data": {
      "text/plain": [
       "'impro'"
      ]
     },
     "execution_count": 12,
     "metadata": {},
     "output_type": "execute_result"
    }
   ],
   "source": [
    "'Ses01F_impro01_F001'.split(\"_\")[1][0:5]"
   ]
  },
  {
   "cell_type": "code",
   "execution_count": 15,
   "metadata": {},
   "outputs": [],
   "source": [
    "best_pred, best_truth, best_log = get_results(\"prediction/0831_c20_fs_at\")"
   ]
  },
  {
   "cell_type": "code",
   "execution_count": 16,
   "metadata": {},
   "outputs": [],
   "source": [
    "impro_pred = []\n",
    "impro_truth = []\n",
    "script_pred = []\n",
    "script_truth = []\n",
    "impro_log = []\n",
    "script_log = []\n",
    "i = 0\n",
    "\n",
    "for id, values in best_log.items():\n",
    "    if id.split(\"_\")[1][0:5] == \"impro\":\n",
    "        impro_pred.append(best_pred[i])\n",
    "        impro_truth.append(best_truth[i])\n",
    "        impro_log.append([id,values])\n",
    "    elif id.split(\"_\")[1][0:6] == \"script\":\n",
    "        script_pred.append(best_pred[i])\n",
    "        script_truth.append(best_truth[i])\n",
    "        script_log.append([id,values])\n",
    "    i += 1"
   ]
  },
  {
   "cell_type": "code",
   "execution_count": 17,
   "metadata": {},
   "outputs": [
    {
     "data": {
      "text/plain": [
       "4370"
      ]
     },
     "execution_count": 17,
     "metadata": {},
     "output_type": "execute_result"
    }
   ],
   "source": [
    "len(impro_pred) + len(script_pred)"
   ]
  },
  {
   "cell_type": "code",
   "execution_count": 18,
   "metadata": {},
   "outputs": [
    {
     "name": "stdout",
     "output_type": "stream",
     "text": [
      "number of utterances in impro 2448 2448\n",
      "number of utterances in script 1922 1922\n"
     ]
    }
   ],
   "source": [
    "print(\"number of utterances in impro\", len(impro_pred), len(impro_truth))\n",
    "print(\"number of utterances in script\", len(script_pred), len(script_truth))"
   ]
  },
  {
   "cell_type": "code",
   "execution_count": null,
   "metadata": {},
   "outputs": [],
   "source": []
  },
  {
   "cell_type": "code",
   "execution_count": 19,
   "metadata": {},
   "outputs": [
    {
     "name": "stderr",
     "output_type": "stream",
     "text": [
      "/Users/macbookpro/Documents/Research Project/LLM_Ambiguous_Emotion/eval_metrics.py:12: RuntimeWarning: divide by zero encountered in log\n",
      "  KL_value = np.sum(np.where(a != 0, a * np.log(a / b), 0))\n",
      "/Users/macbookpro/Documents/Research Project/LLM_Ambiguous_Emotion/eval_metrics.py:12: RuntimeWarning: invalid value encountered in multiply\n",
      "  KL_value = np.sum(np.where(a != 0, a * np.log(a / b), 0))\n",
      "/Users/macbookpro/Documents/Research Project/LLM_Ambiguous_Emotion/eval_metrics.py:12: RuntimeWarning: divide by zero encountered in log\n",
      "  KL_value = np.sum(np.where(a != 0, a * np.log(a / b), 0))\n",
      "/Users/macbookpro/Documents/Research Project/LLM_Ambiguous_Emotion/eval_metrics.py:12: RuntimeWarning: invalid value encountered in multiply\n",
      "  KL_value = np.sum(np.where(a != 0, a * np.log(a / b), 0))\n"
     ]
    }
   ],
   "source": [
    "impro_em = get_eval(impro_pred, impro_truth)\n",
    "script_em = get_eval(script_pred, script_truth)\n",
    "impro_em = add_entropy(impro_em)\n",
    "script_em = add_entropy(script_em)"
   ]
  },
  {
   "cell_type": "code",
   "execution_count": 20,
   "metadata": {},
   "outputs": [
    {
     "name": "stderr",
     "output_type": "stream",
     "text": [
      "/Users/macbookpro/Documents/Research Project/LLM_Ambiguous_Emotion/eval_metrics.py:12: RuntimeWarning: divide by zero encountered in log\n",
      "  KL_value = np.sum(np.where(a != 0, a * np.log(a / b), 0))\n",
      "/Users/macbookpro/Documents/Research Project/LLM_Ambiguous_Emotion/eval_metrics.py:12: RuntimeWarning: invalid value encountered in multiply\n",
      "  KL_value = np.sum(np.where(a != 0, a * np.log(a / b), 0))\n"
     ]
    },
    {
     "name": "stdout",
     "output_type": "stream",
     "text": [
      "Mean of JS score:  0.35\n"
     ]
    }
   ],
   "source": [
    "best_em = get_eval(best_pred,best_truth)\n",
    "best_em = add_entropy(best_em)\n",
    "print(\"Mean of JS score: \", round(best_em['JS'].mean(),2))\n"
   ]
  },
  {
   "cell_type": "code",
   "execution_count": 26,
   "metadata": {},
   "outputs": [
    {
     "data": {
      "text/plain": [
       "0.800779656862745"
      ]
     },
     "execution_count": 26,
     "metadata": {},
     "output_type": "execute_result"
    }
   ],
   "source": [
    "js_values = []\n",
    "for i in range(len(impro_pred)):\n",
    "    f, co = em.BC(impro_truth[i],impro_pred[i])\n",
    "    js_values.append(co)\n",
    "np.mean(js_values)"
   ]
  },
  {
   "cell_type": "code",
   "execution_count": 23,
   "metadata": {},
   "outputs": [
    {
     "name": "stderr",
     "output_type": "stream",
     "text": [
      "/Users/macbookpro/Documents/Research Project/LLM_Ambiguous_Emotion/eval_metrics.py:12: RuntimeWarning: divide by zero encountered in log\n",
      "  KL_value = np.sum(np.where(a != 0, a * np.log(a / b), 0))\n",
      "/Users/macbookpro/Documents/Research Project/LLM_Ambiguous_Emotion/eval_metrics.py:12: RuntimeWarning: invalid value encountered in multiply\n",
      "  KL_value = np.sum(np.where(a != 0, a * np.log(a / b), 0))\n"
     ]
    },
    {
     "data": {
      "text/plain": [
       "0.4623800730010348"
      ]
     },
     "execution_count": 23,
     "metadata": {},
     "output_type": "execute_result"
    }
   ],
   "source": [
    "js_values = []\n",
    "for i in range(len(script_pred)):\n",
    "    js_values.append(em.js_distance(script_pred[i],script_truth[i]))\n",
    "np.mean(js_values)"
   ]
  },
  {
   "cell_type": "code",
   "execution_count": null,
   "metadata": {},
   "outputs": [],
   "source": [
    "bs_values = []\n",
    "for i "
   ]
  },
  {
   "cell_type": "code",
   "execution_count": 20,
   "metadata": {},
   "outputs": [
    {
     "data": {
      "text/plain": [
       "array([0.15463235])"
      ]
     },
     "execution_count": 20,
     "metadata": {},
     "output_type": "execute_result"
    }
   ],
   "source": [
    "ECE(impro_truth, impro_pred)"
   ]
  },
  {
   "cell_type": "code",
   "execution_count": 21,
   "metadata": {},
   "outputs": [
    {
     "data": {
      "text/plain": [
       "array([0.39992716])"
      ]
     },
     "execution_count": 21,
     "metadata": {},
     "output_type": "execute_result"
    }
   ],
   "source": [
    "ECE(script_truth, script_pred)"
   ]
  },
  {
   "cell_type": "code",
   "execution_count": 18,
   "metadata": {},
   "outputs": [
    {
     "name": "stdout",
     "output_type": "stream",
     "text": [
      "Number of instances for entropy =  0.0 :  1486\n",
      "Number of instances for entropy =  0.9149 :  936\n",
      "Number of instances for entropy =  1.5835 :  26\n"
     ]
    },
    {
     "data": {
      "text/plain": [
       "<Figure size 432x288 with 0 Axes>"
      ]
     },
     "metadata": {},
     "output_type": "display_data"
    },
    {
     "data": {
      "image/png": "[encoded data removed]",
      "text/plain": [
       "<Figure size 1080x360 with 3 Axes>"
      ]
     },
     "metadata": {
      "needs_background": "light"
     },
     "output_type": "display_data"
    }
   ],
   "source": [
    "# def sns_vial(data):\n",
    "labels = sorted(impro_em['entropy'].unique())\n",
    "grouped_KL = [impro_em[impro_em['entropy'] == entropy][\"KL_std\"].values for entropy in sorted(impro_em['entropy'].unique())]\n",
    "\n",
    "for i in range(len(labels)):\n",
    "    print(\"Number of instances for entropy = \", labels[i], \": \", len(grouped_KL[i]))\n",
    "\n",
    "plt.figure(facecolor='white')\n",
    "palette = sns.color_palette(\"husl\",3)  # 选择一个调色板\n",
    "\n",
    "fig, axs = plt.subplots(1, 3, figsize=(15, 5))\n",
    "\n",
    "boxprops = dict(edgecolor= \"gray\", linewidth=1.5)\n",
    "whiskerprops = dict(color= \"gray\", linewidth=1.5)\n",
    "capprops = dict(color= \"gray\", linewidth=1.5)\n",
    "\n",
    "# Customize the appearance of outliers\n",
    "flierprops = dict(marker='D', markersize = 2, linestyle = \"none\")\n",
    "\n",
    "box1 = sns.boxplot(x='entropy', y='KL', data=impro_em, ax=axs[0],palette = palette, width=0.4,\n",
    "                      boxprops=boxprops, whiskerprops=whiskerprops, capprops=capprops, flierprops= flierprops)\n",
    "#sns.stripplot(x='entropy', y='KL_std', data=eval_metrics_ts, ax=axs[0], color='black', jitter=True, alpha=0.4)\n",
    "median_color = \"black\"\n",
    "for i in [4, 10, 16]: \n",
    "    box1.get_lines()[i].set_color(median_color)\n",
    "    box1.get_lines()[i].set_linewidth(2)\n",
    "axs[0].set_ylabel('KL', fontsize = 14)\n",
    "axs[0].set_xlabel('Entropy', fontsize = 14)\n",
    "\n",
    "# BC\n",
    "box2 = sns.boxplot(x='entropy', y='BC', data=impro_em, ax=axs[1],palette = palette, width=0.4,\n",
    "                   boxprops=boxprops, whiskerprops=whiskerprops, capprops=capprops, flierprops= flierprops)\n",
    "#sns.stripplot(x='entropy', y='BC', data=eval_metrics_ts, ax=axs[1], color=\".25\", jitter=True, alpha=0.4)\n",
    "for i in [4, 10, 16]:  # 修改第一组、第二组和第三组的中位数线条\n",
    "    box2.get_lines()[i].set_color(median_color)\n",
    "    box2.get_lines()[i].set_linewidth(2)\n",
    "axs[1].set_ylabel('BC', fontsize = 14)\n",
    "axs[1].set_xlabel('Entropy', fontsize = 14)\n",
    "\n",
    "# R Square\n",
    "box3 = sns.boxplot(x='entropy', y='R_square', data=impro_em, ax=axs[2],palette = palette, width=0.4,\n",
    "                   boxprops=boxprops, whiskerprops=whiskerprops, capprops=capprops, flierprops= flierprops)\n",
    "#sns.stripplot(x='entropy', y='R_square', data=eval_metrics_ts, ax=axs[2], color=\".25\", jitter=True, alpha=0.4)\n",
    "for i in [4, 10, 16]:  # 修改第一组、第二组和第三组的中位数线条\n",
    "    box3.get_lines()[i].set_color(median_color)\n",
    "    box3.get_lines()[i].set_linewidth(2)\n",
    "axs[2].set_ylabel('R square', fontsize = 14)\n",
    "axs[2].set_xlabel('Entropy', fontsize = 14)\n",
    "\n",
    "plt.suptitle(\"Impro data\", fontsize = 18)\n",
    "plt.show()"
   ]
  },
  {
   "cell_type": "markdown",
   "metadata": {},
   "source": [
    "60%"
   ]
  },
  {
   "cell_type": "code",
   "execution_count": 19,
   "metadata": {},
   "outputs": [
    {
     "name": "stdout",
     "output_type": "stream",
     "text": [
      "Number of instances for entropy =  0.0 :  1153\n",
      "Number of instances for entropy =  0.9149 :  749\n",
      "Number of instances for entropy =  1.5835 :  20\n"
     ]
    },
    {
     "name": "stderr",
     "output_type": "stream",
     "text": [
      "/var/folders/gk/b497571d49ndglvgyk5sb53h0000gn/T/ipykernel_90929/522223438.py:3: UserWarning: Boolean Series key will be reindexed to match DataFrame index.\n",
      "  grouped_KL = [script_em[impro_em['entropy'] == entropy][\"KL_std\"].values for entropy in sorted(script_em['entropy'].unique())]\n",
      "/var/folders/gk/b497571d49ndglvgyk5sb53h0000gn/T/ipykernel_90929/522223438.py:3: UserWarning: Boolean Series key will be reindexed to match DataFrame index.\n",
      "  grouped_KL = [script_em[impro_em['entropy'] == entropy][\"KL_std\"].values for entropy in sorted(script_em['entropy'].unique())]\n",
      "/var/folders/gk/b497571d49ndglvgyk5sb53h0000gn/T/ipykernel_90929/522223438.py:3: UserWarning: Boolean Series key will be reindexed to match DataFrame index.\n",
      "  grouped_KL = [script_em[impro_em['entropy'] == entropy][\"KL_std\"].values for entropy in sorted(script_em['entropy'].unique())]\n"
     ]
    },
    {
     "data": {
      "text/plain": [
       "<Figure size 432x288 with 0 Axes>"
      ]
     },
     "metadata": {},
     "output_type": "display_data"
    },
    {
     "data": {
      "image/png": "[encoded data removed]",
      "text/plain": [
       "<Figure size 1080x360 with 3 Axes>"
      ]
     },
     "metadata": {
      "needs_background": "light"
     },
     "output_type": "display_data"
    }
   ],
   "source": [
    "# def sns_vial(data):\n",
    "labels = sorted(script_em['entropy'].unique())\n",
    "grouped_KL = [script_em[impro_em['entropy'] == entropy][\"KL_std\"].values for entropy in sorted(script_em['entropy'].unique())]\n",
    "\n",
    "for i in range(len(labels)):\n",
    "    print(\"Number of instances for entropy = \", labels[i], \": \", len(grouped_KL[i]))\n",
    "\n",
    "plt.figure(facecolor='white')\n",
    "palette = sns.color_palette(\"husl\",3)  # 选择一个调色板\n",
    "\n",
    "fig, axs = plt.subplots(1, 3, figsize=(15, 5))\n",
    "\n",
    "boxprops = dict(edgecolor= \"gray\", linewidth=1.5)\n",
    "whiskerprops = dict(color= \"gray\", linewidth=1.5)\n",
    "capprops = dict(color= \"gray\", linewidth=1.5)\n",
    "\n",
    "# Customize the appearance of outliers\n",
    "flierprops = dict(marker='D', markersize = 2, linestyle = \"none\")\n",
    "\n",
    "box1 = sns.boxplot(x='entropy', y='KL', data=script_em, ax=axs[0],palette = palette, width=0.4,\n",
    "                      boxprops=boxprops, whiskerprops=whiskerprops, capprops=capprops, flierprops= flierprops)\n",
    "#sns.stripplot(x='entropy', y='KL_std', data=eval_metrics_ts, ax=axs[0], color='black', jitter=True, alpha=0.4)\n",
    "median_color = \"black\"\n",
    "for i in [4, 10, 16]: \n",
    "    box1.get_lines()[i].set_color(median_color)\n",
    "    box1.get_lines()[i].set_linewidth(2)\n",
    "axs[0].set_ylabel('KL', fontsize = 14)\n",
    "axs[0].set_xlabel('Entropy', fontsize = 14)\n",
    "\n",
    "# BC\n",
    "box2 = sns.boxplot(x='entropy', y='BC', data=script_em, ax=axs[1],palette = palette, width=0.4,\n",
    "                   boxprops=boxprops, whiskerprops=whiskerprops, capprops=capprops, flierprops= flierprops)\n",
    "#sns.stripplot(x='entropy', y='BC', data=eval_metrics_ts, ax=axs[1], color=\".25\", jitter=True, alpha=0.4)\n",
    "for i in [4, 10, 16]:  # 修改第一组、第二组和第三组的中位数线条\n",
    "    box2.get_lines()[i].set_color(median_color)\n",
    "    box2.get_lines()[i].set_linewidth(2)\n",
    "axs[1].set_ylabel('BC', fontsize = 14)\n",
    "axs[1].set_xlabel('Entropy', fontsize = 14)\n",
    "\n",
    "# R Square\n",
    "box3 = sns.boxplot(x='entropy', y='R_square', data=script_em, ax=axs[2],palette = palette, width=0.4,\n",
    "                   boxprops=boxprops, whiskerprops=whiskerprops, capprops=capprops, flierprops= flierprops)\n",
    "#sns.stripplot(x='entropy', y='R_square', data=eval_metrics_ts, ax=axs[2], color=\".25\", jitter=True, alpha=0.4)\n",
    "for i in [4, 10, 16]:  # 修改第一组、第二组和第三组的中位数线条\n",
    "    box3.get_lines()[i].set_color(median_color)\n",
    "    box3.get_lines()[i].set_linewidth(2)\n",
    "axs[2].set_ylabel('R square', fontsize = 14)\n",
    "axs[2].set_xlabel('Entropy', fontsize = 14)\n",
    "\n",
    "plt.suptitle(\"Script data\", fontsize = 18)\n",
    "plt.show()"
   ]
  },
  {
   "cell_type": "code",
   "execution_count": null,
   "metadata": {},
   "outputs": [],
   "source": []
  },
  {
   "cell_type": "code",
   "execution_count": 51,
   "metadata": {},
   "outputs": [
    {
     "name": "stdout",
     "output_type": "stream",
     "text": [
      "Script data\n",
      "Mean of KL score:  9.51\n",
      "Mean of BC score:  55.83\n",
      "Mean of R square:  45.81\n",
      "Impro data\n",
      "Mean of KL score:  3.93\n",
      "Mean of BC score:  80.08\n",
      "Mean of R square:  68.88\n"
     ]
    }
   ],
   "source": [
    "print(\"Script data\")\n",
    "print(\"Mean of KL score: \", round(script_em['KL'].mean(),2))\n",
    "print(\"Mean of BC score: \", round(script_em['BC'].mean()*100,2))\n",
    "print(\"Mean of R square: \", round(script_em['R_square'].mean()*100,2))\n",
    "\n",
    "print(\"Impro data\")\n",
    "print(\"Mean of KL score: \", round(impro_em['KL'].mean(),2))\n",
    "print(\"Mean of BC score: \", round(impro_em['BC'].mean()*100,2))\n",
    "print(\"Mean of R square: \", round(impro_em['R_square'].mean()*100,2))"
   ]
  },
  {
   "cell_type": "code",
   "execution_count": 61,
   "metadata": {},
   "outputs": [
    {
     "data": {
      "text/plain": [
       "(1801, 1922)"
      ]
     },
     "execution_count": 61,
     "metadata": {},
     "output_type": "execute_result"
    }
   ],
   "source": [
    "len(script_em[script_em['entropy'] != 1.5835]), len(script_em)"
   ]
  },
  {
   "cell_type": "code",
   "execution_count": 63,
   "metadata": {},
   "outputs": [
    {
     "name": "stdout",
     "output_type": "stream",
     "text": [
      "Script data\n",
      "Number of utterances in script data without no majority voting label:  1801\n",
      "overall acc:  41.25\n",
      "overall W-F1:  38.75\n",
      "\n",
      "\n",
      "Impro data\n",
      "Number of utterances in script data without no majority voting label:  2422\n",
      "overall acc:  71.76\n",
      "overall W-F1:  72.34\n"
     ]
    },
    {
     "name": "stderr",
     "output_type": "stream",
     "text": [
      "/var/folders/gk/b497571d49ndglvgyk5sb53h0000gn/T/ipykernel_3727/1031935296.py:4: SettingWithCopyWarning: \n",
      "A value is trying to be set on a copy of a slice from a DataFrame.\n",
      "Try using .loc[row_indexer,col_indexer] = value instead\n",
      "\n",
      "See the caveats in the documentation: https://pandas.pydata.org/pandas-docs/stable/user_guide/indexing.html#returning-a-view-versus-a-copy\n",
      "  scirpt_em_2entropy['pred'] = scirpt_em_2entropy['prediction'].apply(lambda x: np.argmax(x))\n",
      "/var/folders/gk/b497571d49ndglvgyk5sb53h0000gn/T/ipykernel_3727/1031935296.py:5: SettingWithCopyWarning: \n",
      "A value is trying to be set on a copy of a slice from a DataFrame.\n",
      "Try using .loc[row_indexer,col_indexer] = value instead\n",
      "\n",
      "See the caveats in the documentation: https://pandas.pydata.org/pandas-docs/stable/user_guide/indexing.html#returning-a-view-versus-a-copy\n",
      "  scirpt_em_2entropy['true'] = scirpt_em_2entropy['ground_truth'].apply(lambda x: np.argmax(x))\n",
      "/var/folders/gk/b497571d49ndglvgyk5sb53h0000gn/T/ipykernel_3727/1031935296.py:15: SettingWithCopyWarning: \n",
      "A value is trying to be set on a copy of a slice from a DataFrame.\n",
      "Try using .loc[row_indexer,col_indexer] = value instead\n",
      "\n",
      "See the caveats in the documentation: https://pandas.pydata.org/pandas-docs/stable/user_guide/indexing.html#returning-a-view-versus-a-copy\n",
      "  impro_em_2entropy['pred'] = impro_em_2entropy['prediction'].apply(lambda x: np.argmax(x))\n",
      "/var/folders/gk/b497571d49ndglvgyk5sb53h0000gn/T/ipykernel_3727/1031935296.py:16: SettingWithCopyWarning: \n",
      "A value is trying to be set on a copy of a slice from a DataFrame.\n",
      "Try using .loc[row_indexer,col_indexer] = value instead\n",
      "\n",
      "See the caveats in the documentation: https://pandas.pydata.org/pandas-docs/stable/user_guide/indexing.html#returning-a-view-versus-a-copy\n",
      "  impro_em_2entropy['true'] = impro_em_2entropy['ground_truth'].apply(lambda x: np.argmax(x))\n"
     ]
    }
   ],
   "source": [
    "scirpt_em_2entropy = script_em[script_em['entropy'] != 1.5835]\n",
    "print(\"Script data\")\n",
    "print(\"Number of utterances in script data without no majority voting label: \", len(scirpt_em_2entropy))\n",
    "scirpt_em_2entropy['pred'] = scirpt_em_2entropy['prediction'].apply(lambda x: np.argmax(x))\n",
    "scirpt_em_2entropy['true'] = scirpt_em_2entropy['ground_truth'].apply(lambda x: np.argmax(x))\n",
    "\n",
    "print(\"overall acc: \", round((scirpt_em_2entropy['true'] == scirpt_em_2entropy['pred']).mean()*100,2))\n",
    "print(\"overall W-F1: \", round(f1_score(scirpt_em_2entropy['true'], scirpt_em_2entropy['pred'], average='weighted')*100,2))\n",
    "\n",
    "print(\"\\n\")\n",
    "\n",
    "impro_em_2entropy = impro_em[impro_em['entropy'] != 1.5835]\n",
    "print(\"Impro data\")\n",
    "print(\"Number of utterances in script data without no majority voting label: \", len(impro_em_2entropy))\n",
    "impro_em_2entropy['pred'] = impro_em_2entropy['prediction'].apply(lambda x: np.argmax(x))\n",
    "impro_em_2entropy['true'] = impro_em_2entropy['ground_truth'].apply(lambda x: np.argmax(x))\n",
    "\n",
    "print(\"overall acc: \", round((impro_em_2entropy['true'] == impro_em_2entropy['pred']).mean()*100,2))\n",
    "print(\"overall W-F1: \", round(f1_score(impro_em_2entropy['true'], impro_em_2entropy['pred'], average='weighted')*100,2))\n"
   ]
  },
  {
   "cell_type": "code",
   "execution_count": null,
   "metadata": {},
   "outputs": [],
   "source": []
  },
  {
   "cell_type": "code",
   "execution_count": null,
   "metadata": {},
   "outputs": [],
   "source": [
    "eval_metric = get_eval(pred, truth)\n",
    "eval_metric = add_entropy(eval_metric)\n",
    "entropy_vs_evalmetrics(eval_metric)\n",
    "print(\"Mean of KL score: \", eval_metric['KL'].mean())\n",
    "print(\"Mean of KL STD score: \", round(eval_metric['KL_std'].mean()*100,2))\n",
    "print(\"Mean of BC score: \", round(eval_metric['BC'].mean()*100,2))\n",
    "print(\"Mean of R square: \", round(eval_metric['R_square'].mean()*100,2))\n",
    "pred = np.array(pred)\n",
    "truth = np.array(truth)\n",
    "maj_pred_prob, maj_truth_prob, maj_pred_label, maj_truth_label = majority_agree(pred, truth)\n",
    "ece = ECE(pred, truth)\n",
    "acc = accuracy_score(maj_truth_label, maj_pred_label)\n",
    "print(\"ECE: \", round(ece[0]*100,2))\n",
    "print(\"UAC: \", round(acc*100,2))\n",
    "w_f1 = f1_score(maj_truth_label, maj_pred_label, average='weighted')\n",
    "print(\"Weighted F1: \", round(w_f1*100,2))"
   ]
  },
  {
   "cell_type": "code",
   "execution_count": null,
   "metadata": {},
   "outputs": [],
   "source": []
  },
  {
   "cell_type": "code",
   "execution_count": 108,
   "metadata": {},
   "outputs": [
    {
     "name": "stdout",
     "output_type": "stream",
     "text": [
      "Number of instances for entropy =  0.0 :  2410\n",
      "Number of instances for entropy =  0.9149 :  1813\n",
      "Number of instances for entropy =  1.5835 :  147\n",
      "Mean of KL score:  6.38670009153318\n",
      "Mean of KL STD score:  27.74\n",
      "Mean of BC score:  69.41\n",
      "Mean of R square:  58.73\n",
      "ECE:  28.88\n",
      "UAC:  57.96\n",
      "Weighted F1:  58.33\n",
      "overall acc:  58.75\n",
      "overall W-F1:  59.06\n",
      "entropy = 0.0: acc =  67.93\n",
      "entropy = 0.9149: acc =  46.55\n",
      "entropy = 0.0: W-F1 = : 68.55\n",
      "entropy = 0.9149: W-F1 =  46.64\n"
     ]
    },
    {
     "name": "stderr",
     "output_type": "stream",
     "text": [
      "/var/folders/gk/b497571d49ndglvgyk5sb53h0000gn/T/ipykernel_3727/2265982583.py:10: DeprecationWarning: DataFrameGroupBy.apply operated on the grouping columns. This behavior is deprecated, and in a future version of pandas the grouping columns will be excluded from the operation. Either pass `include_groups=False` to exclude the groupings or explicitly select the grouping columns after groupby to silence this warning.\n",
      "  acc_by_entropy = d_e.apply(lambda x: round((x['true'] == x['pred']).mean()*100,2))\n",
      "/var/folders/gk/b497571d49ndglvgyk5sb53h0000gn/T/ipykernel_3727/2265982583.py:15: DeprecationWarning: DataFrameGroupBy.apply operated on the grouping columns. This behavior is deprecated, and in a future version of pandas the grouping columns will be excluded from the operation. Either pass `include_groups=False` to exclude the groupings or explicitly select the grouping columns after groupby to silence this warning.\n",
      "  f1_by_group = d_e.apply(lambda x: round(f1_score(x['true'], x['pred'], average='weighted')*100,2))\n"
     ]
    },
    {
     "data": {
      "text/plain": [
       "<Figure size 432x288 with 0 Axes>"
      ]
     },
     "metadata": {},
     "output_type": "display_data"
    },
    {
     "data": {
      "image/png": "[encoded data removed]",
      "text/plain": [
       "<Figure size 1080x360 with 3 Axes>"
      ]
     },
     "metadata": {
      "needs_background": "light"
     },
     "output_type": "display_data"
    }
   ],
   "source": [
    "d = whole_eval(\"0831_c20_fs_at\")\n",
    "cal_vote_by_entropy(d)"
   ]
  },
  {
   "cell_type": "code",
   "execution_count": 104,
   "metadata": {},
   "outputs": [
    {
     "name": "stdout",
     "output_type": "stream",
     "text": [
      "Number of instances for entropy =  0.0 :  2410\n",
      "Number of instances for entropy =  0.9149 :  1813\n",
      "Number of instances for entropy =  1.5835 :  147\n",
      "Mean of KL score:  7.713840732265446\n",
      "Mean of KL STD score:  33.5\n",
      "Mean of BC score:  61.06\n",
      "Mean of R square:  55.32\n",
      "ECE:  40.19\n",
      "UAC:  53.52\n",
      "Weighted F1:  53.99\n",
      "overall acc:  54.42\n",
      "overall W-F1:  54.7\n",
      "entropy = 0.0: acc =  62.49\n",
      "entropy = 0.9149: acc =  43.68\n",
      "entropy = 0.0: W-F1 = : 62.99\n",
      "entropy = 0.9149: W-F1 =  44.31\n"
     ]
    },
    {
     "name": "stderr",
     "output_type": "stream",
     "text": [
      "/var/folders/gk/b497571d49ndglvgyk5sb53h0000gn/T/ipykernel_3727/2265982583.py:10: DeprecationWarning: DataFrameGroupBy.apply operated on the grouping columns. This behavior is deprecated, and in a future version of pandas the grouping columns will be excluded from the operation. Either pass `include_groups=False` to exclude the groupings or explicitly select the grouping columns after groupby to silence this warning.\n",
      "  acc_by_entropy = d_e.apply(lambda x: round((x['true'] == x['pred']).mean()*100,2))\n",
      "/var/folders/gk/b497571d49ndglvgyk5sb53h0000gn/T/ipykernel_3727/2265982583.py:15: DeprecationWarning: DataFrameGroupBy.apply operated on the grouping columns. This behavior is deprecated, and in a future version of pandas the grouping columns will be excluded from the operation. Either pass `include_groups=False` to exclude the groupings or explicitly select the grouping columns after groupby to silence this warning.\n",
      "  f1_by_group = d_e.apply(lambda x: round(f1_score(x['true'], x['pred'], average='weighted')*100,2))\n"
     ]
    },
    {
     "data": {
      "text/plain": [
       "<Figure size 432x288 with 0 Axes>"
      ]
     },
     "metadata": {},
     "output_type": "display_data"
    },
    {
     "data": {
      "image/png": "[encoded data removed]",
      "text/plain": [
       "<Figure size 1080x360 with 3 Axes>"
      ]
     },
     "metadata": {
      "needs_background": "light"
     },
     "output_type": "display_data"
    }
   ],
   "source": [
    "d = whole_eval(\"0830_c5_fewshot_v2\")\n",
    "cal_vote_by_entropy(d)"
   ]
  },
  {
   "cell_type": "code",
   "execution_count": null,
   "metadata": {},
   "outputs": [],
   "source": []
  },
  {
   "cell_type": "code",
   "execution_count": 68,
   "metadata": {},
   "outputs": [
    {
     "name": "stdout",
     "output_type": "stream",
     "text": [
      "context = 5, text only. zero-shot\n",
      "Number of instances for entropy =  0.0 :  2410\n",
      "Number of instances for entropy =  0.9149 :  1813\n",
      "Number of instances for entropy =  1.5835 :  147\n",
      "Mean of KL score:  11.383449542334096\n",
      "Mean of KL STD score:  49.44\n",
      "Mean of BC score:  45.7\n",
      "Mean of R square:  48.35\n",
      "ECE:  56.49\n",
      "UAC:  41.17\n",
      "Weighted F1:  41.04\n"
     ]
    },
    {
     "data": {
      "text/plain": [
       "<Figure size 432x288 with 0 Axes>"
      ]
     },
     "metadata": {},
     "output_type": "display_data"
    },
    {
     "data": {
      "image/png": "[encoded data removed]",
      "text/plain": [
       "<Figure size 1080x360 with 3 Axes>"
      ]
     },
     "metadata": {
      "needs_background": "light"
     },
     "output_type": "display_data"
    }
   ],
   "source": [
    "print(\"context = 5, text only. zero-shot\")\n",
    "a = whole_eval(\"0901_c5_text\")"
   ]
  },
  {
   "cell_type": "code",
   "execution_count": 74,
   "metadata": {},
   "outputs": [
    {
     "name": "stdout",
     "output_type": "stream",
     "text": [
      "Context = 5, audio+text, few-shot\n",
      "Number of instances for entropy =  0.0 :  2410\n",
      "Number of instances for entropy =  0.9149 :  1813\n",
      "Number of instances for entropy =  1.5835 :  147\n",
      "Mean of KL score:  3.907388352402746\n",
      "Mean of KL STD score:  33.94\n",
      "Sum of BC score:  61.06\n",
      "Sum of R square:  55.32\n",
      "ECE:  40.19\n",
      "UAC:  53.52\n",
      "Weighted F1:  53.99\n"
     ]
    },
    {
     "data": {
      "text/plain": [
       "<Figure size 432x288 with 0 Axes>"
      ]
     },
     "metadata": {},
     "output_type": "display_data"
    },
    {
     "data": {
      "image/png": "[encoded data removed]",
      "text/plain": [
       "<Figure size 1080x360 with 3 Axes>"
      ]
     },
     "metadata": {
      "needs_background": "light"
     },
     "output_type": "display_data"
    }
   ],
   "source": [
    "print(\"Context = 5, audio+text, few-shot\")\n",
    "a = whole_eval(\"0830_c5_fewshot_v2\")"
   ]
  },
  {
   "cell_type": "code",
   "execution_count": 52,
   "metadata": {},
   "outputs": [
    {
     "name": "stdout",
     "output_type": "stream",
     "text": [
      "Context = 10, audio + text, 0-shot\n",
      "Number of instances for entropy =  0.0 :  2410\n",
      "Number of instances for entropy =  0.9149 :  1813\n",
      "Number of instances for entropy =  1.5835 :  147\n",
      "Mean of KL score:  5.1415799313501145\n",
      "Mean of KL STD score:  44.66\n",
      "Sum of BC score:  50.45\n",
      "Sum of R square:  50.66\n",
      "ECE:  52.28\n",
      "UAC:  45.51\n",
      "Weighted F1:  46.56\n"
     ]
    },
    {
     "data": {
      "image/png": "[encoded data removed]",
      "text/plain": [
       "<Figure size 1080x360 with 3 Axes>"
      ]
     },
     "metadata": {
      "needs_background": "light"
     },
     "output_type": "display_data"
    }
   ],
   "source": [
    "print(\"Context = 10, audio + text, 0-shot\")\n",
    "eval_metrics_c10_a = whole_eval(\"0831_c10_audio\")"
   ]
  },
  {
   "cell_type": "code",
   "execution_count": 53,
   "metadata": {},
   "outputs": [
    {
     "name": "stdout",
     "output_type": "stream",
     "text": [
      "context = 10, audio+text, few-shot\n",
      "Number of instances for entropy =  0.0 :  2410\n",
      "Number of instances for entropy =  0.9149 :  1813\n",
      "Number of instances for entropy =  1.5835 :  147\n",
      "Mean of KL score:  3.4149015789473687\n",
      "Mean of KL STD score:  29.66\n",
      "Sum of BC score:  66.11\n",
      "Sum of R square:  57.81\n",
      "ECE:  34.11\n",
      "UAC:  56.68\n",
      "Weighted F1:  56.85\n"
     ]
    },
    {
     "data": {
      "image/png": "[encoded data removed]",
      "text/plain": [
       "<Figure size 1080x360 with 3 Axes>"
      ]
     },
     "metadata": {
      "needs_background": "light"
     },
     "output_type": "display_data"
    }
   ],
   "source": [
    "print(\"context = 10, audio+text, few-shot\")\n",
    "eval_metrics_c10_fs = whole_eval(\"0831_c10_fewshot\")"
   ]
  },
  {
   "cell_type": "code",
   "execution_count": 61,
   "metadata": {},
   "outputs": [
    {
     "name": "stdout",
     "output_type": "stream",
     "text": [
      "context = 15, aduio+text, few-shot\n",
      "Number of instances for entropy =  0.0 :  2410\n",
      "Number of instances for entropy =  0.9149 :  1813\n",
      "Number of instances for entropy =  1.5835 :  147\n",
      "Mean of KL score:  3.304992196796339\n",
      "Mean of KL STD score:  28.71\n",
      "Sum of BC score:  67.84\n",
      "Sum of R square:  58.05\n",
      "ECE:  31.79\n",
      "UAC:  56.64\n",
      "Weighted F1:  56.85\n"
     ]
    },
    {
     "data": {
      "image/png": "[encoded data removed]",
      "text/plain": [
       "<Figure size 1080x360 with 3 Axes>"
      ]
     },
     "metadata": {
      "needs_background": "light"
     },
     "output_type": "display_data"
    }
   ],
   "source": [
    "print(\"context = 15, aduio+text, few-shot\")\n",
    "eval_metrics_c10_text = whole_eval(\"0831_c15_fewshot\")"
   ]
  },
  {
   "cell_type": "code",
   "execution_count": 80,
   "metadata": {},
   "outputs": [
    {
     "name": "stdout",
     "output_type": "stream",
     "text": [
      "context = 20, text only, zero-shot\n",
      "Number of instances for entropy =  0.0 :  2410\n",
      "Number of instances for entropy =  0.9149 :  1813\n",
      "Number of instances for entropy =  1.5835 :  147\n",
      "Mean of KL score:  5.709281578947368\n",
      "Mean of KL STD score:  49.59\n",
      "Sum of BC score:  45.95\n",
      "Sum of R square:  48.87\n",
      "ECE:  56.2\n",
      "UAC:  41.97\n",
      "Weighted F1:  41.29\n"
     ]
    },
    {
     "data": {
      "text/plain": [
       "<Figure size 432x288 with 0 Axes>"
      ]
     },
     "metadata": {},
     "output_type": "display_data"
    },
    {
     "data": {
      "image/png": "[encoded data removed]",
      "text/plain": [
       "<Figure size 1080x360 with 3 Axes>"
      ]
     },
     "metadata": {
      "needs_background": "light"
     },
     "output_type": "display_data"
    }
   ],
   "source": [
    "print(\"context = 20, text only, zero-shot\")\n",
    "a =whole_eval(\"0901_c20_text\")\n"
   ]
  },
  {
   "cell_type": "code",
   "execution_count": 116,
   "metadata": {},
   "outputs": [
    {
     "name": "stdout",
     "output_type": "stream",
     "text": [
      "context = 20, aduio+text, few-shot\n",
      "Number of instances for entropy =  0.0 :  2410\n",
      "Number of instances for entropy =  0.9149 :  1813\n",
      "Number of instances for entropy =  1.5835 :  147\n",
      "Mean of KL score:  3.195699748283753\n",
      "Mean of KL STD score:  27.76\n",
      "Mean of BC score:  69.41\n",
      "Mean of R square:  58.73\n",
      "ECE:  28.88\n",
      "UAC:  57.96\n",
      "Weighted F1:  58.33\n"
     ]
    },
    {
     "data": {
      "text/plain": [
       "<Figure size 432x288 with 0 Axes>"
      ]
     },
     "metadata": {},
     "output_type": "display_data"
    },
    {
     "data": {
      "image/png": "[encoded data removed]",
      "text/plain": [
       "<Figure size 1080x360 with 3 Axes>"
      ]
     },
     "metadata": {
      "needs_background": "light"
     },
     "output_type": "display_data"
    }
   ],
   "source": [
    "print(\"context = 20, aduio+text, few-shot\")\n",
    "eval_metrics_c20_fs_at = whole_eval(\"0831_c20_fs_at\")"
   ]
  },
  {
   "cell_type": "markdown",
   "metadata": {},
   "source": [
    "* KL_std (1.000000) : ground truth and prediction are two totally different distribution\n",
    "* KL_std (0.96329367)\n",
    "* KL_std (0.956545) : ground truth ([0.0, 1.0, 0.0, 0.0]), prediction ([0.0, 0.0, 0.8, 0.2])\n",
    "* KL_std (0.94695562) \n",
    "* KL_std (0.9445149)\n",
    "* KL_std (0.904603): ground truth ([0.0, 1.0, 0.0, 0.0]), prediction ([0.33, 0.0, 0.33, 0.34])\n",
    "* KL_std (0.614931) : ground truth ([0.0, 1.0, 0.0, 0.0]), prediction ([0.67, 0.33, 0.0, 0.0])\n",
    "\n",
    " 0.75655346, 0.94493182,\n",
    "       0.70117259, 0.87177973, 0.8445149 , , 0.89468427"
   ]
  },
  {
   "cell_type": "code",
   "execution_count": 121,
   "metadata": {},
   "outputs": [
    {
     "data": {
      "text/html": [
       "<div>\n",
       "<style scoped>\n",
       "    .dataframe tbody tr th:only-of-type {\n",
       "        vertical-align: middle;\n",
       "    }\n",
       "\n",
       "    .dataframe tbody tr th {\n",
       "        vertical-align: top;\n",
       "    }\n",
       "\n",
       "    .dataframe thead th {\n",
       "        text-align: right;\n",
       "    }\n",
       "</style>\n",
       "<table border=\"1\" class=\"dataframe\">\n",
       "  <thead>\n",
       "    <tr style=\"text-align: right;\">\n",
       "      <th></th>\n",
       "      <th>ground_truth</th>\n",
       "      <th>prediction</th>\n",
       "      <th>KL</th>\n",
       "      <th>BC</th>\n",
       "      <th>R_square</th>\n",
       "      <th>KL_std</th>\n",
       "      <th>entropy</th>\n",
       "    </tr>\n",
       "  </thead>\n",
       "  <tbody>\n",
       "    <tr>\n",
       "      <th>43</th>\n",
       "      <td>[0.0, 1.0, 0.0, 0.0]</td>\n",
       "      <td>[0.67, 0.33, 0.0, 0.0]</td>\n",
       "      <td>7.0796</td>\n",
       "      <td>0.5745</td>\n",
       "      <td>0.0277</td>\n",
       "      <td>0.614931</td>\n",
       "      <td>0.0</td>\n",
       "    </tr>\n",
       "    <tr>\n",
       "      <th>60</th>\n",
       "      <td>[0.0, 1.0, 0.0, 0.0]</td>\n",
       "      <td>[0.67, 0.33, 0.0, 0.0]</td>\n",
       "      <td>7.0796</td>\n",
       "      <td>0.5745</td>\n",
       "      <td>0.0277</td>\n",
       "      <td>0.614931</td>\n",
       "      <td>0.0</td>\n",
       "    </tr>\n",
       "    <tr>\n",
       "      <th>88</th>\n",
       "      <td>[0.0, 0.0, 1.0, 0.0]</td>\n",
       "      <td>[0.67, 0.0, 0.33, 0.0]</td>\n",
       "      <td>7.0796</td>\n",
       "      <td>0.5745</td>\n",
       "      <td>0.0277</td>\n",
       "      <td>0.614931</td>\n",
       "      <td>0.0</td>\n",
       "    </tr>\n",
       "    <tr>\n",
       "      <th>179</th>\n",
       "      <td>[0.0, 1.0, 0.0, 0.0]</td>\n",
       "      <td>[0.67, 0.33, 0.0, 0.0]</td>\n",
       "      <td>7.0796</td>\n",
       "      <td>0.5745</td>\n",
       "      <td>0.0277</td>\n",
       "      <td>0.614931</td>\n",
       "      <td>0.0</td>\n",
       "    </tr>\n",
       "    <tr>\n",
       "      <th>184</th>\n",
       "      <td>[0.0, 1.0, 0.0, 0.0]</td>\n",
       "      <td>[0.67, 0.33, 0.0, 0.0]</td>\n",
       "      <td>7.0796</td>\n",
       "      <td>0.5745</td>\n",
       "      <td>0.0277</td>\n",
       "      <td>0.614931</td>\n",
       "      <td>0.0</td>\n",
       "    </tr>\n",
       "    <tr>\n",
       "      <th>...</th>\n",
       "      <td>...</td>\n",
       "      <td>...</td>\n",
       "      <td>...</td>\n",
       "      <td>...</td>\n",
       "      <td>...</td>\n",
       "      <td>...</td>\n",
       "      <td>...</td>\n",
       "    </tr>\n",
       "    <tr>\n",
       "      <th>4331</th>\n",
       "      <td>[0.0, 1.0, 0.0, 0.0]</td>\n",
       "      <td>[0.67, 0.33, 0.0, 0.0]</td>\n",
       "      <td>7.0796</td>\n",
       "      <td>0.5745</td>\n",
       "      <td>0.0277</td>\n",
       "      <td>0.614931</td>\n",
       "      <td>0.0</td>\n",
       "    </tr>\n",
       "    <tr>\n",
       "      <th>4332</th>\n",
       "      <td>[0.0, 1.0, 0.0, 0.0]</td>\n",
       "      <td>[0.67, 0.33, 0.0, 0.0]</td>\n",
       "      <td>7.0796</td>\n",
       "      <td>0.5745</td>\n",
       "      <td>0.0277</td>\n",
       "      <td>0.614931</td>\n",
       "      <td>0.0</td>\n",
       "    </tr>\n",
       "    <tr>\n",
       "      <th>4333</th>\n",
       "      <td>[0.0, 1.0, 0.0, 0.0]</td>\n",
       "      <td>[0.67, 0.33, 0.0, 0.0]</td>\n",
       "      <td>7.0796</td>\n",
       "      <td>0.5745</td>\n",
       "      <td>0.0277</td>\n",
       "      <td>0.614931</td>\n",
       "      <td>0.0</td>\n",
       "    </tr>\n",
       "    <tr>\n",
       "      <th>4337</th>\n",
       "      <td>[0.0, 1.0, 0.0, 0.0]</td>\n",
       "      <td>[0.67, 0.33, 0.0, 0.0]</td>\n",
       "      <td>7.0796</td>\n",
       "      <td>0.5745</td>\n",
       "      <td>0.0277</td>\n",
       "      <td>0.614931</td>\n",
       "      <td>0.0</td>\n",
       "    </tr>\n",
       "    <tr>\n",
       "      <th>4339</th>\n",
       "      <td>[0.0, 1.0, 0.0, 0.0]</td>\n",
       "      <td>[0.67, 0.33, 0.0, 0.0]</td>\n",
       "      <td>7.0796</td>\n",
       "      <td>0.5745</td>\n",
       "      <td>0.0277</td>\n",
       "      <td>0.614931</td>\n",
       "      <td>0.0</td>\n",
       "    </tr>\n",
       "  </tbody>\n",
       "</table>\n",
       "<p>213 rows × 7 columns</p>\n",
       "</div>"
      ],
      "text/plain": [
       "              ground_truth              prediction      KL      BC  R_square  \\\n",
       "43    [0.0, 1.0, 0.0, 0.0]  [0.67, 0.33, 0.0, 0.0]  7.0796  0.5745    0.0277   \n",
       "60    [0.0, 1.0, 0.0, 0.0]  [0.67, 0.33, 0.0, 0.0]  7.0796  0.5745    0.0277   \n",
       "88    [0.0, 0.0, 1.0, 0.0]  [0.67, 0.0, 0.33, 0.0]  7.0796  0.5745    0.0277   \n",
       "179   [0.0, 1.0, 0.0, 0.0]  [0.67, 0.33, 0.0, 0.0]  7.0796  0.5745    0.0277   \n",
       "184   [0.0, 1.0, 0.0, 0.0]  [0.67, 0.33, 0.0, 0.0]  7.0796  0.5745    0.0277   \n",
       "...                    ...                     ...     ...     ...       ...   \n",
       "4331  [0.0, 1.0, 0.0, 0.0]  [0.67, 0.33, 0.0, 0.0]  7.0796  0.5745    0.0277   \n",
       "4332  [0.0, 1.0, 0.0, 0.0]  [0.67, 0.33, 0.0, 0.0]  7.0796  0.5745    0.0277   \n",
       "4333  [0.0, 1.0, 0.0, 0.0]  [0.67, 0.33, 0.0, 0.0]  7.0796  0.5745    0.0277   \n",
       "4337  [0.0, 1.0, 0.0, 0.0]  [0.67, 0.33, 0.0, 0.0]  7.0796  0.5745    0.0277   \n",
       "4339  [0.0, 1.0, 0.0, 0.0]  [0.67, 0.33, 0.0, 0.0]  7.0796  0.5745    0.0277   \n",
       "\n",
       "        KL_std  entropy  \n",
       "43    0.614931      0.0  \n",
       "60    0.614931      0.0  \n",
       "88    0.614931      0.0  \n",
       "179   0.614931      0.0  \n",
       "184   0.614931      0.0  \n",
       "...        ...      ...  \n",
       "4331  0.614931      0.0  \n",
       "4332  0.614931      0.0  \n",
       "4333  0.614931      0.0  \n",
       "4337  0.614931      0.0  \n",
       "4339  0.614931      0.0  \n",
       "\n",
       "[213 rows x 7 columns]"
      ]
     },
     "execution_count": 121,
     "metadata": {},
     "output_type": "execute_result"
    }
   ],
   "source": [
    "eval_metrics_c20_fs_at.loc[(eval_metrics_c20_fs_at['entropy'] == 0.0000) & \n",
    "                                         (eval_metrics_c20_fs_at['KL_std'] == 0.614931)]"
   ]
  },
  {
   "cell_type": "code",
   "execution_count": 68,
   "metadata": {},
   "outputs": [
    {
     "name": "stdout",
     "output_type": "stream",
     "text": [
      "context = 20, only text, few-shot\n",
      "Number of instances for entropy =  0.0 :  2410\n",
      "Number of instances for entropy =  0.9149 :  1813\n",
      "Number of instances for entropy =  1.5835 :  147\n",
      "Mean of KL score:  3.5097947826086955\n",
      "Mean of KL STD score:  30.49\n",
      "Sum of BC score:  66.67\n",
      "Sum of R square:  57.9\n",
      "ECE:  30.73\n",
      "UAC:  56.96\n",
      "Weighted F1:  57.6\n"
     ]
    },
    {
     "data": {
      "image/png": "[encoded data removed]",
      "text/plain": [
       "<Figure size 1080x360 with 3 Axes>"
      ]
     },
     "metadata": {
      "needs_background": "light"
     },
     "output_type": "display_data"
    }
   ],
   "source": [
    "print(\"context = 20, only text, few-shot\")\n",
    "a = whole_eval(\"0901_c20_fs_noaudio\")"
   ]
  },
  {
   "cell_type": "code",
   "execution_count": 14,
   "metadata": {},
   "outputs": [
    {
     "name": "stdout",
     "output_type": "stream",
     "text": [
      "context = 20, audio+text, zero-shot\n"
     ]
    },
    {
     "name": "stderr",
     "output_type": "stream",
     "text": [
      "/Users/macbookpro/Documents/Research Project/LLM_Ambiguous_Emotion/eval_metrics.py:12: RuntimeWarning: divide by zero encountered in log\n",
      "  KL_value = np.sum(np.where(a != 0, a * np.log(a / b), 0))\n",
      "/Users/macbookpro/Documents/Research Project/LLM_Ambiguous_Emotion/eval_metrics.py:12: RuntimeWarning: invalid value encountered in multiply\n",
      "  KL_value = np.sum(np.where(a != 0, a * np.log(a / b), 0))\n"
     ]
    },
    {
     "name": "stdout",
     "output_type": "stream",
     "text": [
      "Number of instances for entropy =  0.0 :  2410\n",
      "Number of instances for entropy =  0.9149 :  1813\n",
      "Number of instances for entropy =  1.5835 :  147\n",
      "Mean of JS 0.47\n",
      "Mean of BC score:  0.51\n",
      "Mean of R square:  0.51\n",
      "ECE:  51.21\n",
      "UAC:  46.75\n",
      "Weighted F1:  47.89\n"
     ]
    },
    {
     "data": {
      "text/plain": [
       "<Figure size 432x288 with 0 Axes>"
      ]
     },
     "metadata": {},
     "output_type": "display_data"
    },
    {
     "data": {
      "image/png": "[encoded data removed]",
      "text/plain": [
       "<Figure size 1080x360 with 3 Axes>"
      ]
     },
     "metadata": {
      "needs_background": "light"
     },
     "output_type": "display_data"
    }
   ],
   "source": [
    "print(\"context = 20, audio+text, zero-shot\")\n",
    "a = whole_eval(\"0901_c20_audio\")"
   ]
  },
  {
   "cell_type": "code",
   "execution_count": 63,
   "metadata": {},
   "outputs": [
    {
     "name": "stdout",
     "output_type": "stream",
     "text": [
      "context = 25, aduio+text, few-shot\n",
      "Number of instances for entropy =  0.0 :  2410\n",
      "Number of instances for entropy =  0.9149 :  1813\n",
      "Number of instances for entropy =  1.5835 :  147\n",
      "Mean of KL score:  3.265397254004577\n",
      "Mean of KL STD score:  28.36\n",
      "Sum of BC score:  69.53\n",
      "Sum of R square:  58.45\n",
      "ECE:  27.77\n",
      "UAC:  57.39\n",
      "Weighted F1:  57.9\n"
     ]
    },
    {
     "data": {
      "image/png": "[encoded data removed]",
      "text/plain": [
       "<Figure size 1080x360 with 3 Axes>"
      ]
     },
     "metadata": {
      "needs_background": "light"
     },
     "output_type": "display_data"
    }
   ],
   "source": [
    "print(\"context = 25, aduio+text, few-shot\")\n",
    "eval_metrics_c10_text = whole_eval(\"0831_c25_fs_at\")"
   ]
  },
  {
   "cell_type": "code",
   "execution_count": 75,
   "metadata": {},
   "outputs": [
    {
     "name": "stdout",
     "output_type": "stream",
     "text": [
      "context = 30, aduio+text, few-shot\n",
      "Number of instances for entropy =  0.0 :  2410\n",
      "Number of instances for entropy =  0.9149 :  1813\n",
      "Number of instances for entropy =  1.5835 :  147\n",
      "Mean of KL score:  3.268999908466819\n",
      "Mean of KL STD score:  28.39\n",
      "Sum of BC score:  69.71\n",
      "Sum of R square:  58.13\n",
      "ECE:  26.91\n",
      "UAC:  57.35\n",
      "Weighted F1:  58.0\n"
     ]
    },
    {
     "data": {
      "text/plain": [
       "<Figure size 432x288 with 0 Axes>"
      ]
     },
     "metadata": {},
     "output_type": "display_data"
    },
    {
     "data": {
      "image/png": "[encoded data removed]",
      "text/plain": [
       "<Figure size 1080x360 with 3 Axes>"
      ]
     },
     "metadata": {
      "needs_background": "light"
     },
     "output_type": "display_data"
    }
   ],
   "source": [
    "print(\"context = 30, aduio+text, few-shot\")\n",
    "eval_metrics_c10_text = whole_eval(\"0831_c30_fs_at\")"
   ]
  },
  {
   "cell_type": "code",
   "execution_count": 79,
   "metadata": {},
   "outputs": [
    {
     "name": "stdout",
     "output_type": "stream",
     "text": [
      "context = 5, text only, few shot\n",
      "Number of instances for entropy =  0.0 :  2410\n",
      "Number of instances for entropy =  0.9149 :  1813\n",
      "Number of instances for entropy =  1.5835 :  147\n",
      "Mean of KL score:  4.223305469107552\n",
      "Mean of KL STD score:  36.68\n",
      "Sum of BC score:  58.73\n",
      "Sum of R square:  54.82\n",
      "ECE:  42.32\n",
      "UAC:  51.88\n",
      "Weighted F1:  52.88\n"
     ]
    },
    {
     "data": {
      "text/plain": [
       "<Figure size 432x288 with 0 Axes>"
      ]
     },
     "metadata": {},
     "output_type": "display_data"
    },
    {
     "data": {
      "image/png": "[encoded data removed]",
      "text/plain": [
       "<Figure size 1080x360 with 3 Axes>"
      ]
     },
     "metadata": {
      "needs_background": "light"
     },
     "output_type": "display_data"
    }
   ],
   "source": [
    "print(\"context = 5, text only, few shot\")\n",
    "a = whole_eval(\"0831_c5_fs_noaudio\")"
   ]
  },
  {
   "cell_type": "code",
   "execution_count": 78,
   "metadata": {},
   "outputs": [
    {
     "name": "stdout",
     "output_type": "stream",
     "text": [
      "context = 5, audio+text, zero shot\n",
      "Number of instances for entropy =  0.0 :  2410\n",
      "Number of instances for entropy =  0.9149 :  1813\n",
      "Number of instances for entropy =  1.5835 :  147\n",
      "Mean of KL score:  5.1841911441647595\n",
      "Mean of KL STD score:  45.03\n",
      "Sum of BC score:  49.91\n",
      "Sum of R square:  49.84\n",
      "ECE:  52.79\n",
      "UAC:  44.76\n",
      "Weighted F1:  45.7\n"
     ]
    },
    {
     "data": {
      "text/plain": [
       "<Figure size 432x288 with 0 Axes>"
      ]
     },
     "metadata": {},
     "output_type": "display_data"
    },
    {
     "data": {
      "image/png": "[encoded data removed]",
      "text/plain": [
       "<Figure size 1080x360 with 3 Axes>"
      ]
     },
     "metadata": {
      "needs_background": "light"
     },
     "output_type": "display_data"
    }
   ],
   "source": [
    "print(\"context = 5, audio+text, zero shot\")\n",
    "eval_metrics_c10_fs_text = whole_eval(\"0830_c5_audio\")"
   ]
  },
  {
   "cell_type": "code",
   "execution_count": 55,
   "metadata": {},
   "outputs": [
    {
     "name": "stdout",
     "output_type": "stream",
     "text": [
      "context = 5, few show, only text\n",
      "Number of instances for entropy =  0.0 :  2410\n",
      "Number of instances for entropy =  0.9149 :  1813\n",
      "Number of instances for entropy =  1.5835 :  147\n",
      "Mean of KL score:  4.223305469107552\n",
      "Mean of KL STD score:  36.68\n",
      "Sum of BC score:  58.73\n",
      "Sum of R square:  54.82\n",
      "ECE:  42.32\n",
      "UAC:  51.88\n",
      "Weighted F1:  52.88\n"
     ]
    },
    {
     "data": {
      "image/png": "[encoded data removed]",
      "text/plain": [
       "<Figure size 1080x360 with 3 Axes>"
      ]
     },
     "metadata": {
      "needs_background": "light"
     },
     "output_type": "display_data"
    }
   ],
   "source": [
    "print(\"context = 5, few show, only text\")\n",
    "eval_metrics_c5_fs_text = whole_eval(\"0831_c5_fs_noaudio\")"
   ]
  },
  {
   "cell_type": "code",
   "execution_count": 60,
   "metadata": {},
   "outputs": [
    {
     "name": "stdout",
     "output_type": "stream",
     "text": [
      "context = 15, aduio+text, few-shot\n",
      "Number of instances for entropy =  0.0 :  2410\n",
      "Number of instances for entropy =  0.9149 :  1813\n",
      "Number of instances for entropy =  1.5835 :  147\n",
      "Mean of KL score:  3.304992196796339\n",
      "Mean of KL STD score:  28.71\n",
      "Sum of BC score:  67.84\n",
      "Sum of R square:  58.05\n",
      "ECE:  31.79\n",
      "UAC:  56.64\n",
      "Weighted F1:  56.85\n"
     ]
    },
    {
     "data": {
      "image/png": "[encoded data removed]",
      "text/plain": [
       "<Figure size 1080x360 with 3 Axes>"
      ]
     },
     "metadata": {
      "needs_background": "light"
     },
     "output_type": "display_data"
    }
   ],
   "source": []
  },
  {
   "cell_type": "code",
   "execution_count": 59,
   "metadata": {},
   "outputs": [
    {
     "name": "stdout",
     "output_type": "stream",
     "text": [
      "context = 15, audio+text, few shot\n"
     ]
    },
    {
     "ename": "FileNotFoundError",
     "evalue": "[Errno 2] No such file or directory: './prediction/0831_c15_fewshot/pred.csv'",
     "output_type": "error",
     "traceback": [
      "\u001b[0;31m---------------------------------------------------------------------------\u001b[0m",
      "\u001b[0;31mFileNotFoundError\u001b[0m                         Traceback (most recent call last)",
      "\u001b[0;32m/var/folders/gk/b497571d49ndglvgyk5sb53h0000gn/T/ipykernel_16565/1509994754.py\u001b[0m in \u001b[0;36m<module>\u001b[0;34m\u001b[0m\n\u001b[1;32m      1\u001b[0m \u001b[0mprint\u001b[0m\u001b[0;34m(\u001b[0m\u001b[0;34m\"context = 15, audio+text, few shot\"\u001b[0m\u001b[0;34m)\u001b[0m\u001b[0;34m\u001b[0m\u001b[0;34m\u001b[0m\u001b[0m\n\u001b[0;32m----> 2\u001b[0;31m \u001b[0meval_metrics\u001b[0m \u001b[0;34m=\u001b[0m \u001b[0mwhole_eval\u001b[0m\u001b[0;34m(\u001b[0m\u001b[0;34m\"0831_c15_fewshot\"\u001b[0m\u001b[0;34m)\u001b[0m\u001b[0;34m\u001b[0m\u001b[0;34m\u001b[0m\u001b[0m\n\u001b[0m",
      "\u001b[0;32m/var/folders/gk/b497571d49ndglvgyk5sb53h0000gn/T/ipykernel_16565/3324941941.py\u001b[0m in \u001b[0;36mwhole_eval\u001b[0;34m(path)\u001b[0m\n\u001b[1;32m      1\u001b[0m \u001b[0;32mdef\u001b[0m \u001b[0mwhole_eval\u001b[0m\u001b[0;34m(\u001b[0m\u001b[0mpath\u001b[0m\u001b[0;34m)\u001b[0m\u001b[0;34m:\u001b[0m\u001b[0;34m\u001b[0m\u001b[0;34m\u001b[0m\u001b[0m\n\u001b[1;32m      2\u001b[0m     \u001b[0mpath\u001b[0m \u001b[0;34m=\u001b[0m \u001b[0;34m\"prediction/\"\u001b[0m \u001b[0;34m+\u001b[0m \u001b[0mpath\u001b[0m\u001b[0;34m\u001b[0m\u001b[0;34m\u001b[0m\u001b[0m\n\u001b[0;32m----> 3\u001b[0;31m     \u001b[0mpred\u001b[0m\u001b[0;34m,\u001b[0m \u001b[0mtruth\u001b[0m\u001b[0;34m,\u001b[0m \u001b[0mlog\u001b[0m \u001b[0;34m=\u001b[0m \u001b[0mget_results\u001b[0m\u001b[0;34m(\u001b[0m\u001b[0mpath\u001b[0m\u001b[0;34m)\u001b[0m\u001b[0;34m\u001b[0m\u001b[0;34m\u001b[0m\u001b[0m\n\u001b[0m\u001b[1;32m      4\u001b[0m     \u001b[0meval_metric\u001b[0m \u001b[0;34m=\u001b[0m \u001b[0mget_eval\u001b[0m\u001b[0;34m(\u001b[0m\u001b[0mpred\u001b[0m\u001b[0;34m,\u001b[0m \u001b[0mtruth\u001b[0m\u001b[0;34m)\u001b[0m\u001b[0;34m\u001b[0m\u001b[0;34m\u001b[0m\u001b[0m\n\u001b[1;32m      5\u001b[0m     \u001b[0;32massert\u001b[0m \u001b[0mlen\u001b[0m\u001b[0;34m(\u001b[0m\u001b[0meval_metric\u001b[0m\u001b[0;34m)\u001b[0m \u001b[0;34m==\u001b[0m \u001b[0;36m4370\u001b[0m\u001b[0;34m\u001b[0m\u001b[0;34m\u001b[0m\u001b[0m\n",
      "\u001b[0;32m/var/folders/gk/b497571d49ndglvgyk5sb53h0000gn/T/ipykernel_16565/3424676471.py\u001b[0m in \u001b[0;36mget_results\u001b[0;34m(folder_path)\u001b[0m\n\u001b[1;32m      1\u001b[0m \u001b[0;32mdef\u001b[0m \u001b[0mget_results\u001b[0m\u001b[0;34m(\u001b[0m\u001b[0mfolder_path\u001b[0m\u001b[0;34m)\u001b[0m\u001b[0;34m:\u001b[0m\u001b[0;34m\u001b[0m\u001b[0;34m\u001b[0m\u001b[0m\n\u001b[0;32m----> 2\u001b[0;31m     \u001b[0mpred_data\u001b[0m \u001b[0;34m=\u001b[0m \u001b[0mpd\u001b[0m\u001b[0;34m.\u001b[0m\u001b[0mread_csv\u001b[0m\u001b[0;34m(\u001b[0m\u001b[0;34mf'./{folder_path}/pred.csv'\u001b[0m\u001b[0;34m,\u001b[0m \u001b[0mnames\u001b[0m\u001b[0;34m=\u001b[0m\u001b[0;34m[\u001b[0m\u001b[0;34m\"neutral\"\u001b[0m\u001b[0;34m,\u001b[0m \u001b[0;34m\"happy\"\u001b[0m\u001b[0;34m,\u001b[0m \u001b[0;34m\"angry\"\u001b[0m\u001b[0;34m,\u001b[0m \u001b[0;34m\"sad\"\u001b[0m\u001b[0;34m]\u001b[0m\u001b[0;34m)\u001b[0m\u001b[0;34m\u001b[0m\u001b[0;34m\u001b[0m\u001b[0m\n\u001b[0m\u001b[1;32m      3\u001b[0m     \u001b[0mtruth_data\u001b[0m \u001b[0;34m=\u001b[0m \u001b[0mpd\u001b[0m\u001b[0;34m.\u001b[0m\u001b[0mread_csv\u001b[0m\u001b[0;34m(\u001b[0m\u001b[0;34mf'./{folder_path}/truth.csv'\u001b[0m\u001b[0;34m,\u001b[0m \u001b[0mnames\u001b[0m\u001b[0;34m=\u001b[0m\u001b[0;34m[\u001b[0m\u001b[0;34m\"neutral\"\u001b[0m\u001b[0;34m,\u001b[0m \u001b[0;34m\"happy\"\u001b[0m\u001b[0;34m,\u001b[0m \u001b[0;34m\"angry\"\u001b[0m\u001b[0;34m,\u001b[0m \u001b[0;34m\"sad\"\u001b[0m\u001b[0;34m]\u001b[0m\u001b[0;34m)\u001b[0m\u001b[0;34m\u001b[0m\u001b[0;34m\u001b[0m\u001b[0m\n\u001b[1;32m      4\u001b[0m     \u001b[0mlog\u001b[0m \u001b[0;34m=\u001b[0m \u001b[0mjson\u001b[0m\u001b[0;34m.\u001b[0m\u001b[0mload\u001b[0m\u001b[0;34m(\u001b[0m\u001b[0mopen\u001b[0m\u001b[0;34m(\u001b[0m\u001b[0;34mf'./{folder_path}/log.json'\u001b[0m\u001b[0;34m)\u001b[0m\u001b[0;34m)\u001b[0m\u001b[0;34m\u001b[0m\u001b[0;34m\u001b[0m\u001b[0m\n\u001b[1;32m      5\u001b[0m     \u001b[0mpred\u001b[0m \u001b[0;34m=\u001b[0m \u001b[0mpred_data\u001b[0m\u001b[0;34m.\u001b[0m\u001b[0mvalues\u001b[0m\u001b[0;34m.\u001b[0m\u001b[0mtolist\u001b[0m\u001b[0;34m(\u001b[0m\u001b[0;34m)\u001b[0m\u001b[0;34m\u001b[0m\u001b[0;34m\u001b[0m\u001b[0m\n",
      "\u001b[0;32m/opt/anaconda3/lib/python3.9/site-packages/pandas/io/parsers/readers.py\u001b[0m in \u001b[0;36mread_csv\u001b[0;34m(filepath_or_buffer, sep, delimiter, header, names, index_col, usecols, dtype, engine, converters, true_values, false_values, skipinitialspace, skiprows, skipfooter, nrows, na_values, keep_default_na, na_filter, verbose, skip_blank_lines, parse_dates, infer_datetime_format, keep_date_col, date_parser, date_format, dayfirst, cache_dates, iterator, chunksize, compression, thousands, decimal, lineterminator, quotechar, quoting, doublequote, escapechar, comment, encoding, encoding_errors, dialect, on_bad_lines, delim_whitespace, low_memory, memory_map, float_precision, storage_options, dtype_backend)\u001b[0m\n\u001b[1;32m   1024\u001b[0m     \u001b[0mkwds\u001b[0m\u001b[0;34m.\u001b[0m\u001b[0mupdate\u001b[0m\u001b[0;34m(\u001b[0m\u001b[0mkwds_defaults\u001b[0m\u001b[0;34m)\u001b[0m\u001b[0;34m\u001b[0m\u001b[0;34m\u001b[0m\u001b[0m\n\u001b[1;32m   1025\u001b[0m \u001b[0;34m\u001b[0m\u001b[0m\n\u001b[0;32m-> 1026\u001b[0;31m     \u001b[0;32mreturn\u001b[0m \u001b[0m_read\u001b[0m\u001b[0;34m(\u001b[0m\u001b[0mfilepath_or_buffer\u001b[0m\u001b[0;34m,\u001b[0m \u001b[0mkwds\u001b[0m\u001b[0;34m)\u001b[0m\u001b[0;34m\u001b[0m\u001b[0;34m\u001b[0m\u001b[0m\n\u001b[0m\u001b[1;32m   1027\u001b[0m \u001b[0;34m\u001b[0m\u001b[0m\n\u001b[1;32m   1028\u001b[0m \u001b[0;34m\u001b[0m\u001b[0m\n",
      "\u001b[0;32m/opt/anaconda3/lib/python3.9/site-packages/pandas/io/parsers/readers.py\u001b[0m in \u001b[0;36m_read\u001b[0;34m(filepath_or_buffer, kwds)\u001b[0m\n\u001b[1;32m    618\u001b[0m \u001b[0;34m\u001b[0m\u001b[0m\n\u001b[1;32m    619\u001b[0m     \u001b[0;31m# Create the parser.\u001b[0m\u001b[0;34m\u001b[0m\u001b[0;34m\u001b[0m\u001b[0m\n\u001b[0;32m--> 620\u001b[0;31m     \u001b[0mparser\u001b[0m \u001b[0;34m=\u001b[0m \u001b[0mTextFileReader\u001b[0m\u001b[0;34m(\u001b[0m\u001b[0mfilepath_or_buffer\u001b[0m\u001b[0;34m,\u001b[0m \u001b[0;34m**\u001b[0m\u001b[0mkwds\u001b[0m\u001b[0;34m)\u001b[0m\u001b[0;34m\u001b[0m\u001b[0;34m\u001b[0m\u001b[0m\n\u001b[0m\u001b[1;32m    621\u001b[0m \u001b[0;34m\u001b[0m\u001b[0m\n\u001b[1;32m    622\u001b[0m     \u001b[0;32mif\u001b[0m \u001b[0mchunksize\u001b[0m \u001b[0;32mor\u001b[0m \u001b[0miterator\u001b[0m\u001b[0;34m:\u001b[0m\u001b[0;34m\u001b[0m\u001b[0;34m\u001b[0m\u001b[0m\n",
      "\u001b[0;32m/opt/anaconda3/lib/python3.9/site-packages/pandas/io/parsers/readers.py\u001b[0m in \u001b[0;36m__init__\u001b[0;34m(self, f, engine, **kwds)\u001b[0m\n\u001b[1;32m   1618\u001b[0m \u001b[0;34m\u001b[0m\u001b[0m\n\u001b[1;32m   1619\u001b[0m         \u001b[0mself\u001b[0m\u001b[0;34m.\u001b[0m\u001b[0mhandles\u001b[0m\u001b[0;34m:\u001b[0m \u001b[0mIOHandles\u001b[0m \u001b[0;34m|\u001b[0m \u001b[0;32mNone\u001b[0m \u001b[0;34m=\u001b[0m \u001b[0;32mNone\u001b[0m\u001b[0;34m\u001b[0m\u001b[0;34m\u001b[0m\u001b[0m\n\u001b[0;32m-> 1620\u001b[0;31m         \u001b[0mself\u001b[0m\u001b[0;34m.\u001b[0m\u001b[0m_engine\u001b[0m \u001b[0;34m=\u001b[0m \u001b[0mself\u001b[0m\u001b[0;34m.\u001b[0m\u001b[0m_make_engine\u001b[0m\u001b[0;34m(\u001b[0m\u001b[0mf\u001b[0m\u001b[0;34m,\u001b[0m \u001b[0mself\u001b[0m\u001b[0;34m.\u001b[0m\u001b[0mengine\u001b[0m\u001b[0;34m)\u001b[0m\u001b[0;34m\u001b[0m\u001b[0;34m\u001b[0m\u001b[0m\n\u001b[0m\u001b[1;32m   1621\u001b[0m \u001b[0;34m\u001b[0m\u001b[0m\n\u001b[1;32m   1622\u001b[0m     \u001b[0;32mdef\u001b[0m \u001b[0mclose\u001b[0m\u001b[0;34m(\u001b[0m\u001b[0mself\u001b[0m\u001b[0;34m)\u001b[0m \u001b[0;34m->\u001b[0m \u001b[0;32mNone\u001b[0m\u001b[0;34m:\u001b[0m\u001b[0;34m\u001b[0m\u001b[0;34m\u001b[0m\u001b[0m\n",
      "\u001b[0;32m/opt/anaconda3/lib/python3.9/site-packages/pandas/io/parsers/readers.py\u001b[0m in \u001b[0;36m_make_engine\u001b[0;34m(self, f, engine)\u001b[0m\n\u001b[1;32m   1878\u001b[0m                 \u001b[0;32mif\u001b[0m \u001b[0;34m\"b\"\u001b[0m \u001b[0;32mnot\u001b[0m \u001b[0;32min\u001b[0m \u001b[0mmode\u001b[0m\u001b[0;34m:\u001b[0m\u001b[0;34m\u001b[0m\u001b[0;34m\u001b[0m\u001b[0m\n\u001b[1;32m   1879\u001b[0m                     \u001b[0mmode\u001b[0m \u001b[0;34m+=\u001b[0m \u001b[0;34m\"b\"\u001b[0m\u001b[0;34m\u001b[0m\u001b[0;34m\u001b[0m\u001b[0m\n\u001b[0;32m-> 1880\u001b[0;31m             self.handles = get_handle(\n\u001b[0m\u001b[1;32m   1881\u001b[0m                 \u001b[0mf\u001b[0m\u001b[0;34m,\u001b[0m\u001b[0;34m\u001b[0m\u001b[0;34m\u001b[0m\u001b[0m\n\u001b[1;32m   1882\u001b[0m                 \u001b[0mmode\u001b[0m\u001b[0;34m,\u001b[0m\u001b[0;34m\u001b[0m\u001b[0;34m\u001b[0m\u001b[0m\n",
      "\u001b[0;32m/opt/anaconda3/lib/python3.9/site-packages/pandas/io/common.py\u001b[0m in \u001b[0;36mget_handle\u001b[0;34m(path_or_buf, mode, encoding, compression, memory_map, is_text, errors, storage_options)\u001b[0m\n\u001b[1;32m    871\u001b[0m         \u001b[0;32mif\u001b[0m \u001b[0mioargs\u001b[0m\u001b[0;34m.\u001b[0m\u001b[0mencoding\u001b[0m \u001b[0;32mand\u001b[0m \u001b[0;34m\"b\"\u001b[0m \u001b[0;32mnot\u001b[0m \u001b[0;32min\u001b[0m \u001b[0mioargs\u001b[0m\u001b[0;34m.\u001b[0m\u001b[0mmode\u001b[0m\u001b[0;34m:\u001b[0m\u001b[0;34m\u001b[0m\u001b[0;34m\u001b[0m\u001b[0m\n\u001b[1;32m    872\u001b[0m             \u001b[0;31m# Encoding\u001b[0m\u001b[0;34m\u001b[0m\u001b[0;34m\u001b[0m\u001b[0m\n\u001b[0;32m--> 873\u001b[0;31m             handle = open(\n\u001b[0m\u001b[1;32m    874\u001b[0m                 \u001b[0mhandle\u001b[0m\u001b[0;34m,\u001b[0m\u001b[0;34m\u001b[0m\u001b[0;34m\u001b[0m\u001b[0m\n\u001b[1;32m    875\u001b[0m                 \u001b[0mioargs\u001b[0m\u001b[0;34m.\u001b[0m\u001b[0mmode\u001b[0m\u001b[0;34m,\u001b[0m\u001b[0;34m\u001b[0m\u001b[0;34m\u001b[0m\u001b[0m\n",
      "\u001b[0;31mFileNotFoundError\u001b[0m: [Errno 2] No such file or directory: './prediction/0831_c15_fewshot/pred.csv'"
     ]
    }
   ],
   "source": [
    "print(\"context = 15, audio+text, few shot\")\n",
    "eval_metrics = whole_eval(\"0831_c15_fewshot\")"
   ]
  },
  {
   "cell_type": "code",
   "execution_count": null,
   "metadata": {},
   "outputs": [],
   "source": []
  }
 ],
 "metadata": {
  "kernelspec": {
   "display_name": "base",
   "language": "python",
   "name": "python3"
  },
  "language_info": {
   "codemirror_mode": {
    "name": "ipython",
    "version": 3
   },
   "file_extension": ".py",
   "mimetype": "text/x-python",
   "name": "python",
   "nbconvert_exporter": "python",
   "pygments_lexer": "ipython3",
   "version": "3.12.4"
  }
 },
 "nbformat": 4,
 "nbformat_minor": 2
}
