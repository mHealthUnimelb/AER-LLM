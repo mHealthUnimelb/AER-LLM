{
 "cells": [
  {
   "cell_type": "code",
   "execution_count": 12,
   "metadata": {},
   "outputs": [
    {
     "name": "stdout",
     "output_type": "stream",
     "text": [
      "Collecting numpy<2.0\n",
      "  Downloading numpy-1.26.4-cp312-cp312-macosx_11_0_arm64.whl.metadata (61 kB)\n",
      "Downloading numpy-1.26.4-cp312-cp312-macosx_11_0_arm64.whl (13.7 MB)\n",
      "\u001b[2K   \u001b[90m━━━━━━━━━━━━━━━━━━━━━━━━━━━━━━━━━━━━━━━━\u001b[0m \u001b[32m13.7/13.7 MB\u001b[0m \u001b[31m3.2 MB/s\u001b[0m eta \u001b[36m0:00:00\u001b[0ma \u001b[36m0:00:01\u001b[0m\n",
      "\u001b[?25hInstalling collected packages: numpy\n",
      "  Attempting uninstall: numpy\n",
      "    Found existing installation: numpy 2.0.2\n",
      "    Uninstalling numpy-2.0.2:\n",
      "      Successfully uninstalled numpy-2.0.2\n",
      "\u001b[31mERROR: pip's dependency resolver does not currently take into account all the packages that are installed. This behaviour is the source of the following dependency conflicts.\n",
      "blis 1.0.1 requires numpy<3.0.0,>=2.0.0, but you have numpy 1.26.4 which is incompatible.\n",
      "thinc 8.3.2 requires numpy<2.1.0,>=2.0.0; python_version >= \"3.9\", but you have numpy 1.26.4 which is incompatible.\u001b[0m\u001b[31m\n",
      "\u001b[0mSuccessfully installed numpy-1.26.4\n",
      "Note: you may need to restart the kernel to use updated packages.\n"
     ]
    }
   ],
   "source": [
    "pip install \"numpy<2.0\""
   ]
  },
  {
   "cell_type": "code",
   "execution_count": 5,
   "metadata": {},
   "outputs": [],
   "source": [
    "import pandas as pd\n",
    "import json\n",
    "import eval_metrics as em\n",
    "import matplotlib.pyplot as plt\n",
    "import numpy as np\n",
    "from sklearn.metrics import accuracy_score\n",
    "from sklearn.metrics import recall_score\n",
    "from sklearn.metrics import f1_score\n",
    "import seaborn as sns\n",
    "from sklearn.metrics import balanced_accuracy_score"
   ]
  },
  {
   "cell_type": "code",
   "execution_count": 6,
   "metadata": {},
   "outputs": [],
   "source": [
    "def get_results(folder_path):\n",
    "    pred_data = pd.read_csv(f'./{folder_path}/pred.csv', names=[\"neutral\", \"happy\", \"angry\", \"sad\"])\n",
    "    truth_data = pd.read_csv(f'./{folder_path}/truth.csv', names=[\"neutral\", \"happy\", \"angry\", \"sad\"])\n",
    "    log = json.load(open(f'./{folder_path}/log.json'))\n",
    "    pred = pred_data.values.tolist()\n",
    "    truth = truth_data.values.tolist()\n",
    "    return pred, truth, log"
   ]
  },
  {
   "cell_type": "code",
   "execution_count": 7,
   "metadata": {},
   "outputs": [],
   "source": [
    "def get_eval(pred, truth):\n",
    "    KL_dist = []\n",
    "    R_square = []\n",
    "    BC = []\n",
    "    JS_distance = []\n",
    "    for i in range(len(pred)):\n",
    "        KL_dist.append(round(em.KL(pred[i], truth[i]),6))\n",
    "        b_coefficient = em.BC(pred[i], truth[i])\n",
    "        BC.append(round(b_coefficient,6))\n",
    "        R_square.append(round(em.R(pred[i], truth[i]),6))\n",
    "        JS_distance.append(round(em.js_distance(pred[i], truth[i]),6))\n",
    "\n",
    "    eval_metrics = pd.DataFrame({\n",
    "        'ground_truth': truth,\n",
    "        'prediction': pred,\n",
    "        'KL': KL_dist,\n",
    "        'BC': BC,\n",
    "        'R_square': R_square,\n",
    "        'JS': JS_distance\n",
    "    })\n",
    "    eval_metrics['KL_std'] = round((eval_metrics['KL'] - eval_metrics['KL'].min()) / (eval_metrics['KL'].max() - eval_metrics['KL'].min()),6)\n",
    "    return eval_metrics"
   ]
  },
  {
   "cell_type": "code",
   "execution_count": 8,
   "metadata": {},
   "outputs": [],
   "source": [
    "def cal_entropy(emo_probs):\n",
    "    emo_probs = np.array(emo_probs)\n",
    "    non_0_probs = emo_probs[emo_probs > 0]\n",
    "    entropy = abs(np.sum(non_0_probs*np.log2(non_0_probs)))\n",
    "    return round(entropy,4)\n",
    "\n",
    "def add_entropy(eval_metrics):\n",
    "    entropy = []\n",
    "    for i in range(len(eval_metrics)):\n",
    "        entropy.append(cal_entropy(eval_metrics.iloc[i,0]))\n",
    "    eval_metrics['entropy'] = entropy\n",
    "    return eval_metrics"
   ]
  },
  {
   "cell_type": "markdown",
   "metadata": {},
   "source": [
    "Entropy Table\n",
    "* ground truth = [1.0, 0.0, 0.0, 0.9], entropy = 0\n",
    "* ground truth = [0.33, 0.67, 0.0, 0.0], entropy = 0.9149\n",
    "* ground truth = [0.33, 0.33, 0.0, 0.33], entropy = 1.5835\n",
    "* ground truth = [0.25,0.25,0.25,0.25], entropy = 2.0"
   ]
  },
  {
   "cell_type": "markdown",
   "metadata": {},
   "source": [
    "* KL: Lower is better\n",
    "* BC: Larger is better\n",
    "* R^2: Larger is better"
   ]
  },
  {
   "cell_type": "code",
   "execution_count": 9,
   "metadata": {},
   "outputs": [],
   "source": [
    "def entropy_vs_evalmetrics(data):\n",
    "    labels = sorted(data['entropy'].unique())\n",
    "    grouped_KL = [data[data['entropy'] == entropy][\"KL_std\"].values for entropy in sorted(data['entropy'].unique())]\n",
    "\n",
    "    for i in range(len(labels)):\n",
    "        print(\"Number of instances for entropy = \", labels[i], \": \", len(grouped_KL[i]))\n",
    "    \n",
    "    plt.figure(facecolor='white')\n",
    "\n",
    "    fig, axs = plt.subplots(1, 3, figsize=(15, 5))\n",
    "    ax = plt.gca()\n",
    "    ax.set_facecolor('white')\n",
    "    axs[0].boxplot(grouped_KL, labels = labels)\n",
    "    axs[0].set_title('KL Divergence')\n",
    "\n",
    "    grouped_BC = [data[data['entropy'] == entropy][\"BC\"].values for entropy in sorted(data['entropy'].unique())]\n",
    "    axs[1].boxplot(grouped_BC, labels = labels)\n",
    "    axs[1].set_title('BC')\n",
    "\n",
    "    grouped_R = [data[data['entropy'] == entropy][\"R_square\"].values for entropy in sorted(data['entropy'].unique())]\n",
    "    axs[2].boxplot(grouped_R, labels = labels)\n",
    "    axs[2].set_title('R Square')"
   ]
  },
  {
   "cell_type": "code",
   "execution_count": 10,
   "metadata": {},
   "outputs": [],
   "source": [
    "def js_distance(p, q):\n",
    "    # Calculate M as the average of P and Q\n",
    "    p= np.asarray(p, dtype=np.float64)\n",
    "    q = np.asarray(q, dtype=np.float64)\n",
    "\n",
    "    m = 0.5 * (p + q)\n",
    "    \n",
    "    # Calculate JS Divergence\n",
    "\n",
    "    js_divergence = 0.5 * em.KL(p, m) + 0.5 * em.KL(q, m)\n",
    "\n",
    "    return np.sqrt(js_divergence)"
   ]
  },
  {
   "cell_type": "code",
   "execution_count": 8,
   "metadata": {},
   "outputs": [
    {
     "ename": "NameError",
     "evalue": "name 'predts' is not defined",
     "output_type": "error",
     "traceback": [
      "\u001b[0;31m---------------------------------------------------------------------------\u001b[0m",
      "\u001b[0;31mNameError\u001b[0m                                 Traceback (most recent call last)",
      "Cell \u001b[0;32mIn[8], line 2\u001b[0m\n\u001b[1;32m      1\u001b[0m js \u001b[38;5;241m=\u001b[39m []\n\u001b[0;32m----> 2\u001b[0m \u001b[38;5;28;01mfor\u001b[39;00m i \u001b[38;5;129;01min\u001b[39;00m \u001b[38;5;28mrange\u001b[39m(\u001b[38;5;28mlen\u001b[39m(predts)):\n\u001b[1;32m      3\u001b[0m     js\u001b[38;5;241m.\u001b[39mappend(js_distance(predts[i], truthts[i]))\n\u001b[1;32m      4\u001b[0m np\u001b[38;5;241m.\u001b[39mmean(js)\n",
      "\u001b[0;31mNameError\u001b[0m: name 'predts' is not defined"
     ]
    }
   ],
   "source": [
    "js = []\n",
    "for i in range(len(predts)):\n",
    "    js.append(js_distance(predts[i], truthts[i]))\n",
    "np.mean(js)"
   ]
  },
  {
   "cell_type": "markdown",
   "metadata": {},
   "source": [
    "ACC"
   ]
  },
  {
   "cell_type": "code",
   "execution_count": 11,
   "metadata": {},
   "outputs": [],
   "source": [
    "def majority_agree(pred, truth):\n",
    "     maj_pred_label = []\n",
    "     maj_truth_label = []\n",
    "     maj_pred_prob = []\n",
    "     maj_truth_prob = []\n",
    "     for i in range(len(pred)):\n",
    "          maj_pred_prob.append(max(pred[i]))\n",
    "          maj_truth_prob.append(max(truth[i]))\n",
    "\n",
    "          maj_pred_label.append(np.argmax(pred[i]))\n",
    "          maj_truth_label.append(np.argmax(truth[i]))\n",
    "\n",
    "     return maj_pred_prob, maj_truth_prob, maj_pred_label, maj_truth_label"
   ]
  },
  {
   "cell_type": "markdown",
   "metadata": {},
   "source": [
    "Expected calibration error"
   ]
  },
  {
   "cell_type": "code",
   "execution_count": 12,
   "metadata": {},
   "outputs": [],
   "source": [
    "def ECE(samples, trues, n_bims = 5):\n",
    "    # uniform binning approach with M number of bins\n",
    "    bin_boundaries = np.linspace(0, 1, n_bims + 1)\n",
    "    bin_lowers = bin_boundaries[:-1]\n",
    "    bin_uppers = bin_boundaries[1:]\n",
    "\n",
    "    # get max probability per sample i\n",
    "    confidences = np.max(samples, axis=1)\n",
    "    # get predictions from confidences (positional in this case)\n",
    "    predicted_label = np.argmax(samples, axis=1)\n",
    "    true_labels = np.argmax(trues, axis=1)\n",
    "    \n",
    "    # get a boolean list of correct/false predictions\n",
    "    accuracies = predicted_label==true_labels\n",
    "\n",
    "    ece = np.zeros(1)\n",
    "    for bin_lower, bin_upper in zip(bin_lowers, bin_uppers):\n",
    "        # determine if sample is in bin m (between bin lower & upper)\n",
    "        in_bin = np.logical_and(confidences > bin_lower.item(), confidences <= bin_upper.item())\n",
    "        # can calculate the empirical probability of a sample falling into bin m: (|Bm|/n)\n",
    "        prob_in_bin = in_bin.mean()\n",
    "\n",
    "        if prob_in_bin.item() > 0:\n",
    "            # get the accuracy of bin m: acc(Bm)\n",
    "            accuracy_in_bin = accuracies[in_bin].mean()\n",
    "            # get the average confidence of bin m: conf(Bm)\n",
    "            avg_confidence_in_bin = confidences[in_bin].mean()\n",
    "            # calculate |acc(Bm) - conf(Bm)| * (|Bm|/n) for bin m and add to the total ECE\n",
    "            ece += np.abs(avg_confidence_in_bin - accuracy_in_bin) * prob_in_bin\n",
    "    return ece"
   ]
  },
  {
   "cell_type": "code",
   "execution_count": 13,
   "metadata": {},
   "outputs": [],
   "source": [
    "def whole_eval(eval_metric, pred, truth):\n",
    "    # entropy_vs_evalmetrics(eval_metric)\n",
    "    print(\"Mean of JS\", round(eval_metric['JS'].mean(),2))\n",
    "    print(\"Mean of BC score: \", round(eval_metric['BC'].mean(),2))\n",
    "    print(\"Mean of R square: \", round(eval_metric['R_square'].mean(),2))\n",
    "    pred = np.array(pred)\n",
    "    truth = np.array(truth)\n",
    "    maj_pred_prob, maj_truth_prob, maj_pred_label, maj_truth_label = majority_agree(pred, truth)\n",
    "    ece = ECE(pred, truth)\n",
    "    acc = accuracy_score(maj_truth_label, maj_pred_label)\n",
    "    print(\"ECE: \", round(ece[0]*100,2))\n",
    "    print(\"UAC: \", round(acc*100,2))\n",
    "    w_f1 = f1_score(maj_truth_label, maj_pred_label, average='weighted')\n",
    "    print(\"Weighted F1: \", round(w_f1*100,2))\n",
    "    return eval_metric"
   ]
  },
  {
   "cell_type": "code",
   "execution_count": 14,
   "metadata": {},
   "outputs": [],
   "source": [
    "def cal_vote_by_entropy(d):\n",
    "    d['true'] = d['ground_truth'].apply(lambda x: np.argmax(x))\n",
    "    d['pred'] = d['prediction'].apply(lambda x: np.argmax(x))\n",
    "    d = d[d['entropy'].apply(lambda x:x!= 1.5835)]\n",
    "\n",
    "    print(\"overall acc: \", round((d['true'] == d['pred']).mean()*100,2))\n",
    "    print(\"overall W-F1: \", round(f1_score(d['true'], d['pred'], average='weighted')*100,2))\n",
    "    d_e = d.groupby('entropy')\n",
    "\n",
    "    acc_by_entropy = d_e.apply(lambda x: round((x['true'] == x['pred']).mean()*100,2))\n",
    "    acc_by_entropy.columns = ['entropy', 'accuracy']\n",
    "    print(\"entropy = 0.0: acc = \", acc_by_entropy[0])\n",
    "    print(\"entropy = 0.9149: acc = \", acc_by_entropy[0.9149])\n",
    "    \n",
    "    f1_by_group = d_e.apply(lambda x: round(f1_score(x['true'], x['pred'], average='weighted')*100,2))\n",
    "    print(\"entropy = 0.0: W-F1 = :\", f1_by_group[0])\n",
    "    print(\"entropy = 0.9149: W-F1 = \", f1_by_group[0.9149])\n",
    "\n"
   ]
  },
  {
   "cell_type": "code",
   "execution_count": 50,
   "metadata": {},
   "outputs": [
    {
     "name": "stderr",
     "output_type": "stream",
     "text": [
      "/Users/macbookpro/Documents/Research Project/LLM_Ambiguous_Emotion/eval_metrics.py:12: RuntimeWarning: divide by zero encountered in log\n",
      "  KL_value = np.sum(np.where(a != 0, a * np.log(a / b), 0))\n",
      "/Users/macbookpro/Documents/Research Project/LLM_Ambiguous_Emotion/eval_metrics.py:12: RuntimeWarning: invalid value encountered in multiply\n",
      "  KL_value = np.sum(np.where(a != 0, a * np.log(a / b), 0))\n"
     ]
    },
    {
     "name": "stdout",
     "output_type": "stream",
     "text": [
      "Mean of JS 0.35\n",
      "Mean of BC score:  0.69\n",
      "Mean of R square:  0.59\n",
      "ECE:  28.88\n",
      "UAC:  57.96\n",
      "Weighted F1:  58.33\n"
     ]
    }
   ],
   "source": [
    "all_pred, all_truth, all_log = get_results(\"prediction/0831_c20_fs_at\")\n",
    "# Impro \n",
    "eval_metric = get_eval(all_pred, all_truth)\n",
    "# add entropy column\n",
    "eval_metric = add_entropy(eval_metric)\n",
    "df = whole_eval(eval_metric,all_pred,all_truth)"
   ]
  },
  {
   "cell_type": "code",
   "execution_count": 53,
   "metadata": {},
   "outputs": [
    {
     "data": {
      "text/plain": [
       "entropy\n",
       "0.0000    2410\n",
       "0.9149    1813\n",
       "1.5835     147\n",
       "Name: count, dtype: int64"
      ]
     },
     "execution_count": 53,
     "metadata": {},
     "output_type": "execute_result"
    }
   ],
   "source": [
    "df.entropy.value_counts()"
   ]
  },
  {
   "cell_type": "code",
   "execution_count": 57,
   "metadata": {},
   "outputs": [
    {
     "data": {
      "text/plain": [
       "4370"
      ]
     },
     "execution_count": 57,
     "metadata": {},
     "output_type": "execute_result"
    }
   ],
   "source": [
    "len(df)"
   ]
  },
  {
   "cell_type": "code",
   "execution_count": 56,
   "metadata": {},
   "outputs": [
    {
     "name": "stderr",
     "output_type": "stream",
     "text": [
      "/var/folders/gk/b497571d49ndglvgyk5sb53h0000gn/T/ipykernel_59061/250519976.py:16: FutureWarning: \n",
      "\n",
      "Passing `palette` without assigning `hue` is deprecated and will be removed in v0.14.0. Assign the `x` variable to `hue` and set `legend=False` for the same effect.\n",
      "\n",
      "  box1 = sns.boxplot(x='entropy', y='JS', data=df, ax=axs[0],palette = palette, width=0.4,\n",
      "/var/folders/gk/b497571d49ndglvgyk5sb53h0000gn/T/ipykernel_59061/250519976.py:29: FutureWarning: \n",
      "\n",
      "Passing `palette` without assigning `hue` is deprecated and will be removed in v0.14.0. Assign the `x` variable to `hue` and set `legend=False` for the same effect.\n",
      "\n",
      "  box2 = sns.boxplot(x='entropy', y='BC', data=df, ax=axs[1],palette = palette, width=0.4,\n",
      "/var/folders/gk/b497571d49ndglvgyk5sb53h0000gn/T/ipykernel_59061/250519976.py:41: FutureWarning: \n",
      "\n",
      "Passing `palette` without assigning `hue` is deprecated and will be removed in v0.14.0. Assign the `x` variable to `hue` and set `legend=False` for the same effect.\n",
      "\n",
      "  box3 = sns.boxplot(x='entropy', y='R_square', data=df, ax=axs[2],palette = palette, width=0.4,\n"
     ]
    },
    {
     "data": {
      "text/plain": [
       "<Figure size 640x480 with 0 Axes>"
      ]
     },
     "metadata": {},
     "output_type": "display_data"
    },
    {
     "data": {
      "image/png": "[encoded data removed]",
      "text/plain": [
       "<Figure size 1500x500 with 3 Axes>"
      ]
     },
     "metadata": {},
     "output_type": "display_data"
    }
   ],
   "source": [
    "# def sns_vial(data):\n",
    "plt.rcParams['font.family'] = 'serif'\n",
    "\n",
    "plt.figure(facecolor='white')\n",
    "palette = sns.color_palette(\"husl\",3)  # 选择一个调色板\n",
    "\n",
    "fig, axs = plt.subplots(1, 3, figsize=(15, 5))\n",
    "\n",
    "boxprops = dict(edgecolor= \"gray\", linewidth=1.5)\n",
    "whiskerprops = dict(color= \"gray\", linewidth=1.5)\n",
    "capprops = dict(color= \"gray\", linewidth=1.5)\n",
    "\n",
    "# Customize the appearance of outliers\n",
    "flierprops = dict(marker='D', markersize = 2, linestyle = \"none\")\n",
    "\n",
    "box1 = sns.boxplot(x='entropy', y='JS', data=df, ax=axs[0],palette = palette, width=0.4,\n",
    "                      boxprops=boxprops, whiskerprops=whiskerprops, capprops=capprops, flierprops= flierprops)\n",
    "#sns.stripplot(x='entropy', y='KL_std', data=eval_metrics_ts, ax=axs[0], color='black', jitter=True, alpha=0.4)\n",
    "median_color = \"black\"\n",
    "for i in [4, 10, 16]: \n",
    "    box1.get_lines()[i].set_color(median_color)\n",
    "    box1.get_lines()[i].set_linewidth(2)\n",
    "axs[0].set_ylabel('JS', fontsize = 18, labelpad=-2, fontweight='semibold')\n",
    "axs[0].set_xlabel('Entropy', fontsize = 18, fontweight='semibold')\n",
    "axs[0].tick_params(axis='both', which='major', labelsize=14)\n",
    "axs[0].tick_params(axis='x', labelrotation=15)\n",
    "\n",
    "# BC\n",
    "box2 = sns.boxplot(x='entropy', y='BC', data=df, ax=axs[1],palette = palette, width=0.4,\n",
    "                   boxprops=boxprops, whiskerprops=whiskerprops, capprops=capprops, flierprops= flierprops)\n",
    "#sns.stripplot(x='entropy', y='BC', data=eval_metrics_ts, ax=axs[1], color=\".25\", jitter=True, alpha=0.4)\n",
    "for i in [4, 10, 16]:  # 修改第一组、第二组和第三组的中位数线条\n",
    "    box2.get_lines()[i].set_color(median_color)\n",
    "    box2.get_lines()[i].set_linewidth(2)\n",
    "axs[1].set_ylabel('BC', fontsize = 18, labelpad=-2, fontweight='semibold')\n",
    "axs[1].set_xlabel('Entropy', fontsize = 18, fontweight='semibold')\n",
    "axs[1].tick_params(axis='both', which='major', labelsize=14)\n",
    "axs[1].tick_params(axis='x', labelrotation=15)\n",
    "\n",
    "# R Square\n",
    "box3 = sns.boxplot(x='entropy', y='R_square', data=df, ax=axs[2],palette = palette, width=0.4,\n",
    "                   boxprops=boxprops, whiskerprops=whiskerprops, capprops=capprops, flierprops= flierprops)\n",
    "#sns.stripplot(x='entropy', y='R_square', data=eval_metrics_ts, ax=axs[2], color=\".25\", jitter=True, alpha=0.4)\n",
    "for i in [4, 10, 16]:  # 修改第一组、第二组和第三组的中位数线条\n",
    "    box3.get_lines()[i].set_color(median_color)\n",
    "    box3.get_lines()[i].set_linewidth(2)\n",
    "axs[2].set_ylabel('R square', fontsize = 18, labelpad=-2,fontweight='semibold')\n",
    "axs[2].set_xlabel('Entropy', fontsize = 18, fontweight='semibold')\n",
    "axs[2].tick_params(axis='both', which='major', labelsize=14)\n",
    "axs[2].tick_params(axis='x', labelrotation=15)\n",
    "\n",
    "\n",
    "#sns.despine(left=True)\n",
    "\n",
    "plt.show()"
   ]
  },
  {
   "cell_type": "code",
   "execution_count": 36,
   "metadata": {},
   "outputs": [
    {
     "name": "stdout",
     "output_type": "stream",
     "text": [
      "number of utterances in impro 2448 2448 2448\n",
      "number of utterances in script 1922 1922 1922\n",
      "Total utterances: 4370\n"
     ]
    }
   ],
   "source": [
    "impro_pred = []\n",
    "impro_ids = []\n",
    "ID = 0\n",
    "impro_truth = []\n",
    "script_pred = []\n",
    "script_truth = []\n",
    "impro_log = []\n",
    "script_log = []\n",
    "i = 0\n",
    "\n",
    "for id, values in all_log.items():\n",
    "    ID += 1\n",
    "    if id.split(\"_\")[1][0:5] == \"impro\":\n",
    "        impro_ids.append(ID)\n",
    "        impro_pred.append(all_pred[i])\n",
    "        impro_truth.append(all_truth[i])\n",
    "        impro_log.append([id,values])\n",
    "    elif id.split(\"_\")[1][0:6] == \"script\":\n",
    "        script_pred.append(all_pred[i])\n",
    "        script_truth.append(all_truth[i])\n",
    "        script_log.append([id,values])\n",
    "    i += 1\n",
    "print(\"number of utterances in impro\", len(impro_pred), len(impro_truth), len(impro_ids))\n",
    "script_ids = [i for i in range(4370) if i not in impro_ids]\n",
    "print(\"number of utterances in script\", len(script_pred), len(script_truth), len(script_ids))\n",
    "print(\"Total utterances:\", len(impro_pred) + len(script_pred))\n"
   ]
  },
  {
   "cell_type": "code",
   "execution_count": 37,
   "metadata": {},
   "outputs": [
    {
     "name": "stdout",
     "output_type": "stream",
     "text": [
      "Mean of JS 0.42\n",
      "Mean of BC score:  0.58\n",
      "Mean of R square:  0.56\n",
      "ECE:  43.87\n",
      "UAC:  53.84\n",
      "Weighted F1:  52.25\n"
     ]
    },
    {
     "name": "stderr",
     "output_type": "stream",
     "text": [
      "/Users/macbookpro/Documents/Research Project/LLM_Ambiguous_Emotion/eval_metrics.py:12: RuntimeWarning: divide by zero encountered in log\n",
      "  KL_value = np.sum(np.where(a != 0, a * np.log(a / b), 0))\n",
      "/Users/macbookpro/Documents/Research Project/LLM_Ambiguous_Emotion/eval_metrics.py:12: RuntimeWarning: invalid value encountered in multiply\n",
      "  KL_value = np.sum(np.where(a != 0, a * np.log(a / b), 0))\n"
     ]
    }
   ],
   "source": [
    "# Impro \n",
    "impro_eval_metric = get_eval(impro_pred, impro_truth)\n",
    "# add entropy column\n",
    "impro_eval_metric = add_entropy(impro_eval_metric)\n",
    "impro_ds = whole_eval(impro_eval_metric,impro_pred,impro_truth)"
   ]
  },
  {
   "cell_type": "code",
   "execution_count": 38,
   "metadata": {},
   "outputs": [
    {
     "name": "stdout",
     "output_type": "stream",
     "text": [
      "Mean of JS 0.61\n",
      "Mean of BC score:  0.31\n",
      "Mean of R square:  0.39\n",
      "ECE:  71.91\n",
      "UAC:  26.85\n",
      "Weighted F1:  21.66\n"
     ]
    },
    {
     "name": "stderr",
     "output_type": "stream",
     "text": [
      "/Users/macbookpro/Documents/Research Project/LLM_Ambiguous_Emotion/eval_metrics.py:12: RuntimeWarning: divide by zero encountered in log\n",
      "  KL_value = np.sum(np.where(a != 0, a * np.log(a / b), 0))\n",
      "/Users/macbookpro/Documents/Research Project/LLM_Ambiguous_Emotion/eval_metrics.py:12: RuntimeWarning: invalid value encountered in multiply\n",
      "  KL_value = np.sum(np.where(a != 0, a * np.log(a / b), 0))\n"
     ]
    }
   ],
   "source": [
    "# Script \n",
    "script_eval_metric = get_eval(script_pred, script_truth)\n",
    "# add entropy column\n",
    "script_eval_metric = add_entropy(script_eval_metric)\n",
    "script_ds = whole_eval(script_eval_metric,script_pred,script_truth)"
   ]
  },
  {
   "cell_type": "code",
   "execution_count": 19,
   "metadata": {},
   "outputs": [],
   "source": [
    "from collections import Counter\n",
    "from sklearn.metrics import confusion_matrix\n",
    "from sklearn.metrics import recall_score, balanced_accuracy_score"
   ]
  },
  {
   "cell_type": "code",
   "execution_count": 120,
   "metadata": {},
   "outputs": [
    {
     "data": {
      "image/png": "[encoded data removed]",
      "text/plain": [
       "<Figure size 1000x600 with 1 Axes>"
      ]
     },
     "metadata": {},
     "output_type": "display_data"
    }
   ],
   "source": [
    "impro_js =  df[df['type'] == \"impro\"].R_square.tolist()\n",
    "script_js = df[df['type'] == \"script\"].R_square.tolist()\n",
    "\n",
    "# Create the plot\n",
    "plt.figure(figsize=(10, 6))\n",
    "sns.kdeplot(impro_js, fill=True, label='Impro', color='blue', alpha=0.6,clip=(0, 1))\n",
    "sns.kdeplot(script_js, fill=True, label='Script', color='red', alpha=0.6,clip=(0, 1))\n",
    "\n",
    "# Add title and labels\n",
    "# plt.title(\"Probability Distribution of JS with Overlapping Datasets\")\n",
    "plt.xlabel(\"R Square\", fontsize = 18)\n",
    "plt.ylabel(\"Density\", fontsize = 18)\n",
    "plt.legend(fontsize=14)\n",
    "plt.tick_params(axis='x', labelsize=14)\n",
    "plt.tick_params(axis='y', labelsize=14)\n",
    "\n",
    "# Show the plot\n",
    "plt.show()"
   ]
  },
  {
   "cell_type": "code",
   "execution_count": 12,
   "metadata": {},
   "outputs": [
    {
     "data": {
      "text/plain": [
       "'impro'"
      ]
     },
     "execution_count": 12,
     "metadata": {},
     "output_type": "execute_result"
    }
   ],
   "source": [
    "'Ses01F_impro01_F001'.split(\"_\")[1][0:5]"
   ]
  },
  {
   "cell_type": "code",
   "execution_count": 15,
   "metadata": {},
   "outputs": [],
   "source": [
    "# best_pred, best_truth, best_log = get_results(\"prediction/0831_c20_fs_at\")"
   ]
  },
  {
   "cell_type": "code",
   "execution_count": 20,
   "metadata": {},
   "outputs": [
    {
     "ename": "NameError",
     "evalue": "name 'best_log' is not defined",
     "output_type": "error",
     "traceback": [
      "\u001b[0;31m---------------------------------------------------------------------------\u001b[0m",
      "\u001b[0;31mNameError\u001b[0m                                 Traceback (most recent call last)",
      "Cell \u001b[0;32mIn[20], line 9\u001b[0m\n\u001b[1;32m      6\u001b[0m script_log \u001b[38;5;241m=\u001b[39m []\n\u001b[1;32m      7\u001b[0m i \u001b[38;5;241m=\u001b[39m \u001b[38;5;241m0\u001b[39m\n\u001b[0;32m----> 9\u001b[0m \u001b[38;5;28;01mfor\u001b[39;00m \u001b[38;5;28mid\u001b[39m, values \u001b[38;5;129;01min\u001b[39;00m best_log\u001b[38;5;241m.\u001b[39mitems():\n\u001b[1;32m     10\u001b[0m     \u001b[38;5;28;01mif\u001b[39;00m \u001b[38;5;28mid\u001b[39m\u001b[38;5;241m.\u001b[39msplit(\u001b[38;5;124m\"\u001b[39m\u001b[38;5;124m_\u001b[39m\u001b[38;5;124m\"\u001b[39m)[\u001b[38;5;241m1\u001b[39m][\u001b[38;5;241m0\u001b[39m:\u001b[38;5;241m5\u001b[39m] \u001b[38;5;241m==\u001b[39m \u001b[38;5;124m\"\u001b[39m\u001b[38;5;124mimpro\u001b[39m\u001b[38;5;124m\"\u001b[39m:\n\u001b[1;32m     11\u001b[0m         impro_pred\u001b[38;5;241m.\u001b[39mappend(best_pred[i])\n",
      "\u001b[0;31mNameError\u001b[0m: name 'best_log' is not defined"
     ]
    }
   ],
   "source": []
  },
  {
   "cell_type": "code",
   "execution_count": 17,
   "metadata": {},
   "outputs": [
    {
     "data": {
      "text/plain": [
       "4370"
      ]
     },
     "execution_count": 17,
     "metadata": {},
     "output_type": "execute_result"
    }
   ],
   "source": []
  },
  {
   "cell_type": "code",
   "execution_count": 18,
   "metadata": {},
   "outputs": [
    {
     "name": "stdout",
     "output_type": "stream",
     "text": [
      "number of utterances in impro 2448 2448\n",
      "number of utterances in script 1922 1922\n"
     ]
    }
   ],
   "source": []
  },
  {
   "cell_type": "code",
   "execution_count": null,
   "metadata": {},
   "outputs": [],
   "source": []
  },
  {
   "cell_type": "code",
   "execution_count": 19,
   "metadata": {},
   "outputs": [
    {
     "name": "stderr",
     "output_type": "stream",
     "text": [
      "/Users/macbookpro/Documents/Research Project/LLM_Ambiguous_Emotion/eval_metrics.py:12: RuntimeWarning: divide by zero encountered in log\n",
      "  KL_value = np.sum(np.where(a != 0, a * np.log(a / b), 0))\n",
      "/Users/macbookpro/Documents/Research Project/LLM_Ambiguous_Emotion/eval_metrics.py:12: RuntimeWarning: invalid value encountered in multiply\n",
      "  KL_value = np.sum(np.where(a != 0, a * np.log(a / b), 0))\n",
      "/Users/macbookpro/Documents/Research Project/LLM_Ambiguous_Emotion/eval_metrics.py:12: RuntimeWarning: divide by zero encountered in log\n",
      "  KL_value = np.sum(np.where(a != 0, a * np.log(a / b), 0))\n",
      "/Users/macbookpro/Documents/Research Project/LLM_Ambiguous_Emotion/eval_metrics.py:12: RuntimeWarning: invalid value encountered in multiply\n",
      "  KL_value = np.sum(np.where(a != 0, a * np.log(a / b), 0))\n"
     ]
    }
   ],
   "source": [
    "impro_em = get_eval(impro_pred, impro_truth)\n",
    "script_em = get_eval(script_pred, script_truth)\n",
    "impro_em = add_entropy(impro_em)\n",
    "script_em = add_entropy(script_em)"
   ]
  },
  {
   "cell_type": "code",
   "execution_count": 20,
   "metadata": {},
   "outputs": [
    {
     "name": "stderr",
     "output_type": "stream",
     "text": [
      "/Users/macbookpro/Documents/Research Project/LLM_Ambiguous_Emotion/eval_metrics.py:12: RuntimeWarning: divide by zero encountered in log\n",
      "  KL_value = np.sum(np.where(a != 0, a * np.log(a / b), 0))\n",
      "/Users/macbookpro/Documents/Research Project/LLM_Ambiguous_Emotion/eval_metrics.py:12: RuntimeWarning: invalid value encountered in multiply\n",
      "  KL_value = np.sum(np.where(a != 0, a * np.log(a / b), 0))\n"
     ]
    },
    {
     "name": "stdout",
     "output_type": "stream",
     "text": [
      "Mean of JS score:  0.35\n"
     ]
    }
   ],
   "source": [
    "best_em = get_eval(best_pred,best_truth)\n",
    "best_em = add_entropy(best_em)\n",
    "print(\"Mean of JS score: \", round(best_em['JS'].mean(),2))\n"
   ]
  },
  {
   "cell_type": "code",
   "execution_count": 26,
   "metadata": {},
   "outputs": [
    {
     "data": {
      "text/plain": [
       "0.800779656862745"
      ]
     },
     "execution_count": 26,
     "metadata": {},
     "output_type": "execute_result"
    }
   ],
   "source": [
    "js_values = []\n",
    "for i in range(len(impro_pred)):\n",
    "    f, co = em.BC(impro_truth[i],impro_pred[i])\n",
    "    js_values.append(co)\n",
    "np.mean(js_values)"
   ]
  },
  {
   "cell_type": "code",
   "execution_count": 23,
   "metadata": {},
   "outputs": [
    {
     "name": "stderr",
     "output_type": "stream",
     "text": [
      "/Users/macbookpro/Documents/Research Project/LLM_Ambiguous_Emotion/eval_metrics.py:12: RuntimeWarning: divide by zero encountered in log\n",
      "  KL_value = np.sum(np.where(a != 0, a * np.log(a / b), 0))\n",
      "/Users/macbookpro/Documents/Research Project/LLM_Ambiguous_Emotion/eval_metrics.py:12: RuntimeWarning: invalid value encountered in multiply\n",
      "  KL_value = np.sum(np.where(a != 0, a * np.log(a / b), 0))\n"
     ]
    },
    {
     "data": {
      "text/plain": [
       "0.4623800730010348"
      ]
     },
     "execution_count": 23,
     "metadata": {},
     "output_type": "execute_result"
    }
   ],
   "source": [
    "js_values = []\n",
    "for i in range(len(script_pred)):\n",
    "    js_values.append(em.js_distance(script_pred[i],script_truth[i]))\n",
    "np.mean(js_values)"
   ]
  },
  {
   "cell_type": "code",
   "execution_count": null,
   "metadata": {},
   "outputs": [],
   "source": [
    "bs_values = []\n",
    "for i "
   ]
  },
  {
   "cell_type": "code",
   "execution_count": 20,
   "metadata": {},
   "outputs": [
    {
     "data": {
      "text/plain": [
       "array([0.15463235])"
      ]
     },
     "execution_count": 20,
     "metadata": {},
     "output_type": "execute_result"
    }
   ],
   "source": [
    "ECE(impro_truth, impro_pred)"
   ]
  },
  {
   "cell_type": "code",
   "execution_count": 21,
   "metadata": {},
   "outputs": [
    {
     "data": {
      "text/plain": [
       "array([0.39992716])"
      ]
     },
     "execution_count": 21,
     "metadata": {},
     "output_type": "execute_result"
    }
   ],
   "source": [
    "ECE(script_truth, script_pred)"
   ]
  },
  {
   "cell_type": "code",
   "execution_count": 18,
   "metadata": {},
   "outputs": [
    {
     "name": "stdout",
     "output_type": "stream",
     "text": [
      "Number of instances for entropy =  0.0 :  1486\n",
      "Number of instances for entropy =  0.9149 :  936\n",
      "Number of instances for entropy =  1.5835 :  26\n"
     ]
    },
    {
     "data": {
      "text/plain": [
       "<Figure size 432x288 with 0 Axes>"
      ]
     },
     "metadata": {},
     "output_type": "display_data"
    },
    {
     "data": {
      "image/png": "[encoded data removed]",
      "text/plain": [
       "<Figure size 1080x360 with 3 Axes>"
      ]
     },
     "metadata": {
      "needs_background": "light"
     },
     "output_type": "display_data"
    }
   ],
   "source": [
    "# def sns_vial(data):\n",
    "labels = sorted(impro_em['entropy'].unique())\n",
    "grouped_KL = [impro_em[impro_em['entropy'] == entropy][\"KL_std\"].values for entropy in sorted(impro_em['entropy'].unique())]\n",
    "\n",
    "for i in range(len(labels)):\n",
    "    print(\"Number of instances for entropy = \", labels[i], \": \", len(grouped_KL[i]))\n",
    "\n",
    "plt.figure(facecolor='white')\n",
    "palette = sns.color_palette(\"husl\",3)  # 选择一个调色板\n",
    "\n",
    "fig, axs = plt.subplots(1, 3, figsize=(15, 5))\n",
    "\n",
    "boxprops = dict(edgecolor= \"gray\", linewidth=1.5)\n",
    "whiskerprops = dict(color= \"gray\", linewidth=1.5)\n",
    "capprops = dict(color= \"gray\", linewidth=1.5)\n",
    "\n",
    "# Customize the appearance of outliers\n",
    "flierprops = dict(marker='D', markersize = 2, linestyle = \"none\")\n",
    "\n",
    "box1 = sns.boxplot(x='entropy', y='KL', data=impro_em, ax=axs[0],palette = palette, width=0.4,\n",
    "                      boxprops=boxprops, whiskerprops=whiskerprops, capprops=capprops, flierprops= flierprops)\n",
    "#sns.stripplot(x='entropy', y='KL_std', data=eval_metrics_ts, ax=axs[0], color='black', jitter=True, alpha=0.4)\n",
    "median_color = \"black\"\n",
    "for i in [4, 10, 16]: \n",
    "    box1.get_lines()[i].set_color(median_color)\n",
    "    box1.get_lines()[i].set_linewidth(2)\n",
    "axs[0].set_ylabel('KL', fontsize = 14)\n",
    "axs[0].set_xlabel('Entropy', fontsize = 14)\n",
    "\n",
    "# BC\n",
    "box2 = sns.boxplot(x='entropy', y='BC', data=impro_em, ax=axs[1],palette = palette, width=0.4,\n",
    "                   boxprops=boxprops, whiskerprops=whiskerprops, capprops=capprops, flierprops= flierprops)\n",
    "#sns.stripplot(x='entropy', y='BC', data=eval_metrics_ts, ax=axs[1], color=\".25\", jitter=True, alpha=0.4)\n",
    "for i in [4, 10, 16]:  # 修改第一组、第二组和第三组的中位数线条\n",
    "    box2.get_lines()[i].set_color(median_color)\n",
    "    box2.get_lines()[i].set_linewidth(2)\n",
    "axs[1].set_ylabel('BC', fontsize = 14)\n",
    "axs[1].set_xlabel('Entropy', fontsize = 14)\n",
    "\n",
    "# R Square\n",
    "box3 = sns.boxplot(x='entropy', y='R_square', data=impro_em, ax=axs[2],palette = palette, width=0.4,\n",
    "                   boxprops=boxprops, whiskerprops=whiskerprops, capprops=capprops, flierprops= flierprops)\n",
    "#sns.stripplot(x='entropy', y='R_square', data=eval_metrics_ts, ax=axs[2], color=\".25\", jitter=True, alpha=0.4)\n",
    "for i in [4, 10, 16]:  # 修改第一组、第二组和第三组的中位数线条\n",
    "    box3.get_lines()[i].set_color(median_color)\n",
    "    box3.get_lines()[i].set_linewidth(2)\n",
    "axs[2].set_ylabel('R square', fontsize = 14)\n",
    "axs[2].set_xlabel('Entropy', fontsize = 14)\n",
    "\n",
    "plt.suptitle(\"Impro data\", fontsize = 18)\n",
    "plt.show()"
   ]
  },
  {
   "cell_type": "markdown",
   "metadata": {},
   "source": [
    "60%"
   ]
  },
  {
   "cell_type": "code",
   "execution_count": 19,
   "metadata": {},
   "outputs": [
    {
     "name": "stdout",
     "output_type": "stream",
     "text": [
      "Number of instances for entropy =  0.0 :  1153\n",
      "Number of instances for entropy =  0.9149 :  749\n",
      "Number of instances for entropy =  1.5835 :  20\n"
     ]
    },
    {
     "name": "stderr",
     "output_type": "stream",
     "text": [
      "/var/folders/gk/b497571d49ndglvgyk5sb53h0000gn/T/ipykernel_90929/522223438.py:3: UserWarning: Boolean Series key will be reindexed to match DataFrame index.\n",
      "  grouped_KL = [script_em[impro_em['entropy'] == entropy][\"KL_std\"].values for entropy in sorted(script_em['entropy'].unique())]\n",
      "/var/folders/gk/b497571d49ndglvgyk5sb53h0000gn/T/ipykernel_90929/522223438.py:3: UserWarning: Boolean Series key will be reindexed to match DataFrame index.\n",
      "  grouped_KL = [script_em[impro_em['entropy'] == entropy][\"KL_std\"].values for entropy in sorted(script_em['entropy'].unique())]\n",
      "/var/folders/gk/b497571d49ndglvgyk5sb53h0000gn/T/ipykernel_90929/522223438.py:3: UserWarning: Boolean Series key will be reindexed to match DataFrame index.\n",
      "  grouped_KL = [script_em[impro_em['entropy'] == entropy][\"KL_std\"].values for entropy in sorted(script_em['entropy'].unique())]\n"
     ]
    },
    {
     "data": {
      "text/plain": [
       "<Figure size 432x288 with 0 Axes>"
      ]
     },
     "metadata": {},
     "output_type": "display_data"
    },
    {
     "data": {
      "image/png": "[encoded data removed]",
      "text/plain": [
       "<Figure size 1080x360 with 3 Axes>"
      ]
     },
     "metadata": {
      "needs_background": "light"
     },
     "output_type": "display_data"
    }
   ],
   "source": [
    "# def sns_vial(data):\n",
    "labels = sorted(script_em['entropy'].unique())\n",
    "grouped_KL = [script_em[impro_em['entropy'] == entropy][\"KL_std\"].values for entropy in sorted(script_em['entropy'].unique())]\n",
    "\n",
    "for i in range(len(labels)):\n",
    "    print(\"Number of instances for entropy = \", labels[i], \": \", len(grouped_KL[i]))\n",
    "\n",
    "plt.figure(facecolor='white')\n",
    "palette = sns.color_palette(\"husl\",3)  # 选择一个调色板\n",
    "\n",
    "fig, axs = plt.subplots(1, 3, figsize=(15, 5))\n",
    "\n",
    "boxprops = dict(edgecolor= \"gray\", linewidth=1.5)\n",
    "whiskerprops = dict(color= \"gray\", linewidth=1.5)\n",
    "capprops = dict(color= \"gray\", linewidth=1.5)\n",
    "\n",
    "# Customize the appearance of outliers\n",
    "flierprops = dict(marker='D', markersize = 2, linestyle = \"none\")\n",
    "\n",
    "box1 = sns.boxplot(x='entropy', y='KL', data=script_em, ax=axs[0],palette = palette, width=0.4,\n",
    "                      boxprops=boxprops, whiskerprops=whiskerprops, capprops=capprops, flierprops= flierprops)\n",
    "#sns.stripplot(x='entropy', y='KL_std', data=eval_metrics_ts, ax=axs[0], color='black', jitter=True, alpha=0.4)\n",
    "median_color = \"black\"\n",
    "for i in [4, 10, 16]: \n",
    "    box1.get_lines()[i].set_color(median_color)\n",
    "    box1.get_lines()[i].set_linewidth(2)\n",
    "axs[0].set_ylabel('KL', fontsize = 14)\n",
    "axs[0].set_xlabel('Entropy', fontsize = 14)\n",
    "\n",
    "# BC\n",
    "box2 = sns.boxplot(x='entropy', y='BC', data=script_em, ax=axs[1],palette = palette, width=0.4,\n",
    "                   boxprops=boxprops, whiskerprops=whiskerprops, capprops=capprops, flierprops= flierprops)\n",
    "#sns.stripplot(x='entropy', y='BC', data=eval_metrics_ts, ax=axs[1], color=\".25\", jitter=True, alpha=0.4)\n",
    "for i in [4, 10, 16]:  # 修改第一组、第二组和第三组的中位数线条\n",
    "    box2.get_lines()[i].set_color(median_color)\n",
    "    box2.get_lines()[i].set_linewidth(2)\n",
    "axs[1].set_ylabel('BC', fontsize = 14)\n",
    "axs[1].set_xlabel('Entropy', fontsize = 14)\n",
    "\n",
    "# R Square\n",
    "box3 = sns.boxplot(x='entropy', y='R_square', data=script_em, ax=axs[2],palette = palette, width=0.4,\n",
    "                   boxprops=boxprops, whiskerprops=whiskerprops, capprops=capprops, flierprops= flierprops)\n",
    "#sns.stripplot(x='entropy', y='R_square', data=eval_metrics_ts, ax=axs[2], color=\".25\", jitter=True, alpha=0.4)\n",
    "for i in [4, 10, 16]:  # 修改第一组、第二组和第三组的中位数线条\n",
    "    box3.get_lines()[i].set_color(median_color)\n",
    "    box3.get_lines()[i].set_linewidth(2)\n",
    "axs[2].set_ylabel('R square', fontsize = 14)\n",
    "axs[2].set_xlabel('Entropy', fontsize = 14)\n",
    "\n",
    "plt.suptitle(\"Script data\", fontsize = 18)\n",
    "plt.show()"
   ]
  },
  {
   "cell_type": "code",
   "execution_count": null,
   "metadata": {},
   "outputs": [],
   "source": []
  },
  {
   "cell_type": "code",
   "execution_count": 51,
   "metadata": {},
   "outputs": [
    {
     "name": "stdout",
     "output_type": "stream",
     "text": [
      "Script data\n",
      "Mean of KL score:  9.51\n",
      "Mean of BC score:  55.83\n",
      "Mean of R square:  45.81\n",
      "Impro data\n",
      "Mean of KL score:  3.93\n",
      "Mean of BC score:  80.08\n",
      "Mean of R square:  68.88\n"
     ]
    }
   ],
   "source": [
    "print(\"Script data\")\n",
    "print(\"Mean of KL score: \", round(script_em['KL'].mean(),2))\n",
    "print(\"Mean of BC score: \", round(script_em['BC'].mean()*100,2))\n",
    "print(\"Mean of R square: \", round(script_em['R_square'].mean()*100,2))\n",
    "\n",
    "print(\"Impro data\")\n",
    "print(\"Mean of KL score: \", round(impro_em['KL'].mean(),2))\n",
    "print(\"Mean of BC score: \", round(impro_em['BC'].mean()*100,2))\n",
    "print(\"Mean of R square: \", round(impro_em['R_square'].mean()*100,2))"
   ]
  },
  {
   "cell_type": "code",
   "execution_count": 61,
   "metadata": {},
   "outputs": [
    {
     "data": {
      "text/plain": [
       "(1801, 1922)"
      ]
     },
     "execution_count": 61,
     "metadata": {},
     "output_type": "execute_result"
    }
   ],
   "source": [
    "len(script_em[script_em['entropy'] != 1.5835]), len(script_em)"
   ]
  },
  {
   "cell_type": "code",
   "execution_count": 63,
   "metadata": {},
   "outputs": [
    {
     "name": "stdout",
     "output_type": "stream",
     "text": [
      "Script data\n",
      "Number of utterances in script data without no majority voting label:  1801\n",
      "overall acc:  41.25\n",
      "overall W-F1:  38.75\n",
      "\n",
      "\n",
      "Impro data\n",
      "Number of utterances in script data without no majority voting label:  2422\n",
      "overall acc:  71.76\n",
      "overall W-F1:  72.34\n"
     ]
    },
    {
     "name": "stderr",
     "output_type": "stream",
     "text": [
      "/var/folders/gk/b497571d49ndglvgyk5sb53h0000gn/T/ipykernel_3727/1031935296.py:4: SettingWithCopyWarning: \n",
      "A value is trying to be set on a copy of a slice from a DataFrame.\n",
      "Try using .loc[row_indexer,col_indexer] = value instead\n",
      "\n",
      "See the caveats in the documentation: https://pandas.pydata.org/pandas-docs/stable/user_guide/indexing.html#returning-a-view-versus-a-copy\n",
      "  scirpt_em_2entropy['pred'] = scirpt_em_2entropy['prediction'].apply(lambda x: np.argmax(x))\n",
      "/var/folders/gk/b497571d49ndglvgyk5sb53h0000gn/T/ipykernel_3727/1031935296.py:5: SettingWithCopyWarning: \n",
      "A value is trying to be set on a copy of a slice from a DataFrame.\n",
      "Try using .loc[row_indexer,col_indexer] = value instead\n",
      "\n",
      "See the caveats in the documentation: https://pandas.pydata.org/pandas-docs/stable/user_guide/indexing.html#returning-a-view-versus-a-copy\n",
      "  scirpt_em_2entropy['true'] = scirpt_em_2entropy['ground_truth'].apply(lambda x: np.argmax(x))\n",
      "/var/folders/gk/b497571d49ndglvgyk5sb53h0000gn/T/ipykernel_3727/1031935296.py:15: SettingWithCopyWarning: \n",
      "A value is trying to be set on a copy of a slice from a DataFrame.\n",
      "Try using .loc[row_indexer,col_indexer] = value instead\n",
      "\n",
      "See the caveats in the documentation: https://pandas.pydata.org/pandas-docs/stable/user_guide/indexing.html#returning-a-view-versus-a-copy\n",
      "  impro_em_2entropy['pred'] = impro_em_2entropy['prediction'].apply(lambda x: np.argmax(x))\n",
      "/var/folders/gk/b497571d49ndglvgyk5sb53h0000gn/T/ipykernel_3727/1031935296.py:16: SettingWithCopyWarning: \n",
      "A value is trying to be set on a copy of a slice from a DataFrame.\n",
      "Try using .loc[row_indexer,col_indexer] = value instead\n",
      "\n",
      "See the caveats in the documentation: https://pandas.pydata.org/pandas-docs/stable/user_guide/indexing.html#returning-a-view-versus-a-copy\n",
      "  impro_em_2entropy['true'] = impro_em_2entropy['ground_truth'].apply(lambda x: np.argmax(x))\n"
     ]
    }
   ],
   "source": [
    "scirpt_em_2entropy = script_em[script_em['entropy'] != 1.5835]\n",
    "print(\"Script data\")\n",
    "print(\"Number of utterances in script data without no majority voting label: \", len(scirpt_em_2entropy))\n",
    "scirpt_em_2entropy['pred'] = scirpt_em_2entropy['prediction'].apply(lambda x: np.argmax(x))\n",
    "scirpt_em_2entropy['true'] = scirpt_em_2entropy['ground_truth'].apply(lambda x: np.argmax(x))\n",
    "\n",
    "print(\"overall acc: \", round((scirpt_em_2entropy['true'] == scirpt_em_2entropy['pred']).mean()*100,2))\n",
    "print(\"overall W-F1: \", round(f1_score(scirpt_em_2entropy['true'], scirpt_em_2entropy['pred'], average='weighted')*100,2))\n",
    "\n",
    "print(\"\\n\")\n",
    "\n",
    "impro_em_2entropy = impro_em[impro_em['entropy'] != 1.5835]\n",
    "print(\"Impro data\")\n",
    "print(\"Number of utterances in script data without no majority voting label: \", len(impro_em_2entropy))\n",
    "impro_em_2entropy['pred'] = impro_em_2entropy['prediction'].apply(lambda x: np.argmax(x))\n",
    "impro_em_2entropy['true'] = impro_em_2entropy['ground_truth'].apply(lambda x: np.argmax(x))\n",
    "\n",
    "print(\"overall acc: \", round((impro_em_2entropy['true'] == impro_em_2entropy['pred']).mean()*100,2))\n",
    "print(\"overall W-F1: \", round(f1_score(impro_em_2entropy['true'], impro_em_2entropy['pred'], average='weighted')*100,2))\n"
   ]
  },
  {
   "cell_type": "code",
   "execution_count": null,
   "metadata": {},
   "outputs": [],
   "source": []
  },
  {
   "cell_type": "code",
   "execution_count": null,
   "metadata": {},
   "outputs": [],
   "source": [
    "eval_metric = get_eval(pred, truth)\n",
    "eval_metric = add_entropy(eval_metric)\n",
    "entropy_vs_evalmetrics(eval_metric)\n",
    "print(\"Mean of KL score: \", eval_metric['KL'].mean())\n",
    "print(\"Mean of KL STD score: \", round(eval_metric['KL_std'].mean()*100,2))\n",
    "print(\"Mean of BC score: \", round(eval_metric['BC'].mean()*100,2))\n",
    "print(\"Mean of R square: \", round(eval_metric['R_square'].mean()*100,2))\n",
    "pred = np.array(pred)\n",
    "truth = np.array(truth)\n",
    "maj_pred_prob, maj_truth_prob, maj_pred_label, maj_truth_label = majority_agree(pred, truth)\n",
    "ece = ECE(pred, truth)\n",
    "acc = accuracy_score(maj_truth_label, maj_pred_label)\n",
    "print(\"ECE: \", round(ece[0]*100,2))\n",
    "print(\"UAC: \", round(acc*100,2))\n",
    "w_f1 = f1_score(maj_truth_label, maj_pred_label, average='weighted')\n",
    "print(\"Weighted F1: \", round(w_f1*100,2))"
   ]
  },
  {
   "cell_type": "code",
   "execution_count": null,
   "metadata": {},
   "outputs": [],
   "source": []
  },
  {
   "cell_type": "code",
   "execution_count": 108,
   "metadata": {},
   "outputs": [
    {
     "name": "stdout",
     "output_type": "stream",
     "text": [
      "Number of instances for entropy =  0.0 :  2410\n",
      "Number of instances for entropy =  0.9149 :  1813\n",
      "Number of instances for entropy =  1.5835 :  147\n",
      "Mean of KL score:  6.38670009153318\n",
      "Mean of KL STD score:  27.74\n",
      "Mean of BC score:  69.41\n",
      "Mean of R square:  58.73\n",
      "ECE:  28.88\n",
      "UAC:  57.96\n",
      "Weighted F1:  58.33\n",
      "overall acc:  58.75\n",
      "overall W-F1:  59.06\n",
      "entropy = 0.0: acc =  67.93\n",
      "entropy = 0.9149: acc =  46.55\n",
      "entropy = 0.0: W-F1 = : 68.55\n",
      "entropy = 0.9149: W-F1 =  46.64\n"
     ]
    },
    {
     "name": "stderr",
     "output_type": "stream",
     "text": [
      "/var/folders/gk/b497571d49ndglvgyk5sb53h0000gn/T/ipykernel_3727/2265982583.py:10: DeprecationWarning: DataFrameGroupBy.apply operated on the grouping columns. This behavior is deprecated, and in a future version of pandas the grouping columns will be excluded from the operation. Either pass `include_groups=False` to exclude the groupings or explicitly select the grouping columns after groupby to silence this warning.\n",
      "  acc_by_entropy = d_e.apply(lambda x: round((x['true'] == x['pred']).mean()*100,2))\n",
      "/var/folders/gk/b497571d49ndglvgyk5sb53h0000gn/T/ipykernel_3727/2265982583.py:15: DeprecationWarning: DataFrameGroupBy.apply operated on the grouping columns. This behavior is deprecated, and in a future version of pandas the grouping columns will be excluded from the operation. Either pass `include_groups=False` to exclude the groupings or explicitly select the grouping columns after groupby to silence this warning.\n",
      "  f1_by_group = d_e.apply(lambda x: round(f1_score(x['true'], x['pred'], average='weighted')*100,2))\n"
     ]
    },
    {
     "data": {
      "text/plain": [
       "<Figure size 432x288 with 0 Axes>"
      ]
     },
     "metadata": {},
     "output_type": "display_data"
    },
    {
     "data": {
      "image/png": "[encoded data removed]",
      "text/plain": [
       "<Figure size 1080x360 with 3 Axes>"
      ]
     },
     "metadata": {
      "needs_background": "light"
     },
     "output_type": "display_data"
    }
   ],
   "source": [
    "d = whole_eval(\"0831_c20_fs_at\")\n",
    "cal_vote_by_entropy(d)"
   ]
  },
  {
   "cell_type": "code",
   "execution_count": 104,
   "metadata": {},
   "outputs": [
    {
     "name": "stdout",
     "output_type": "stream",
     "text": [
      "Number of instances for entropy =  0.0 :  2410\n",
      "Number of instances for entropy =  0.9149 :  1813\n",
      "Number of instances for entropy =  1.5835 :  147\n",
      "Mean of KL score:  7.713840732265446\n",
      "Mean of KL STD score:  33.5\n",
      "Mean of BC score:  61.06\n",
      "Mean of R square:  55.32\n",
      "ECE:  40.19\n",
      "UAC:  53.52\n",
      "Weighted F1:  53.99\n",
      "overall acc:  54.42\n",
      "overall W-F1:  54.7\n",
      "entropy = 0.0: acc =  62.49\n",
      "entropy = 0.9149: acc =  43.68\n",
      "entropy = 0.0: W-F1 = : 62.99\n",
      "entropy = 0.9149: W-F1 =  44.31\n"
     ]
    },
    {
     "name": "stderr",
     "output_type": "stream",
     "text": [
      "/var/folders/gk/b497571d49ndglvgyk5sb53h0000gn/T/ipykernel_3727/2265982583.py:10: DeprecationWarning: DataFrameGroupBy.apply operated on the grouping columns. This behavior is deprecated, and in a future version of pandas the grouping columns will be excluded from the operation. Either pass `include_groups=False` to exclude the groupings or explicitly select the grouping columns after groupby to silence this warning.\n",
      "  acc_by_entropy = d_e.apply(lambda x: round((x['true'] == x['pred']).mean()*100,2))\n",
      "/var/folders/gk/b497571d49ndglvgyk5sb53h0000gn/T/ipykernel_3727/2265982583.py:15: DeprecationWarning: DataFrameGroupBy.apply operated on the grouping columns. This behavior is deprecated, and in a future version of pandas the grouping columns will be excluded from the operation. Either pass `include_groups=False` to exclude the groupings or explicitly select the grouping columns after groupby to silence this warning.\n",
      "  f1_by_group = d_e.apply(lambda x: round(f1_score(x['true'], x['pred'], average='weighted')*100,2))\n"
     ]
    },
    {
     "data": {
      "text/plain": [
       "<Figure size 432x288 with 0 Axes>"
      ]
     },
     "metadata": {},
     "output_type": "display_data"
    },
    {
     "data": {
      "image/png": "[encoded data removed]",
      "text/plain": [
       "<Figure size 1080x360 with 3 Axes>"
      ]
     },
     "metadata": {
      "needs_background": "light"
     },
     "output_type": "display_data"
    }
   ],
   "source": [
    "d = whole_eval(\"0830_c5_fewshot_v2\")\n",
    "cal_vote_by_entropy(d)"
   ]
  },
  {
   "cell_type": "code",
   "execution_count": null,
   "metadata": {},
   "outputs": [],
   "source": []
  },
  {
   "cell_type": "code",
   "execution_count": 68,
   "metadata": {},
   "outputs": [
    {
     "name": "stdout",
     "output_type": "stream",
     "text": [
      "context = 5, text only. zero-shot\n",
      "Number of instances for entropy =  0.0 :  2410\n",
      "Number of instances for entropy =  0.9149 :  1813\n",
      "Number of instances for entropy =  1.5835 :  147\n",
      "Mean of KL score:  11.383449542334096\n",
      "Mean of KL STD score:  49.44\n",
      "Mean of BC score:  45.7\n",
      "Mean of R square:  48.35\n",
      "ECE:  56.49\n",
      "UAC:  41.17\n",
      "Weighted F1:  41.04\n"
     ]
    },
    {
     "data": {
      "text/plain": [
       "<Figure size 432x288 with 0 Axes>"
      ]
     },
     "metadata": {},
     "output_type": "display_data"
    },
    {
     "data": {
      "image/png": "[encoded data removed]",
      "text/plain": [
       "<Figure size 1080x360 with 3 Axes>"
      ]
     },
     "metadata": {
      "needs_background": "light"
     },
     "output_type": "display_data"
    }
   ],
   "source": [
    "print(\"context = 5, text only. zero-shot\")\n",
    "a = whole_eval(\"0901_c5_text\")"
   ]
  },
  {
   "cell_type": "code",
   "execution_count": 74,
   "metadata": {},
   "outputs": [
    {
     "name": "stdout",
     "output_type": "stream",
     "text": [
      "Context = 5, audio+text, few-shot\n",
      "Number of instances for entropy =  0.0 :  2410\n",
      "Number of instances for entropy =  0.9149 :  1813\n",
      "Number of instances for entropy =  1.5835 :  147\n",
      "Mean of KL score:  3.907388352402746\n",
      "Mean of KL STD score:  33.94\n",
      "Sum of BC score:  61.06\n",
      "Sum of R square:  55.32\n",
      "ECE:  40.19\n",
      "UAC:  53.52\n",
      "Weighted F1:  53.99\n"
     ]
    },
    {
     "data": {
      "text/plain": [
       "<Figure size 432x288 with 0 Axes>"
      ]
     },
     "metadata": {},
     "output_type": "display_data"
    },
    {
     "data": {
      "image/png": "[encoded data removed]",
      "text/plain": [
       "<Figure size 1080x360 with 3 Axes>"
      ]
     },
     "metadata": {
      "needs_background": "light"
     },
     "output_type": "display_data"
    }
   ],
   "source": [
    "print(\"Context = 5, audio+text, few-shot\")\n",
    "a = whole_eval(\"0830_c5_fewshot_v2\")"
   ]
  },
  {
   "cell_type": "code",
   "execution_count": 52,
   "metadata": {},
   "outputs": [
    {
     "name": "stdout",
     "output_type": "stream",
     "text": [
      "Context = 10, audio + text, 0-shot\n",
      "Number of instances for entropy =  0.0 :  2410\n",
      "Number of instances for entropy =  0.9149 :  1813\n",
      "Number of instances for entropy =  1.5835 :  147\n",
      "Mean of KL score:  5.1415799313501145\n",
      "Mean of KL STD score:  44.66\n",
      "Sum of BC score:  50.45\n",
      "Sum of R square:  50.66\n",
      "ECE:  52.28\n",
      "UAC:  45.51\n",
      "Weighted F1:  46.56\n"
     ]
    },
    {
     "data": {
      "image/png": "[encoded data removed]",
      "text/plain": [
       "<Figure size 1080x360 with 3 Axes>"
      ]
     },
     "metadata": {
      "needs_background": "light"
     },
     "output_type": "display_data"
    }
   ],
   "source": [
    "print(\"Context = 10, audio + text, 0-shot\")\n",
    "eval_metrics_c10_a = whole_eval(\"0831_c10_audio\")"
   ]
  },
  {
   "cell_type": "code",
   "execution_count": 53,
   "metadata": {},
   "outputs": [
    {
     "name": "stdout",
     "output_type": "stream",
     "text": [
      "context = 10, audio+text, few-shot\n",
      "Number of instances for entropy =  0.0 :  2410\n",
      "Number of instances for entropy =  0.9149 :  1813\n",
      "Number of instances for entropy =  1.5835 :  147\n",
      "Mean of KL score:  3.4149015789473687\n",
      "Mean of KL STD score:  29.66\n",
      "Sum of BC score:  66.11\n",
      "Sum of R square:  57.81\n",
      "ECE:  34.11\n",
      "UAC:  56.68\n",
      "Weighted F1:  56.85\n"
     ]
    },
    {
     "data": {
      "image/png": "[encoded data removed]",
      "text/plain": [
       "<Figure size 1080x360 with 3 Axes>"
      ]
     },
     "metadata": {
      "needs_background": "light"
     },
     "output_type": "display_data"
    }
   ],
   "source": [
    "print(\"context = 10, audio+text, few-shot\")\n",
    "eval_metrics_c10_fs = whole_eval(\"0831_c10_fewshot\")"
   ]
  },
  {
   "cell_type": "code",
   "execution_count": 61,
   "metadata": {},
   "outputs": [
    {
     "name": "stdout",
     "output_type": "stream",
     "text": [
      "context = 15, aduio+text, few-shot\n",
      "Number of instances for entropy =  0.0 :  2410\n",
      "Number of instances for entropy =  0.9149 :  1813\n",
      "Number of instances for entropy =  1.5835 :  147\n",
      "Mean of KL score:  3.304992196796339\n",
      "Mean of KL STD score:  28.71\n",
      "Sum of BC score:  67.84\n",
      "Sum of R square:  58.05\n",
      "ECE:  31.79\n",
      "UAC:  56.64\n",
      "Weighted F1:  56.85\n"
     ]
    },
    {
     "data": {
      "image/png": "[encoded data removed]",
      "text/plain": [
       "<Figure size 1080x360 with 3 Axes>"
      ]
     },
     "metadata": {
      "needs_background": "light"
     },
     "output_type": "display_data"
    }
   ],
   "source": [
    "print(\"context = 15, aduio+text, few-shot\")\n",
    "eval_metrics_c10_text = whole_eval(\"0831_c15_fewshot\")"
   ]
  },
  {
   "cell_type": "code",
   "execution_count": 80,
   "metadata": {},
   "outputs": [
    {
     "name": "stdout",
     "output_type": "stream",
     "text": [
      "context = 20, text only, zero-shot\n",
      "Number of instances for entropy =  0.0 :  2410\n",
      "Number of instances for entropy =  0.9149 :  1813\n",
      "Number of instances for entropy =  1.5835 :  147\n",
      "Mean of KL score:  5.709281578947368\n",
      "Mean of KL STD score:  49.59\n",
      "Sum of BC score:  45.95\n",
      "Sum of R square:  48.87\n",
      "ECE:  56.2\n",
      "UAC:  41.97\n",
      "Weighted F1:  41.29\n"
     ]
    },
    {
     "data": {
      "text/plain": [
       "<Figure size 432x288 with 0 Axes>"
      ]
     },
     "metadata": {},
     "output_type": "display_data"
    },
    {
     "data": {
      "image/png": "[encoded data removed]",
      "text/plain": [
       "<Figure size 1080x360 with 3 Axes>"
      ]
     },
     "metadata": {
      "needs_background": "light"
     },
     "output_type": "display_data"
    }
   ],
   "source": [
    "print(\"context = 20, text only, zero-shot\")\n",
    "a =whole_eval(\"0901_c20_text\")\n"
   ]
  },
  {
   "cell_type": "code",
   "execution_count": 116,
   "metadata": {},
   "outputs": [
    {
     "name": "stdout",
     "output_type": "stream",
     "text": [
      "context = 20, aduio+text, few-shot\n",
      "Number of instances for entropy =  0.0 :  2410\n",
      "Number of instances for entropy =  0.9149 :  1813\n",
      "Number of instances for entropy =  1.5835 :  147\n",
      "Mean of KL score:  3.195699748283753\n",
      "Mean of KL STD score:  27.76\n",
      "Mean of BC score:  69.41\n",
      "Mean of R square:  58.73\n",
      "ECE:  28.88\n",
      "UAC:  57.96\n",
      "Weighted F1:  58.33\n"
     ]
    },
    {
     "data": {
      "text/plain": [
       "<Figure size 432x288 with 0 Axes>"
      ]
     },
     "metadata": {},
     "output_type": "display_data"
    },
    {
     "data": {
      "image/png": "[encoded data removed]",
      "text/plain": [
       "<Figure size 1080x360 with 3 Axes>"
      ]
     },
     "metadata": {
      "needs_background": "light"
     },
     "output_type": "display_data"
    }
   ],
   "source": [
    "print(\"context = 20, aduio+text, few-shot\")\n",
    "eval_metrics_c20_fs_at = whole_eval(\"0831_c20_fs_at\")"
   ]
  },
  {
   "cell_type": "markdown",
   "metadata": {},
   "source": [
    "* KL_std (1.000000) : ground truth and prediction are two totally different distribution\n",
    "* KL_std (0.96329367)\n",
    "* KL_std (0.956545) : ground truth ([0.0, 1.0, 0.0, 0.0]), prediction ([0.0, 0.0, 0.8, 0.2])\n",
    "* KL_std (0.94695562) \n",
    "* KL_std (0.9445149)\n",
    "* KL_std (0.904603): ground truth ([0.0, 1.0, 0.0, 0.0]), prediction ([0.33, 0.0, 0.33, 0.34])\n",
    "* KL_std (0.614931) : ground truth ([0.0, 1.0, 0.0, 0.0]), prediction ([0.67, 0.33, 0.0, 0.0])\n",
    "\n",
    " 0.75655346, 0.94493182,\n",
    "       0.70117259, 0.87177973, 0.8445149 , , 0.89468427"
   ]
  },
  {
   "cell_type": "code",
   "execution_count": 121,
   "metadata": {},
   "outputs": [
    {
     "data": {
      "text/html": [
       "<div>\n",
       "<style scoped>\n",
       "    .dataframe tbody tr th:only-of-type {\n",
       "        vertical-align: middle;\n",
       "    }\n",
       "\n",
       "    .dataframe tbody tr th {\n",
       "        vertical-align: top;\n",
       "    }\n",
       "\n",
       "    .dataframe thead th {\n",
       "        text-align: right;\n",
       "    }\n",
       "</style>\n",
       "<table border=\"1\" class=\"dataframe\">\n",
       "  <thead>\n",
       "    <tr style=\"text-align: right;\">\n",
       "      <th></th>\n",
       "      <th>ground_truth</th>\n",
       "      <th>prediction</th>\n",
       "      <th>KL</th>\n",
       "      <th>BC</th>\n",
       "      <th>R_square</th>\n",
       "      <th>KL_std</th>\n",
       "      <th>entropy</th>\n",
       "    </tr>\n",
       "  </thead>\n",
       "  <tbody>\n",
       "    <tr>\n",
       "      <th>43</th>\n",
       "      <td>[0.0, 1.0, 0.0, 0.0]</td>\n",
       "      <td>[0.67, 0.33, 0.0, 0.0]</td>\n",
       "      <td>7.0796</td>\n",
       "      <td>0.5745</td>\n",
       "      <td>0.0277</td>\n",
       "      <td>0.614931</td>\n",
       "      <td>0.0</td>\n",
       "    </tr>\n",
       "    <tr>\n",
       "      <th>60</th>\n",
       "      <td>[0.0, 1.0, 0.0, 0.0]</td>\n",
       "      <td>[0.67, 0.33, 0.0, 0.0]</td>\n",
       "      <td>7.0796</td>\n",
       "      <td>0.5745</td>\n",
       "      <td>0.0277</td>\n",
       "      <td>0.614931</td>\n",
       "      <td>0.0</td>\n",
       "    </tr>\n",
       "    <tr>\n",
       "      <th>88</th>\n",
       "      <td>[0.0, 0.0, 1.0, 0.0]</td>\n",
       "      <td>[0.67, 0.0, 0.33, 0.0]</td>\n",
       "      <td>7.0796</td>\n",
       "      <td>0.5745</td>\n",
       "      <td>0.0277</td>\n",
       "      <td>0.614931</td>\n",
       "      <td>0.0</td>\n",
       "    </tr>\n",
       "    <tr>\n",
       "      <th>179</th>\n",
       "      <td>[0.0, 1.0, 0.0, 0.0]</td>\n",
       "      <td>[0.67, 0.33, 0.0, 0.0]</td>\n",
       "      <td>7.0796</td>\n",
       "      <td>0.5745</td>\n",
       "      <td>0.0277</td>\n",
       "      <td>0.614931</td>\n",
       "      <td>0.0</td>\n",
       "    </tr>\n",
       "    <tr>\n",
       "      <th>184</th>\n",
       "      <td>[0.0, 1.0, 0.0, 0.0]</td>\n",
       "      <td>[0.67, 0.33, 0.0, 0.0]</td>\n",
       "      <td>7.0796</td>\n",
       "      <td>0.5745</td>\n",
       "      <td>0.0277</td>\n",
       "      <td>0.614931</td>\n",
       "      <td>0.0</td>\n",
       "    </tr>\n",
       "    <tr>\n",
       "      <th>...</th>\n",
       "      <td>...</td>\n",
       "      <td>...</td>\n",
       "      <td>...</td>\n",
       "      <td>...</td>\n",
       "      <td>...</td>\n",
       "      <td>...</td>\n",
       "      <td>...</td>\n",
       "    </tr>\n",
       "    <tr>\n",
       "      <th>4331</th>\n",
       "      <td>[0.0, 1.0, 0.0, 0.0]</td>\n",
       "      <td>[0.67, 0.33, 0.0, 0.0]</td>\n",
       "      <td>7.0796</td>\n",
       "      <td>0.5745</td>\n",
       "      <td>0.0277</td>\n",
       "      <td>0.614931</td>\n",
       "      <td>0.0</td>\n",
       "    </tr>\n",
       "    <tr>\n",
       "      <th>4332</th>\n",
       "      <td>[0.0, 1.0, 0.0, 0.0]</td>\n",
       "      <td>[0.67, 0.33, 0.0, 0.0]</td>\n",
       "      <td>7.0796</td>\n",
       "      <td>0.5745</td>\n",
       "      <td>0.0277</td>\n",
       "      <td>0.614931</td>\n",
       "      <td>0.0</td>\n",
       "    </tr>\n",
       "    <tr>\n",
       "      <th>4333</th>\n",
       "      <td>[0.0, 1.0, 0.0, 0.0]</td>\n",
       "      <td>[0.67, 0.33, 0.0, 0.0]</td>\n",
       "      <td>7.0796</td>\n",
       "      <td>0.5745</td>\n",
       "      <td>0.0277</td>\n",
       "      <td>0.614931</td>\n",
       "      <td>0.0</td>\n",
       "    </tr>\n",
       "    <tr>\n",
       "      <th>4337</th>\n",
       "      <td>[0.0, 1.0, 0.0, 0.0]</td>\n",
       "      <td>[0.67, 0.33, 0.0, 0.0]</td>\n",
       "      <td>7.0796</td>\n",
       "      <td>0.5745</td>\n",
       "      <td>0.0277</td>\n",
       "      <td>0.614931</td>\n",
       "      <td>0.0</td>\n",
       "    </tr>\n",
       "    <tr>\n",
       "      <th>4339</th>\n",
       "      <td>[0.0, 1.0, 0.0, 0.0]</td>\n",
       "      <td>[0.67, 0.33, 0.0, 0.0]</td>\n",
       "      <td>7.0796</td>\n",
       "      <td>0.5745</td>\n",
       "      <td>0.0277</td>\n",
       "      <td>0.614931</td>\n",
       "      <td>0.0</td>\n",
       "    </tr>\n",
       "  </tbody>\n",
       "</table>\n",
       "<p>213 rows × 7 columns</p>\n",
       "</div>"
      ],
      "text/plain": [
       "              ground_truth              prediction      KL      BC  R_square  \\\n",
       "43    [0.0, 1.0, 0.0, 0.0]  [0.67, 0.33, 0.0, 0.0]  7.0796  0.5745    0.0277   \n",
       "60    [0.0, 1.0, 0.0, 0.0]  [0.67, 0.33, 0.0, 0.0]  7.0796  0.5745    0.0277   \n",
       "88    [0.0, 0.0, 1.0, 0.0]  [0.67, 0.0, 0.33, 0.0]  7.0796  0.5745    0.0277   \n",
       "179   [0.0, 1.0, 0.0, 0.0]  [0.67, 0.33, 0.0, 0.0]  7.0796  0.5745    0.0277   \n",
       "184   [0.0, 1.0, 0.0, 0.0]  [0.67, 0.33, 0.0, 0.0]  7.0796  0.5745    0.0277   \n",
       "...                    ...                     ...     ...     ...       ...   \n",
       "4331  [0.0, 1.0, 0.0, 0.0]  [0.67, 0.33, 0.0, 0.0]  7.0796  0.5745    0.0277   \n",
       "4332  [0.0, 1.0, 0.0, 0.0]  [0.67, 0.33, 0.0, 0.0]  7.0796  0.5745    0.0277   \n",
       "4333  [0.0, 1.0, 0.0, 0.0]  [0.67, 0.33, 0.0, 0.0]  7.0796  0.5745    0.0277   \n",
       "4337  [0.0, 1.0, 0.0, 0.0]  [0.67, 0.33, 0.0, 0.0]  7.0796  0.5745    0.0277   \n",
       "4339  [0.0, 1.0, 0.0, 0.0]  [0.67, 0.33, 0.0, 0.0]  7.0796  0.5745    0.0277   \n",
       "\n",
       "        KL_std  entropy  \n",
       "43    0.614931      0.0  \n",
       "60    0.614931      0.0  \n",
       "88    0.614931      0.0  \n",
       "179   0.614931      0.0  \n",
       "184   0.614931      0.0  \n",
       "...        ...      ...  \n",
       "4331  0.614931      0.0  \n",
       "4332  0.614931      0.0  \n",
       "4333  0.614931      0.0  \n",
       "4337  0.614931      0.0  \n",
       "4339  0.614931      0.0  \n",
       "\n",
       "[213 rows x 7 columns]"
      ]
     },
     "execution_count": 121,
     "metadata": {},
     "output_type": "execute_result"
    }
   ],
   "source": [
    "eval_metrics_c20_fs_at.loc[(eval_metrics_c20_fs_at['entropy'] == 0.0000) & \n",
    "                                         (eval_metrics_c20_fs_at['KL_std'] == 0.614931)]"
   ]
  },
  {
   "cell_type": "code",
   "execution_count": 68,
   "metadata": {},
   "outputs": [
    {
     "name": "stdout",
     "output_type": "stream",
     "text": [
      "context = 20, only text, few-shot\n",
      "Number of instances for entropy =  0.0 :  2410\n",
      "Number of instances for entropy =  0.9149 :  1813\n",
      "Number of instances for entropy =  1.5835 :  147\n",
      "Mean of KL score:  3.5097947826086955\n",
      "Mean of KL STD score:  30.49\n",
      "Sum of BC score:  66.67\n",
      "Sum of R square:  57.9\n",
      "ECE:  30.73\n",
      "UAC:  56.96\n",
      "Weighted F1:  57.6\n"
     ]
    },
    {
     "data": {
      "image/png": "[encoded data removed]",
      "text/plain": [
       "<Figure size 1080x360 with 3 Axes>"
      ]
     },
     "metadata": {
      "needs_background": "light"
     },
     "output_type": "display_data"
    }
   ],
   "source": [
    "print(\"context = 20, only text, few-shot\")\n",
    "a = whole_eval(\"0901_c20_fs_noaudio\")"
   ]
  },
  {
   "cell_type": "code",
   "execution_count": 14,
   "metadata": {},
   "outputs": [
    {
     "name": "stdout",
     "output_type": "stream",
     "text": [
      "context = 20, audio+text, zero-shot\n"
     ]
    },
    {
     "name": "stderr",
     "output_type": "stream",
     "text": [
      "/Users/macbookpro/Documents/Research Project/LLM_Ambiguous_Emotion/eval_metrics.py:12: RuntimeWarning: divide by zero encountered in log\n",
      "  KL_value = np.sum(np.where(a != 0, a * np.log(a / b), 0))\n",
      "/Users/macbookpro/Documents/Research Project/LLM_Ambiguous_Emotion/eval_metrics.py:12: RuntimeWarning: invalid value encountered in multiply\n",
      "  KL_value = np.sum(np.where(a != 0, a * np.log(a / b), 0))\n"
     ]
    },
    {
     "name": "stdout",
     "output_type": "stream",
     "text": [
      "Number of instances for entropy =  0.0 :  2410\n",
      "Number of instances for entropy =  0.9149 :  1813\n",
      "Number of instances for entropy =  1.5835 :  147\n",
      "Mean of JS 0.47\n",
      "Mean of BC score:  0.51\n",
      "Mean of R square:  0.51\n",
      "ECE:  51.21\n",
      "UAC:  46.75\n",
      "Weighted F1:  47.89\n"
     ]
    },
    {
     "data": {
      "text/plain": [
       "<Figure size 432x288 with 0 Axes>"
      ]
     },
     "metadata": {},
     "output_type": "display_data"
    },
    {
     "data": {
      "image/png": "[encoded data removed]",
      "text/plain": [
       "<Figure size 1080x360 with 3 Axes>"
      ]
     },
     "metadata": {
      "needs_background": "light"
     },
     "output_type": "display_data"
    }
   ],
   "source": [
    "print(\"context = 20, audio+text, zero-shot\")\n",
    "a = whole_eval(\"0901_c20_audio\")"
   ]
  },
  {
   "cell_type": "code",
   "execution_count": 63,
   "metadata": {},
   "outputs": [
    {
     "name": "stdout",
     "output_type": "stream",
     "text": [
      "context = 25, aduio+text, few-shot\n",
      "Number of instances for entropy =  0.0 :  2410\n",
      "Number of instances for entropy =  0.9149 :  1813\n",
      "Number of instances for entropy =  1.5835 :  147\n",
      "Mean of KL score:  3.265397254004577\n",
      "Mean of KL STD score:  28.36\n",
      "Sum of BC score:  69.53\n",
      "Sum of R square:  58.45\n",
      "ECE:  27.77\n",
      "UAC:  57.39\n",
      "Weighted F1:  57.9\n"
     ]
    },
    {
     "data": {
      "image/png": "[encoded data removed]",
      "text/plain": [
       "<Figure size 1080x360 with 3 Axes>"
      ]
     },
     "metadata": {
      "needs_background": "light"
     },
     "output_type": "display_data"
    }
   ],
   "source": [
    "print(\"context = 25, aduio+text, few-shot\")\n",
    "eval_metrics_c10_text = whole_eval(\"0831_c25_fs_at\")"
   ]
  },
  {
   "cell_type": "code",
   "execution_count": 75,
   "metadata": {},
   "outputs": [
    {
     "name": "stdout",
     "output_type": "stream",
     "text": [
      "context = 30, aduio+text, few-shot\n",
      "Number of instances for entropy =  0.0 :  2410\n",
      "Number of instances for entropy =  0.9149 :  1813\n",
      "Number of instances for entropy =  1.5835 :  147\n",
      "Mean of KL score:  3.268999908466819\n",
      "Mean of KL STD score:  28.39\n",
      "Sum of BC score:  69.71\n",
      "Sum of R square:  58.13\n",
      "ECE:  26.91\n",
      "UAC:  57.35\n",
      "Weighted F1:  58.0\n"
     ]
    },
    {
     "data": {
      "text/plain": [
       "<Figure size 432x288 with 0 Axes>"
      ]
     },
     "metadata": {},
     "output_type": "display_data"
    },
    {
     "data": {
      "image/png": "[encoded data removed]",
      "text/plain": [
       "<Figure size 1080x360 with 3 Axes>"
      ]
     },
     "metadata": {
      "needs_background": "light"
     },
     "output_type": "display_data"
    }
   ],
   "source": [
    "print(\"context = 30, aduio+text, few-shot\")\n",
    "eval_metrics_c10_text = whole_eval(\"0831_c30_fs_at\")"
   ]
  },
  {
   "cell_type": "code",
   "execution_count": 79,
   "metadata": {},
   "outputs": [
    {
     "name": "stdout",
     "output_type": "stream",
     "text": [
      "context = 5, text only, few shot\n",
      "Number of instances for entropy =  0.0 :  2410\n",
      "Number of instances for entropy =  0.9149 :  1813\n",
      "Number of instances for entropy =  1.5835 :  147\n",
      "Mean of KL score:  4.223305469107552\n",
      "Mean of KL STD score:  36.68\n",
      "Sum of BC score:  58.73\n",
      "Sum of R square:  54.82\n",
      "ECE:  42.32\n",
      "UAC:  51.88\n",
      "Weighted F1:  52.88\n"
     ]
    },
    {
     "data": {
      "text/plain": [
       "<Figure size 432x288 with 0 Axes>"
      ]
     },
     "metadata": {},
     "output_type": "display_data"
    },
    {
     "data": {
      "image/png": "[encoded data removed]",
      "text/plain": [
       "<Figure size 1080x360 with 3 Axes>"
      ]
     },
     "metadata": {
      "needs_background": "light"
     },
     "output_type": "display_data"
    }
   ],
   "source": [
    "print(\"context = 5, text only, few shot\")\n",
    "a = whole_eval(\"0831_c5_fs_noaudio\")"
   ]
  },
  {
   "cell_type": "code",
   "execution_count": 78,
   "metadata": {},
   "outputs": [
    {
     "name": "stdout",
     "output_type": "stream",
     "text": [
      "context = 5, audio+text, zero shot\n",
      "Number of instances for entropy =  0.0 :  2410\n",
      "Number of instances for entropy =  0.9149 :  1813\n",
      "Number of instances for entropy =  1.5835 :  147\n",
      "Mean of KL score:  5.1841911441647595\n",
      "Mean of KL STD score:  45.03\n",
      "Sum of BC score:  49.91\n",
      "Sum of R square:  49.84\n",
      "ECE:  52.79\n",
      "UAC:  44.76\n",
      "Weighted F1:  45.7\n"
     ]
    },
    {
     "data": {
      "text/plain": [
       "<Figure size 432x288 with 0 Axes>"
      ]
     },
     "metadata": {},
     "output_type": "display_data"
    },
    {
     "data": {
      "image/png": "[encoded data removed]",
      "text/plain": [
       "<Figure size 1080x360 with 3 Axes>"
      ]
     },
     "metadata": {
      "needs_background": "light"
     },
     "output_type": "display_data"
    }
   ],
   "source": [
    "print(\"context = 5, audio+text, zero shot\")\n",
    "eval_metrics_c10_fs_text = whole_eval(\"0830_c5_audio\")"
   ]
  },
  {
   "cell_type": "code",
   "execution_count": 55,
   "metadata": {},
   "outputs": [
    {
     "name": "stdout",
     "output_type": "stream",
     "text": [
      "context = 5, few show, only text\n",
      "Number of instances for entropy =  0.0 :  2410\n",
      "Number of instances for entropy =  0.9149 :  1813\n",
      "Number of instances for entropy =  1.5835 :  147\n",
      "Mean of KL score:  4.223305469107552\n",
      "Mean of KL STD score:  36.68\n",
      "Sum of BC score:  58.73\n",
      "Sum of R square:  54.82\n",
      "ECE:  42.32\n",
      "UAC:  51.88\n",
      "Weighted F1:  52.88\n"
     ]
    },
    {
     "data": {
      "image/png": "[encoded data removed]",
      "text/plain": [
       "<Figure size 1080x360 with 3 Axes>"
      ]
     },
     "metadata": {
      "needs_background": "light"
     },
     "output_type": "display_data"
    }
   ],
   "source": [
    "print(\"context = 5, few show, only text\")\n",
    "eval_metrics_c5_fs_text = whole_eval(\"0831_c5_fs_noaudio\")"
   ]
  },
  {
   "cell_type": "code",
   "execution_count": 60,
   "metadata": {},
   "outputs": [
    {
     "name": "stdout",
     "output_type": "stream",
     "text": [
      "context = 15, aduio+text, few-shot\n",
      "Number of instances for entropy =  0.0 :  2410\n",
      "Number of instances for entropy =  0.9149 :  1813\n",
      "Number of instances for entropy =  1.5835 :  147\n",
      "Mean of KL score:  3.304992196796339\n",
      "Mean of KL STD score:  28.71\n",
      "Sum of BC score:  67.84\n",
      "Sum of R square:  58.05\n",
      "ECE:  31.79\n",
      "UAC:  56.64\n",
      "Weighted F1:  56.85\n"
     ]
    },
    {
     "data": {
      "image/png": "[encoded data removed]",
      "text/plain": [
       "<Figure size 1080x360 with 3 Axes>"
      ]
     },
     "metadata": {
      "needs_background": "light"
     },
     "output_type": "display_data"
    }
   ],
   "source": []
  },
  {
   "cell_type": "code",
   "execution_count": 59,
   "metadata": {},
   "outputs": [
    {
     "name": "stdout",
     "output_type": "stream",
     "text": [
      "context = 15, audio+text, few shot\n"
     ]
    },
    {
     "ename": "FileNotFoundError",
     "evalue": "[Errno 2] No such file or directory: './prediction/0831_c15_fewshot/pred.csv'",
     "output_type": "error",
     "traceback": [
      "\u001b[0;31m---------------------------------------------------------------------------\u001b[0m",
      "\u001b[0;31mFileNotFoundError\u001b[0m                         Traceback (most recent call last)",
      "\u001b[0;32m/var/folders/gk/b497571d49ndglvgyk5sb53h0000gn/T/ipykernel_16565/1509994754.py\u001b[0m in \u001b[0;36m<module>\u001b[0;34m\u001b[0m\n\u001b[1;32m      1\u001b[0m \u001b[0mprint\u001b[0m\u001b[0;34m(\u001b[0m\u001b[0;34m\"context = 15, audio+text, few shot\"\u001b[0m\u001b[0;34m)\u001b[0m\u001b[0;34m\u001b[0m\u001b[0;34m\u001b[0m\u001b[0m\n\u001b[0;32m----> 2\u001b[0;31m \u001b[0meval_metrics\u001b[0m \u001b[0;34m=\u001b[0m \u001b[0mwhole_eval\u001b[0m\u001b[0;34m(\u001b[0m\u001b[0;34m\"0831_c15_fewshot\"\u001b[0m\u001b[0;34m)\u001b[0m\u001b[0;34m\u001b[0m\u001b[0;34m\u001b[0m\u001b[0m\n\u001b[0m",
      "\u001b[0;32m/var/folders/gk/b497571d49ndglvgyk5sb53h0000gn/T/ipykernel_16565/3324941941.py\u001b[0m in \u001b[0;36mwhole_eval\u001b[0;34m(path)\u001b[0m\n\u001b[1;32m      1\u001b[0m \u001b[0;32mdef\u001b[0m \u001b[0mwhole_eval\u001b[0m\u001b[0;34m(\u001b[0m\u001b[0mpath\u001b[0m\u001b[0;34m)\u001b[0m\u001b[0;34m:\u001b[0m\u001b[0;34m\u001b[0m\u001b[0;34m\u001b[0m\u001b[0m\n\u001b[1;32m      2\u001b[0m     \u001b[0mpath\u001b[0m \u001b[0;34m=\u001b[0m \u001b[0;34m\"prediction/\"\u001b[0m \u001b[0;34m+\u001b[0m \u001b[0mpath\u001b[0m\u001b[0;34m\u001b[0m\u001b[0;34m\u001b[0m\u001b[0m\n\u001b[0;32m----> 3\u001b[0;31m     \u001b[0mpred\u001b[0m\u001b[0;34m,\u001b[0m \u001b[0mtruth\u001b[0m\u001b[0;34m,\u001b[0m \u001b[0mlog\u001b[0m \u001b[0;34m=\u001b[0m \u001b[0mget_results\u001b[0m\u001b[0;34m(\u001b[0m\u001b[0mpath\u001b[0m\u001b[0;34m)\u001b[0m\u001b[0;34m\u001b[0m\u001b[0;34m\u001b[0m\u001b[0m\n\u001b[0m\u001b[1;32m      4\u001b[0m     \u001b[0meval_metric\u001b[0m \u001b[0;34m=\u001b[0m \u001b[0mget_eval\u001b[0m\u001b[0;34m(\u001b[0m\u001b[0mpred\u001b[0m\u001b[0;34m,\u001b[0m \u001b[0mtruth\u001b[0m\u001b[0;34m)\u001b[0m\u001b[0;34m\u001b[0m\u001b[0;34m\u001b[0m\u001b[0m\n\u001b[1;32m      5\u001b[0m     \u001b[0;32massert\u001b[0m \u001b[0mlen\u001b[0m\u001b[0;34m(\u001b[0m\u001b[0meval_metric\u001b[0m\u001b[0;34m)\u001b[0m \u001b[0;34m==\u001b[0m \u001b[0;36m4370\u001b[0m\u001b[0;34m\u001b[0m\u001b[0;34m\u001b[0m\u001b[0m\n",
      "\u001b[0;32m/var/folders/gk/b497571d49ndglvgyk5sb53h0000gn/T/ipykernel_16565/3424676471.py\u001b[0m in \u001b[0;36mget_results\u001b[0;34m(folder_path)\u001b[0m\n\u001b[1;32m      1\u001b[0m \u001b[0;32mdef\u001b[0m \u001b[0mget_results\u001b[0m\u001b[0;34m(\u001b[0m\u001b[0mfolder_path\u001b[0m\u001b[0;34m)\u001b[0m\u001b[0;34m:\u001b[0m\u001b[0;34m\u001b[0m\u001b[0;34m\u001b[0m\u001b[0m\n\u001b[0;32m----> 2\u001b[0;31m     \u001b[0mpred_data\u001b[0m \u001b[0;34m=\u001b[0m \u001b[0mpd\u001b[0m\u001b[0;34m.\u001b[0m\u001b[0mread_csv\u001b[0m\u001b[0;34m(\u001b[0m\u001b[0;34mf'./{folder_path}/pred.csv'\u001b[0m\u001b[0;34m,\u001b[0m \u001b[0mnames\u001b[0m\u001b[0;34m=\u001b[0m\u001b[0;34m[\u001b[0m\u001b[0;34m\"neutral\"\u001b[0m\u001b[0;34m,\u001b[0m \u001b[0;34m\"happy\"\u001b[0m\u001b[0;34m,\u001b[0m \u001b[0;34m\"angry\"\u001b[0m\u001b[0;34m,\u001b[0m \u001b[0;34m\"sad\"\u001b[0m\u001b[0;34m]\u001b[0m\u001b[0;34m)\u001b[0m\u001b[0;34m\u001b[0m\u001b[0;34m\u001b[0m\u001b[0m\n\u001b[0m\u001b[1;32m      3\u001b[0m     \u001b[0mtruth_data\u001b[0m \u001b[0;34m=\u001b[0m \u001b[0mpd\u001b[0m\u001b[0;34m.\u001b[0m\u001b[0mread_csv\u001b[0m\u001b[0;34m(\u001b[0m\u001b[0;34mf'./{folder_path}/truth.csv'\u001b[0m\u001b[0;34m,\u001b[0m \u001b[0mnames\u001b[0m\u001b[0;34m=\u001b[0m\u001b[0;34m[\u001b[0m\u001b[0;34m\"neutral\"\u001b[0m\u001b[0;34m,\u001b[0m \u001b[0;34m\"happy\"\u001b[0m\u001b[0;34m,\u001b[0m \u001b[0;34m\"angry\"\u001b[0m\u001b[0;34m,\u001b[0m \u001b[0;34m\"sad\"\u001b[0m\u001b[0;34m]\u001b[0m\u001b[0;34m)\u001b[0m\u001b[0;34m\u001b[0m\u001b[0;34m\u001b[0m\u001b[0m\n\u001b[1;32m      4\u001b[0m     \u001b[0mlog\u001b[0m \u001b[0;34m=\u001b[0m \u001b[0mjson\u001b[0m\u001b[0;34m.\u001b[0m\u001b[0mload\u001b[0m\u001b[0;34m(\u001b[0m\u001b[0mopen\u001b[0m\u001b[0;34m(\u001b[0m\u001b[0;34mf'./{folder_path}/log.json'\u001b[0m\u001b[0;34m)\u001b[0m\u001b[0;34m)\u001b[0m\u001b[0;34m\u001b[0m\u001b[0;34m\u001b[0m\u001b[0m\n\u001b[1;32m      5\u001b[0m     \u001b[0mpred\u001b[0m \u001b[0;34m=\u001b[0m \u001b[0mpred_data\u001b[0m\u001b[0;34m.\u001b[0m\u001b[0mvalues\u001b[0m\u001b[0;34m.\u001b[0m\u001b[0mtolist\u001b[0m\u001b[0;34m(\u001b[0m\u001b[0;34m)\u001b[0m\u001b[0;34m\u001b[0m\u001b[0;34m\u001b[0m\u001b[0m\n",
      "\u001b[0;32m/opt/anaconda3/lib/python3.9/site-packages/pandas/io/parsers/readers.py\u001b[0m in \u001b[0;36mread_csv\u001b[0;34m(filepath_or_buffer, sep, delimiter, header, names, index_col, usecols, dtype, engine, converters, true_values, false_values, skipinitialspace, skiprows, skipfooter, nrows, na_values, keep_default_na, na_filter, verbose, skip_blank_lines, parse_dates, infer_datetime_format, keep_date_col, date_parser, date_format, dayfirst, cache_dates, iterator, chunksize, compression, thousands, decimal, lineterminator, quotechar, quoting, doublequote, escapechar, comment, encoding, encoding_errors, dialect, on_bad_lines, delim_whitespace, low_memory, memory_map, float_precision, storage_options, dtype_backend)\u001b[0m\n\u001b[1;32m   1024\u001b[0m     \u001b[0mkwds\u001b[0m\u001b[0;34m.\u001b[0m\u001b[0mupdate\u001b[0m\u001b[0;34m(\u001b[0m\u001b[0mkwds_defaults\u001b[0m\u001b[0;34m)\u001b[0m\u001b[0;34m\u001b[0m\u001b[0;34m\u001b[0m\u001b[0m\n\u001b[1;32m   1025\u001b[0m \u001b[0;34m\u001b[0m\u001b[0m\n\u001b[0;32m-> 1026\u001b[0;31m     \u001b[0;32mreturn\u001b[0m \u001b[0m_read\u001b[0m\u001b[0;34m(\u001b[0m\u001b[0mfilepath_or_buffer\u001b[0m\u001b[0;34m,\u001b[0m \u001b[0mkwds\u001b[0m\u001b[0;34m)\u001b[0m\u001b[0;34m\u001b[0m\u001b[0;34m\u001b[0m\u001b[0m\n\u001b[0m\u001b[1;32m   1027\u001b[0m \u001b[0;34m\u001b[0m\u001b[0m\n\u001b[1;32m   1028\u001b[0m \u001b[0;34m\u001b[0m\u001b[0m\n",
      "\u001b[0;32m/opt/anaconda3/lib/python3.9/site-packages/pandas/io/parsers/readers.py\u001b[0m in \u001b[0;36m_read\u001b[0;34m(filepath_or_buffer, kwds)\u001b[0m\n\u001b[1;32m    618\u001b[0m \u001b[0;34m\u001b[0m\u001b[0m\n\u001b[1;32m    619\u001b[0m     \u001b[0;31m# Create the parser.\u001b[0m\u001b[0;34m\u001b[0m\u001b[0;34m\u001b[0m\u001b[0m\n\u001b[0;32m--> 620\u001b[0;31m     \u001b[0mparser\u001b[0m \u001b[0;34m=\u001b[0m \u001b[0mTextFileReader\u001b[0m\u001b[0;34m(\u001b[0m\u001b[0mfilepath_or_buffer\u001b[0m\u001b[0;34m,\u001b[0m \u001b[0;34m**\u001b[0m\u001b[0mkwds\u001b[0m\u001b[0;34m)\u001b[0m\u001b[0;34m\u001b[0m\u001b[0;34m\u001b[0m\u001b[0m\n\u001b[0m\u001b[1;32m    621\u001b[0m \u001b[0;34m\u001b[0m\u001b[0m\n\u001b[1;32m    622\u001b[0m     \u001b[0;32mif\u001b[0m \u001b[0mchunksize\u001b[0m \u001b[0;32mor\u001b[0m \u001b[0miterator\u001b[0m\u001b[0;34m:\u001b[0m\u001b[0;34m\u001b[0m\u001b[0;34m\u001b[0m\u001b[0m\n",
      "\u001b[0;32m/opt/anaconda3/lib/python3.9/site-packages/pandas/io/parsers/readers.py\u001b[0m in \u001b[0;36m__init__\u001b[0;34m(self, f, engine, **kwds)\u001b[0m\n\u001b[1;32m   1618\u001b[0m \u001b[0;34m\u001b[0m\u001b[0m\n\u001b[1;32m   1619\u001b[0m         \u001b[0mself\u001b[0m\u001b[0;34m.\u001b[0m\u001b[0mhandles\u001b[0m\u001b[0;34m:\u001b[0m \u001b[0mIOHandles\u001b[0m \u001b[0;34m|\u001b[0m \u001b[0;32mNone\u001b[0m \u001b[0;34m=\u001b[0m \u001b[0;32mNone\u001b[0m\u001b[0;34m\u001b[0m\u001b[0;34m\u001b[0m\u001b[0m\n\u001b[0;32m-> 1620\u001b[0;31m         \u001b[0mself\u001b[0m\u001b[0;34m.\u001b[0m\u001b[0m_engine\u001b[0m \u001b[0;34m=\u001b[0m \u001b[0mself\u001b[0m\u001b[0;34m.\u001b[0m\u001b[0m_make_engine\u001b[0m\u001b[0;34m(\u001b[0m\u001b[0mf\u001b[0m\u001b[0;34m,\u001b[0m \u001b[0mself\u001b[0m\u001b[0;34m.\u001b[0m\u001b[0mengine\u001b[0m\u001b[0;34m)\u001b[0m\u001b[0;34m\u001b[0m\u001b[0;34m\u001b[0m\u001b[0m\n\u001b[0m\u001b[1;32m   1621\u001b[0m \u001b[0;34m\u001b[0m\u001b[0m\n\u001b[1;32m   1622\u001b[0m     \u001b[0;32mdef\u001b[0m \u001b[0mclose\u001b[0m\u001b[0;34m(\u001b[0m\u001b[0mself\u001b[0m\u001b[0;34m)\u001b[0m \u001b[0;34m->\u001b[0m \u001b[0;32mNone\u001b[0m\u001b[0;34m:\u001b[0m\u001b[0;34m\u001b[0m\u001b[0;34m\u001b[0m\u001b[0m\n",
      "\u001b[0;32m/opt/anaconda3/lib/python3.9/site-packages/pandas/io/parsers/readers.py\u001b[0m in \u001b[0;36m_make_engine\u001b[0;34m(self, f, engine)\u001b[0m\n\u001b[1;32m   1878\u001b[0m                 \u001b[0;32mif\u001b[0m \u001b[0;34m\"b\"\u001b[0m \u001b[0;32mnot\u001b[0m \u001b[0;32min\u001b[0m \u001b[0mmode\u001b[0m\u001b[0;34m:\u001b[0m\u001b[0;34m\u001b[0m\u001b[0;34m\u001b[0m\u001b[0m\n\u001b[1;32m   1879\u001b[0m                     \u001b[0mmode\u001b[0m \u001b[0;34m+=\u001b[0m \u001b[0;34m\"b\"\u001b[0m\u001b[0;34m\u001b[0m\u001b[0;34m\u001b[0m\u001b[0m\n\u001b[0;32m-> 1880\u001b[0;31m             self.handles = get_handle(\n\u001b[0m\u001b[1;32m   1881\u001b[0m                 \u001b[0mf\u001b[0m\u001b[0;34m,\u001b[0m\u001b[0;34m\u001b[0m\u001b[0;34m\u001b[0m\u001b[0m\n\u001b[1;32m   1882\u001b[0m                 \u001b[0mmode\u001b[0m\u001b[0;34m,\u001b[0m\u001b[0;34m\u001b[0m\u001b[0;34m\u001b[0m\u001b[0m\n",
      "\u001b[0;32m/opt/anaconda3/lib/python3.9/site-packages/pandas/io/common.py\u001b[0m in \u001b[0;36mget_handle\u001b[0;34m(path_or_buf, mode, encoding, compression, memory_map, is_text, errors, storage_options)\u001b[0m\n\u001b[1;32m    871\u001b[0m         \u001b[0;32mif\u001b[0m \u001b[0mioargs\u001b[0m\u001b[0;34m.\u001b[0m\u001b[0mencoding\u001b[0m \u001b[0;32mand\u001b[0m \u001b[0;34m\"b\"\u001b[0m \u001b[0;32mnot\u001b[0m \u001b[0;32min\u001b[0m \u001b[0mioargs\u001b[0m\u001b[0;34m.\u001b[0m\u001b[0mmode\u001b[0m\u001b[0;34m:\u001b[0m\u001b[0;34m\u001b[0m\u001b[0;34m\u001b[0m\u001b[0m\n\u001b[1;32m    872\u001b[0m             \u001b[0;31m# Encoding\u001b[0m\u001b[0;34m\u001b[0m\u001b[0;34m\u001b[0m\u001b[0m\n\u001b[0;32m--> 873\u001b[0;31m             handle = open(\n\u001b[0m\u001b[1;32m    874\u001b[0m                 \u001b[0mhandle\u001b[0m\u001b[0;34m,\u001b[0m\u001b[0;34m\u001b[0m\u001b[0;34m\u001b[0m\u001b[0m\n\u001b[1;32m    875\u001b[0m                 \u001b[0mioargs\u001b[0m\u001b[0;34m.\u001b[0m\u001b[0mmode\u001b[0m\u001b[0;34m,\u001b[0m\u001b[0;34m\u001b[0m\u001b[0;34m\u001b[0m\u001b[0m\n",
      "\u001b[0;31mFileNotFoundError\u001b[0m: [Errno 2] No such file or directory: './prediction/0831_c15_fewshot/pred.csv'"
     ]
    }
   ],
   "source": [
    "print(\"context = 15, audio+text, few shot\")\n",
    "eval_metrics = whole_eval(\"0831_c15_fewshot\")"
   ]
  },
  {
   "cell_type": "code",
   "execution_count": null,
   "metadata": {},
   "outputs": [],
   "source": []
  }
 ],
 "metadata": {
  "kernelspec": {
   "display_name": "base",
   "language": "python",
   "name": "python3"
  },
  "language_info": {
   "codemirror_mode": {
    "name": "ipython",
    "version": 3
   },
   "file_extension": ".py",
   "mimetype": "text/x-python",
   "name": "python",
   "nbconvert_exporter": "python",
   "pygments_lexer": "ipython3",
   "version": "3.12.4"
  }
 },
 "nbformat": 4,
 "nbformat_minor": 2
}
